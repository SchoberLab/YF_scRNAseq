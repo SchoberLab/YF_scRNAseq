{
 "cells": [
  {
   "cell_type": "markdown",
   "id": "50b15607",
   "metadata": {},
   "source": [
    "# Analysis Part 6 - RNA velocity, Slingshot, SCPA, Pathway Analysis"
   ]
  },
  {
   "cell_type": "code",
   "execution_count": null,
   "id": "4cc3972e",
   "metadata": {
    "scrolled": true
   },
   "outputs": [],
   "source": [
    "%load_ext autoreload\n",
    "%matplotlib inline\n",
    "\n",
    "import warnings\n",
    "warnings.simplefilter(action='ignore', category=FutureWarning)\n",
    "warnings.filterwarnings(action='ignore')\n",
    "import os\n",
    "import scanpy as sc\n",
    "import anndata as ann\n",
    "import scirpy as ir\n",
    "import numpy as np\n",
    "import pandas as pd\n",
    "import seaborn as sb\n",
    "import matplotlib.pyplot as plt\n",
    "from matplotlib import rcParams\n",
    "from mudata import MuData\n",
    "import mudata\n",
    "\n",
    "import tarfile\n",
    "import warnings\n",
    "from glob import glob\n",
    "\n",
    "import anndata\n",
    "import muon as mu\n",
    "\n",
    "%autoreload 2\n",
    "import sys\n",
    "sys.path.append('..')\n",
    "import utility.annotation as utils_annotation\n",
    "import utility.representation as utils_representation\n",
    "import utility.visualisation as utils_vis\n",
    "\n",
    "from pyslingshot import Slingshot\n",
    "import scvelo as scv"
   ]
  },
  {
   "cell_type": "code",
   "execution_count": null,
   "id": "751ed29d",
   "metadata": {},
   "outputs": [],
   "source": [
    "sc.settings.set_figure_params(dpi=150)\n",
    "sc.settings.verbosity = 3\n",
    "sc.set_figure_params(vector_friendly=True, color_map='viridis', transparent=True)\n",
    "sb.set_style('whitegrid')\n",
    "\n",
    "from matplotlib.colors import LinearSegmentedColormap\n",
    "colors = ['darkblue', 'blue', 'lightblue', '#FFEA00', 'orange', 'red', 'darkred']\n",
    "cust = LinearSegmentedColormap.from_list('custom_cmap', colors)\n",
    "colormap = cust"
   ]
  },
  {
   "cell_type": "markdown",
   "id": "69d1216f",
   "metadata": {},
   "source": [
    "## Get input data¶"
   ]
  },
  {
   "cell_type": "code",
   "execution_count": null,
   "id": "4fa155b5",
   "metadata": {},
   "outputs": [],
   "source": [
    "mdata = mu.read('/Users/mimi/Sina/data_specificity_annotated_final_pseudotime_cite.h5mu')"
   ]
  },
  {
   "cell_type": "markdown",
   "id": "ab400523",
   "metadata": {
    "jp-MarkdownHeadingCollapsed": true
   },
   "source": [
    "## Slingshot"
   ]
  },
  {
   "cell_type": "code",
   "execution_count": null,
   "id": "09255d86",
   "metadata": {},
   "outputs": [],
   "source": [
    "#start in the very naive cluster\n",
    "fig, axes = plt.subplots(nrows=2, ncols=2, figsize=(10, 10))\n",
    "custom_xlim = (-12, 12)\n",
    "custom_ylim = (-12, 12)\n",
    "# plt.setp(axes, xlim=custom_xlim, ylim=custom_ylim)\n",
    "ad = mdata['gex']\n",
    "slingshot = Slingshot(ad, celltype_key=\"leiden\", obsm_key=\"X_umap\", start_node=2, debug_level='verbose')\n",
    "slingshot.fit(num_epochs=5, debug_axes=axes)"
   ]
  },
  {
   "cell_type": "code",
   "execution_count": null,
   "id": "234af80c",
   "metadata": {},
   "outputs": [],
   "source": [
    "#sample 1\n",
    "velocyto run -b /media/agschober/HDD12/3_scRNA-Seq_Sina/CS1-multi_new2/outs/per_sample_outs/CS1-multi_new2/count/sample_filtered_feature_bc_matrix/barcodes.tsv.gz -o /media/agschober/HDD12/3_scRNA-Seq_Sina/velocyto_output_sample1 /media/agschober/HDD12/3_scRNA-Seq_Sina/CS1-multi_new2/outs/per_sample_outs/CS1-multi_new2/count/sample_alignments.bam /media/agschober/HDD01/refdata-gex-GRCh38-2020-A/genes/genes.gtf"
   ]
  },
  {
   "cell_type": "code",
   "execution_count": null,
   "id": "a0f30fb3",
   "metadata": {},
   "outputs": [],
   "source": [
    "#sample 2\n",
    "velocyto run -b /media/agschober/HDD12/3_scRNA-Seq_Sina/CS2-multi_new2/outs/per_sample_outs/CS2-multi_new2/count/sample_filtered_feature_bc_matrix/barcodes.tsv.gz -o /media/agschober/HDD12/3_scRNA-Seq_Sina/velocyto_output_sample2 /media/agschober/HDD12/3_scRNA-Seq_Sina/CS2-multi_new2/outs/per_sample_outs/CS2-multi_new2/count/sample_alignments.bam /media/agschober/HDD01/refdata-gex-GRCh38-2020-A/genes/genes.gtf"
   ]
  },
  {
   "cell_type": "markdown",
   "id": "3cafea07",
   "metadata": {
    "jp-MarkdownHeadingCollapsed": true
   },
   "source": [
    "## Run velocyto in bash environment"
   ]
  },
  {
   "cell_type": "code",
   "execution_count": null,
   "id": "bc46a4b1",
   "metadata": {},
   "outputs": [],
   "source": [
    "#sample 3\n",
    "velocyto run -b /media/agschober/HDD12/3_scRNA-Seq_Sina/CS3-multi_new2/outs/per_sample_outs/CS3-multi_new2/count/sample_filtered_feature_bc_matrix/barcodes.tsv.gz -o /media/agschober/HDD12/3_scRNA-Seq_Sina/velocyto_output_sample3 /media/agschober/HDD12/3_scRNA-Seq_Sina/CS3-multi_new2/outs/per_sample_outs/CS3-multi_new2/count/sample_alignments.bam /media/agschober/HDD01/refdata-gex-GRCh38-2020-A/genes/genes.gtf"
   ]
  },
  {
   "cell_type": "code",
   "execution_count": null,
   "id": "57e35740",
   "metadata": {},
   "outputs": [],
   "source": [
    "#sample 4\n",
    "velocyto run -b /media/agschober/HDD12/3_scRNA-Seq_Sina/CS4-multi_new2/outs/per_sample_outs/CS4-multi_new2/count/sample_filtered_feature_bc_matrix/barcodes.tsv.gz -o /media/agschober/HDD12/3_scRNA-Seq_Sina/velocyto_output_sample4 /media/agschober/HDD12/3_scRNA-Seq_Sina/CS4-multi_new2/outs/per_sample_outs/CS4-multi_new2/count/sample_alignments.bam /media/agschober/HDD01/refdata-gex-GRCh38-2020-A/genes/genes.gtf"
   ]
  },
  {
   "cell_type": "code",
   "execution_count": null,
   "id": "b895c478",
   "metadata": {},
   "outputs": [],
   "source": [
    "#sample 5\n",
    "/home/agschober/.local/bin/velocyto run -b /media/agschober/HDD12/3_scRNA-Seq_Sina/Cellranger_output/2nd_Experiment/run1/outs/per_sample_outs/run1/count/sample_filtered_feature_bc_matrix/barcodes.tsv.gz -o /media/agschober/HDD12/3_scRNA-Seq_Sina/velocyto_output_sample5 /media/agschober/HDD12/3_scRNA-Seq_Sina/Cellranger_output/2nd_Experiment/run1/outs/per_sample_outs/run1/count/sample_alignments.bam /media/agschober/HDD01/refdata-gex-GRCh38-2020-A/genes/genes.gtf"
   ]
  },
  {
   "cell_type": "code",
   "execution_count": null,
   "id": "de0622a4",
   "metadata": {},
   "outputs": [],
   "source": [
    "#samtools is not found somehow: export PATH=/path/to/your/folder:$PATH\n",
    "export PATH=/media/agschober/HDD12/samtools/bin:$PATH"
   ]
  },
  {
   "cell_type": "code",
   "execution_count": null,
   "id": "595a3317",
   "metadata": {},
   "outputs": [],
   "source": [
    "#sample 6\n",
    "/home/agschober/.local/bin/velocyto run -b /media/agschober/HDD12/3_scRNA-Seq_Sina/Cellranger_output/2nd_Experiment/run2/outs/per_sample_outs/run2/count/sample_filtered_feature_bc_matrix/barcodes.tsv.gz -o /media/agschober/HDD12/3_scRNA-Seq_Sina/velocyto_output_sample6 /media/agschober/HDD12/3_scRNA-Seq_Sina/Cellranger_output/2nd_Experiment/run2/outs/per_sample_outs/run2/count/sample_alignments.bam /media/agschober/HDD01/refdata-gex-GRCh38-2020-A/genes/genes.gtf"
   ]
  },
  {
   "cell_type": "code",
   "execution_count": null,
   "id": "43b83ce0",
   "metadata": {},
   "outputs": [],
   "source": [
    "#sample 7\n",
    "/home/agschober/.local/bin/velocyto run -b /media/agschober/HDD12/3_scRNA-Seq_Sina/Cellranger_output/2nd_Experiment/run3/outs/per_sample_outs/run3/count/sample_filtered_feature_bc_matrix/barcodes.tsv.gz -o /media/agschober/HDD12/3_scRNA-Seq_Sina/velocyto_output_sample7 /media/agschober/HDD12/3_scRNA-Seq_Sina/Cellranger_output/2nd_Experiment/run3/outs/per_sample_outs/run3/count/sample_alignments.bam /media/agschober/HDD01/refdata-gex-GRCh38-2020-A/genes/genes.gtf"
   ]
  },
  {
   "cell_type": "code",
   "execution_count": null,
   "id": "1e31d8e2",
   "metadata": {},
   "outputs": [],
   "source": [
    "#sample 8\n",
    "/home/agschober/.local/bin/velocyto run -b /media/agschober/HDD12/3_scRNA-Seq_Sina/Cellranger_output/2nd_Experiment/run4/outs/per_sample_outs/run4/count/sample_filtered_feature_bc_matrix/barcodes.tsv.gz -o /media/agschober/HDD12/3_scRNA-Seq_Sina/velocyto_output_sample8 /media/agschober/HDD12/3_scRNA-Seq_Sina/Cellranger_output/2nd_Experiment/run4/outs/per_sample_outs/run4/count/sample_alignments.bam /media/agschober/HDD01/refdata-gex-GRCh38-2020-A/genes/genes.gtf"
   ]
  },
  {
   "cell_type": "code",
   "execution_count": null,
   "id": "2ad3cb84",
   "metadata": {},
   "outputs": [],
   "source": [
    "#sample 9\n",
    "/home/agschober/.local/bin/velocyto run -b /media/agschober/HDD12/3_scRNA-Seq_Sina/Cellranger_output/3rd_Experiment/Sina_3/outs/per_sample_outs/Sina_3/count/sample_filtered_feature_bc_matrix/barcodes.tsv.gz -o /media/agschober/HDD12/3_scRNA-Seq_Sina/velocyto_output_sample9 /media/agschober/HDD12/3_scRNA-Seq_Sina/Cellranger_output/3rd_Experiment/Sina_3/outs/per_sample_outs/Sina_3/count/sample_alignments.bam /media/agschober/HDD01/refdata-gex-GRCh38-2020-A/genes/genes.gtf"
   ]
  },
  {
   "cell_type": "markdown",
   "id": "e9a00f95",
   "metadata": {},
   "source": [
    "## Use scvelo for further analysis"
   ]
  },
  {
   "cell_type": "code",
   "execution_count": null,
   "id": "d0b53730",
   "metadata": {},
   "outputs": [],
   "source": [
    "scv.set_figure_params()"
   ]
  },
  {
   "cell_type": "markdown",
   "id": "48008514",
   "metadata": {},
   "source": [
    "#### load data"
   ]
  },
  {
   "cell_type": "code",
   "execution_count": null,
   "id": "d8c8cb44",
   "metadata": {},
   "outputs": [],
   "source": [
    "ldata1 = scv.read('/Users/mimi/Sina/6_RNA-velocity/velocyto_output/sample_alignments_GA9IA.loom', cache=True)\n",
    "ldata2 = scv.read('/Users/mimi/Sina/6_RNA-velocity/velocyto_output/sample_alignments_Z6GT7.loom', cache=True)\n",
    "ldata3 = scv.read('/Users/mimi/Sina/6_RNA-velocity/velocyto_output/sample_alignments_LTQUZ.loom', cache=True)\n",
    "ldata4 = scv.read('/Users/mimi/Sina/6_RNA-velocity/velocyto_output/sample_alignments_KQG6T.loom', cache=True)\n",
    "ldata5 = scv.read('/Users/mimi/Sina/6_RNA-velocity/velocyto_output/sample_alignments_J6WQS.loom', cache=True)\n",
    "ldata6 = scv.read('/Users/mimi/Sina/6_RNA-velocity/velocyto_output/sample_alignments_B0F3R.loom', cache=True)\n",
    "ldata7 = scv.read('/Users/mimi/Sina/6_RNA-velocity/velocyto_output/sample_alignments_E7S0J.loom', cache=True)\n",
    "ldata8 = scv.read('/Users/mimi/Sina/6_RNA-velocity/velocyto_output/sample_alignments_DMOYN.loom', cache=True)\n",
    "ldata9 = scv.read('/Users/mimi/Sina/6_RNA-velocity/velocyto_output/sample_alignments_8AKKB.loom', cache=True)"
   ]
  },
  {
   "cell_type": "code",
   "execution_count": null,
   "id": "33033eb8",
   "metadata": {},
   "outputs": [],
   "source": [
    "ldata1.var_names_make_unique()\n",
    "ldata2.var_names_make_unique()\n",
    "ldata3.var_names_make_unique()\n",
    "ldata4.var_names_make_unique()\n",
    "ldata5.var_names_make_unique()\n",
    "ldata6.var_names_make_unique()\n",
    "ldata7.var_names_make_unique()\n",
    "ldata8.var_names_make_unique()\n",
    "ldata9.var_names_make_unique()"
   ]
  },
  {
   "cell_type": "code",
   "execution_count": null,
   "id": "0aaff6bd",
   "metadata": {},
   "outputs": [],
   "source": [
    "ldata = ldata1.concatenate([ldata2, ldata3, ldata4, ldata5, ldata6, ldata7, ldata8, ldata9])"
   ]
  },
  {
   "cell_type": "code",
   "execution_count": null,
   "id": "23d52a3e-c2c8-4ecc-b2fe-9d4f2f09f2ed",
   "metadata": {},
   "outputs": [],
   "source": []
  },
  {
   "cell_type": "code",
   "execution_count": null,
   "id": "adc10b7f-e6de-4877-bcc5-d624939ff411",
   "metadata": {},
   "outputs": [],
   "source": [
    "ldata"
   ]
  },
  {
   "cell_type": "code",
   "execution_count": null,
   "id": "89a4b8f2",
   "metadata": {},
   "outputs": [],
   "source": [
    "adata_gex = mdata['gex']"
   ]
  },
  {
   "cell_type": "code",
   "execution_count": null,
   "id": "14a5e4b7-e88d-4b60-8f9d-805a672df333",
   "metadata": {},
   "outputs": [],
   "source": []
  },
  {
   "cell_type": "code",
   "execution_count": null,
   "id": "9cfccb6a",
   "metadata": {},
   "outputs": [],
   "source": [
    "adata = scv.utils.merge(adata_gex, ldata)"
   ]
  },
  {
   "cell_type": "code",
   "execution_count": null,
   "id": "92a93e3b-2203-48c2-9c27-f81631996db2",
   "metadata": {},
   "outputs": [],
   "source": []
  },
  {
   "cell_type": "code",
   "execution_count": null,
   "id": "94b7a9e1-d18a-470e-b7e4-d1bd1099edc4",
   "metadata": {},
   "outputs": [],
   "source": [
    "adata = adata[adata.obs['leiden'].isin(['4', '10']) & adata.obs['specific_new'].isin(['NS4B214'])]"
   ]
  },
  {
   "cell_type": "markdown",
   "id": "5549d831",
   "metadata": {},
   "source": [
    "### Stochastic method of velocity calculation"
   ]
  },
  {
   "cell_type": "code",
   "execution_count": null,
   "id": "1e76f1ee",
   "metadata": {},
   "outputs": [],
   "source": [
    "sc.pp.pca(adata)\n",
    "sc.pp.neighbors(adata, n_pcs=30, n_neighbors=30)"
   ]
  },
  {
   "cell_type": "code",
   "execution_count": null,
   "id": "d04d2cad-ef56-4a36-bde2-0020510462af",
   "metadata": {},
   "outputs": [],
   "source": []
  },
  {
   "cell_type": "code",
   "execution_count": null,
   "id": "f0d6d465",
   "metadata": {},
   "outputs": [],
   "source": [
    "scv.pp.moments(adata, n_pcs=None, n_neighbors=None)"
   ]
  },
  {
   "cell_type": "code",
   "execution_count": null,
   "id": "dd41d662-3067-4fb6-98d7-6900a201a6bd",
   "metadata": {},
   "outputs": [],
   "source": []
  },
  {
   "cell_type": "code",
   "execution_count": null,
   "id": "2b09949f-555f-481a-ade7-ae04454a16a9",
   "metadata": {},
   "outputs": [],
   "source": []
  },
  {
   "cell_type": "code",
   "execution_count": null,
   "id": "696a6496-18c5-41fd-9993-d4ec23130a2a",
   "metadata": {},
   "outputs": [],
   "source": []
  },
  {
   "cell_type": "code",
   "execution_count": null,
   "id": "092dc15a",
   "metadata": {
    "scrolled": true
   },
   "outputs": [],
   "source": [
    "scv.tl.velocity(adata, mode='stochastic')"
   ]
  },
  {
   "cell_type": "code",
   "execution_count": null,
   "id": "2e08bc84",
   "metadata": {
    "scrolled": true
   },
   "outputs": [],
   "source": [
    "scv.tl.velocity_graph(adata)"
   ]
  },
  {
   "cell_type": "code",
   "execution_count": null,
   "id": "55d5fb7b",
   "metadata": {},
   "outputs": [],
   "source": [
    "scv.pl.velocity_embedding(adata, basis='umap')\n",
    "scv.pl.velocity_embedding_grid(adata, basis='umap')\n",
    "scv.pl.velocity_embedding_stream(adata, basis='umap')"
   ]
  },
  {
   "cell_type": "code",
   "execution_count": null,
   "id": "a01c82ea",
   "metadata": {},
   "outputs": [],
   "source": [
    "scv.pl.velocity_embedding_stream(adata, basis='umap', color=['leiden'])"
   ]
  },
  {
   "cell_type": "code",
   "execution_count": null,
   "id": "21d3cf6c",
   "metadata": {},
   "outputs": [],
   "source": [
    "scv.tl.velocity_pseudotime(adata)\n",
    "sc.pl.umap(adata, color=[\"velocity_pseudotime\"])"
   ]
  },
  {
   "cell_type": "code",
   "execution_count": null,
   "id": "342a319f",
   "metadata": {},
   "outputs": [],
   "source": [
    "#own measure for 'amount' of RNA velocity\n",
    "row_sums = np.sum(np.abs(adata.layers['velocity']), axis=1)\n",
    "adata.obs['acceleration'] = row_sums\n",
    "sc.pl.umap(adata, color=['acceleration'])"
   ]
  },
  {
   "cell_type": "code",
   "execution_count": null,
   "id": "0760cd0a",
   "metadata": {},
   "outputs": [],
   "source": [
    "#calculate paga\n",
    "scv.tl.paga(adata, groups='leiden')"
   ]
  },
  {
   "cell_type": "code",
   "execution_count": null,
   "id": "99c24cce",
   "metadata": {},
   "outputs": [],
   "source": [
    "scv.pl.paga(adata)\n",
    "scv.pl.paga(adata, color='leiden', threshold=0.1, node_size_scale=0.5, node_size_power=1)"
   ]
  },
  {
   "cell_type": "code",
   "execution_count": null,
   "id": "29f2672d",
   "metadata": {},
   "outputs": [],
   "source": [
    "scv.pl.paga(adata, basis='umap', size=50, alpha=.2, min_edge_width=1, node_size_scale=1.5)"
   ]
  },
  {
   "cell_type": "code",
   "execution_count": null,
   "id": "c821e014",
   "metadata": {},
   "outputs": [],
   "source": [
    "#cell cycle score\n",
    "scv.tl.score_genes_cell_cycle(adata)\n",
    "scv.pl.scatter(adata, color_gradients=['S_score', 'G2M_score'], smooth=True, perc=[5, 95])"
   ]
  },
  {
   "cell_type": "code",
   "execution_count": null,
   "id": "a1ba4aca",
   "metadata": {},
   "outputs": [],
   "source": [
    "#confidence and length as estimation of differentiation velocity\n",
    "scv.tl.velocity_confidence(adata)\n",
    "keys = 'velocity_length', 'velocity_confidence'\n",
    "sc.pl.umap(adata, color=keys, cmap=cust)"
   ]
  },
  {
   "cell_type": "code",
   "execution_count": null,
   "id": "6343b2b6",
   "metadata": {},
   "outputs": [],
   "source": [
    "l1_norm = np.abs(adata.obs['velocity_length']).sum()\n",
    "\n",
    "# Perform L1 normalization\n",
    "adata.obs['velocity_length_norm'] = adata.obs['velocity_length'] / l1_norm"
   ]
  },
  {
   "cell_type": "code",
   "execution_count": null,
   "id": "54a99071",
   "metadata": {},
   "outputs": [],
   "source": [
    "sc.pl.umap(adata, color=['velocity_length_norm'])"
   ]
  },
  {
   "cell_type": "markdown",
   "id": "fd6bc104",
   "metadata": {},
   "source": [
    "### Deterministic method of calculating the velocity"
   ]
  },
  {
   "cell_type": "code",
   "execution_count": null,
   "id": "b7e1bf6b",
   "metadata": {},
   "outputs": [],
   "source": [
    "scv.tl.velocity(adata, mode='deterministic')"
   ]
  },
  {
   "cell_type": "code",
   "execution_count": null,
   "id": "9eaf379a",
   "metadata": {},
   "outputs": [],
   "source": [
    "scv.tl.velocity_graph(adata)\n",
    "scv.pl.velocity_embedding(adata, basis='umap')\n",
    "scv.pl.velocity_embedding_grid(adata, basis='umap')\n",
    "scv.pl.velocity_embedding_stream(adata, basis='umap')"
   ]
  },
  {
   "cell_type": "code",
   "execution_count": null,
   "id": "11ec9660",
   "metadata": {},
   "outputs": [],
   "source": [
    "scv.pl.velocity_embedding_stream(adata, basis='umap', color=['leiden'])"
   ]
  },
  {
   "cell_type": "code",
   "execution_count": null,
   "id": "76131572",
   "metadata": {},
   "outputs": [],
   "source": [
    "scv.tl.velocity_pseudotime(adata)\n",
    "sc.pl.umap(adata, color=[\"velocity_pseudotime\"])"
   ]
  },
  {
   "cell_type": "code",
   "execution_count": null,
   "id": "5f740270",
   "metadata": {},
   "outputs": [],
   "source": [
    "#own measure for 'amount' of RNA velocity\n",
    "row_sums = np.sum(np.abs(adata.layers['velocity']), axis=1)\n",
    "adata.obs['acceleration'] = row_sums\n",
    "sc.pl.umap(adata, color=['acceleration'])"
   ]
  },
  {
   "cell_type": "code",
   "execution_count": null,
   "id": "89037154",
   "metadata": {},
   "outputs": [],
   "source": [
    "#calculate paga\n",
    "scv.tl.paga(adata, groups='leiden')"
   ]
  },
  {
   "cell_type": "code",
   "execution_count": null,
   "id": "93267fb1",
   "metadata": {},
   "outputs": [],
   "source": [
    "scv.pl.paga(adata)\n",
    "scv.pl.paga(adata, color='leiden', threshold=0.1, node_size_scale=0.5, node_size_power=1)"
   ]
  },
  {
   "cell_type": "code",
   "execution_count": null,
   "id": "464ef9e5",
   "metadata": {},
   "outputs": [],
   "source": [
    "scv.pl.paga(adata, basis='umap', size=50, alpha=.2, min_edge_width=1, node_size_scale=1.5)"
   ]
  },
  {
   "cell_type": "code",
   "execution_count": null,
   "id": "88e76c93",
   "metadata": {},
   "outputs": [],
   "source": [
    "#cell cycle score\n",
    "scv.tl.score_genes_cell_cycle(adata)\n",
    "scv.pl.scatter(adata, color_gradients=['S_score', 'G2M_score'], smooth=True, perc=[5, 95])"
   ]
  },
  {
   "cell_type": "code",
   "execution_count": null,
   "id": "f9c194db",
   "metadata": {},
   "outputs": [],
   "source": [
    "#confidence and length as estimation of differentiation velocity\n",
    "scv.tl.velocity_confidence(adata)\n",
    "keys = 'velocity_length', 'velocity_confidence'\n",
    "sc.pl.umap(adata, color=keys, cmap='coolwarm')"
   ]
  },
  {
   "cell_type": "markdown",
   "id": "a4e2f47f",
   "metadata": {},
   "source": [
    "### Dynamic method of calculating the velocity"
   ]
  },
  {
   "cell_type": "code",
   "execution_count": null,
   "id": "18f98df9",
   "metadata": {},
   "outputs": [],
   "source": [
    "scv.tl.recover_dynamics(adata)"
   ]
  },
  {
   "cell_type": "code",
   "execution_count": null,
   "id": "ee2a3fc0",
   "metadata": {},
   "outputs": [],
   "source": [
    "scv.tl.velocity(adata, mode='dynamical')\n",
    "scv.tl.velocity_graph(adata)"
   ]
  },
  {
   "cell_type": "code",
   "execution_count": null,
   "id": "d5547055",
   "metadata": {},
   "outputs": [],
   "source": [
    "scv.pl.velocity_embedding(adata, basis='umap')\n",
    "scv.pl.velocity_embedding_grid(adata, basis='umap')\n",
    "scv.pl.velocity_embedding_stream(adata, basis='umap')"
   ]
  },
  {
   "cell_type": "code",
   "execution_count": null,
   "id": "32e4f1dc",
   "metadata": {},
   "outputs": [],
   "source": [
    "scv.pl.velocity_embedding_stream(adata, basis='umap', color=['leiden'])"
   ]
  },
  {
   "cell_type": "code",
   "execution_count": null,
   "id": "baa7799d",
   "metadata": {},
   "outputs": [],
   "source": [
    "scv.tl.velocity_pseudotime(adata)\n",
    "sc.pl.umap(adata, color='velocity_pseudotime', cmap=cust)"
   ]
  },
  {
   "cell_type": "code",
   "execution_count": null,
   "id": "8fff2a41",
   "metadata": {},
   "outputs": [],
   "source": [
    "#own measure for 'amount' of RNA velocity\n",
    "row_sums = np.sum(np.abs(adata.layers['velocity']), axis=1)\n",
    "adata.obs['acceleration'] = row_sums\n",
    "sc.pl.umap(adata, color=['acceleration'])"
   ]
  },
  {
   "cell_type": "code",
   "execution_count": null,
   "id": "1f859f37",
   "metadata": {},
   "outputs": [],
   "source": [
    "#calculate paga\n",
    "scv.tl.paga(adata, groups='leiden')"
   ]
  },
  {
   "cell_type": "code",
   "execution_count": null,
   "id": "1aa78072",
   "metadata": {},
   "outputs": [],
   "source": [
    "scv.pl.paga(adata)\n",
    "scv.pl.paga(adata, color='leiden', threshold=0.1, node_size_scale=0.5, node_size_power=1)"
   ]
  },
  {
   "cell_type": "code",
   "execution_count": null,
   "id": "db793f2d",
   "metadata": {},
   "outputs": [],
   "source": [
    "scv.pl.paga(adata, basis='umap', size=50, alpha=.2, min_edge_width=1, node_size_scale=1.5)"
   ]
  },
  {
   "cell_type": "code",
   "execution_count": null,
   "id": "e1f71cee",
   "metadata": {},
   "outputs": [],
   "source": [
    "#cell cycle score\n",
    "scv.tl.score_genes_cell_cycle(adata)\n",
    "scv.pl.scatter(adata, color_gradients=['S_score', 'G2M_score'], smooth=True, perc=[5, 95])"
   ]
  },
  {
   "cell_type": "code",
   "execution_count": null,
   "id": "09966a95",
   "metadata": {},
   "outputs": [],
   "source": [
    "#confidence and length as estimation of differentiation velocity\n",
    "scv.tl.velocity_confidence(adata)\n",
    "keys = 'velocity_length', 'velocity_confidence'\n",
    "sc.pl.umap(adata, color=keys, cmap=cust)"
   ]
  },
  {
   "cell_type": "code",
   "execution_count": null,
   "id": "daf74b29",
   "metadata": {},
   "outputs": [],
   "source": [
    "sc.pl.umap(adata, color=['MKI67'], cmap=cust)\n",
    "sc.pl.umap(adata, color=['MKI67'], cmap=cust)"
   ]
  },
  {
   "cell_type": "code",
   "execution_count": null,
   "id": "249df303",
   "metadata": {},
   "outputs": [],
   "source": [
    "sc.pl.umap(mdata[\"gex\"], color='MKI67', cmap=cust, size=50)"
   ]
  },
  {
   "cell_type": "code",
   "execution_count": null,
   "id": "46990d6e",
   "metadata": {},
   "outputs": [],
   "source": [
    "ax = sc.pl.umap(mdata[\"gex\"], show=False, size=50)\n",
    "ax = sc.pl.umap(mdata[\"gex\"][mdata[\"gex\"].obs['specific_new']==\"NS4B214\"], color='MKI67', cmap=cust, size=50, ax=ax)\n",
    "\n",
    "#sc.pl.umap(mdata[\"gex\"][mdata[\"gex\"].obs['specific']!=\"no_binding\"], color='MKI67', cmap=colormap, size=30)\n",
    "#sc.pl.umap(mdata[\"gex\"][mdata[\"gex\"].obs['FACS_Phenotype']==\"CM\"], color='MKI67', cmap=colormap, size=30)\n",
    "#sc.pl.umap(mdata[\"gex\"], color='MKI67', cmap=colormap, size=30)"
   ]
  },
  {
   "cell_type": "code",
   "execution_count": null,
   "id": "44f6e0d6-3a29-4a50-9c22-275f0ad1e17e",
   "metadata": {},
   "outputs": [],
   "source": []
  },
  {
   "cell_type": "code",
   "execution_count": null,
   "id": "32195ea6-0a70-469d-94f4-5a186ee53f29",
   "metadata": {},
   "outputs": [],
   "source": []
  }
 ],
 "metadata": {
  "kernelspec": {
   "display_name": "scvelo",
   "language": "python",
   "name": "scvelo"
  },
  "language_info": {
   "codemirror_mode": {
    "name": "ipython",
    "version": 3
   },
   "file_extension": ".py",
   "mimetype": "text/x-python",
   "name": "python",
   "nbconvert_exporter": "python",
   "pygments_lexer": "ipython3",
   "version": "3.12.7"
  }
 },
 "nbformat": 4,
 "nbformat_minor": 5
}
