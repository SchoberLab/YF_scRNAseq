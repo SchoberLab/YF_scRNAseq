{
 "cells": [
  {
   "cell_type": "markdown",
   "id": "a509922d",
   "metadata": {},
   "source": [
    "# Analysis Part III - Continued"
   ]
  },
  {
   "cell_type": "code",
   "execution_count": null,
   "id": "01dfb188",
   "metadata": {},
   "outputs": [],
   "source": [
    "%load_ext autoreload\n",
    "%matplotlib inline\n",
    "\n",
    "import warnings\n",
    "warnings.simplefilter(action='ignore', category=FutureWarning)\n",
    "warnings.filterwarnings(action='ignore')\n",
    "import os\n",
    "import scanpy as sc\n",
    "import scirpy as ir\n",
    "import anndata as ann\n",
    "import numpy as np\n",
    "import pandas as pd\n",
    "import seaborn as sb\n",
    "import matplotlib.pyplot as plt\n",
    "from matplotlib import rcParams\n",
    "from mudata import MuData\n",
    "import mudata\n",
    "\n",
    "import tarfile\n",
    "import warnings\n",
    "from glob import glob\n",
    "\n",
    "import anndata\n",
    "import matplotlib.pyplot as plt\n",
    "import muon as mu\n",
    "import pandas as pd\n",
    "import scanpy as sc\n",
    "import scirpy as ir\n",
    "\n",
    "%autoreload 2\n",
    "import sys\n",
    "sys.path.append('..')\n",
    "import utility.annotation as utils_annotation\n",
    "import utility.representation as utils_representation\n",
    "import utility.visualisation as utils_vis\n",
    "\n",
    "from sklearn.mixture import GaussianMixture\n",
    "\n",
    "from matplotlib.colors import LinearSegmentedColormap"
   ]
  },
  {
   "cell_type": "code",
   "execution_count": null,
   "id": "06c1e7ec",
   "metadata": {},
   "outputs": [],
   "source": [
    "sc.settings.set_figure_params(dpi=150)\n",
    "sc.settings.verbosity = 3\n",
    "sc.set_figure_params(vector_friendly=True, color_map='viridis')\n",
    "sb.set_style('whitegrid')\n",
    "\n",
    "colormap = 'flare'"
   ]
  },
  {
   "cell_type": "markdown",
   "id": "674541d9",
   "metadata": {},
   "source": [
    "## Get input data"
   ]
  },
  {
   "cell_type": "code",
   "execution_count": null,
   "id": "09d88121",
   "metadata": {},
   "outputs": [],
   "source": [
    "mdata = mu.read(\"/media/agschober/HDD12/3_scRNA-Seq_Sina/3_Specificity/data_specificity_annotated_final.h5mu\")"
   ]
  },
  {
   "cell_type": "markdown",
   "id": "05a099e3",
   "metadata": {},
   "source": [
    "## Differentially expressed genes and cluster annotation"
   ]
  },
  {
   "cell_type": "code",
   "execution_count": null,
   "id": "0043e975",
   "metadata": {},
   "outputs": [],
   "source": [
    "def deg_over_condition(condition, adata):\n",
    "    adata_tmp = utils_representation.filter_tcr_genes(adata)\n",
    "    adata_tmp = utils_representation.filter_high_var(adata_tmp, 5000)\n",
    "    sc.tl.rank_genes_groups(adata_tmp, groupby=condition, n_genes=20)\n",
    "    sc.pl.rank_genes_groups(adata_tmp, groubpy=condition, show=False)\n",
    "    plt.tight_layout()\n",
    "    plt.show()\n",
    "    adata.uns[f'rank_genes_groups_{condition}'] = adata_tmp.uns['rank_genes_groups']"
   ]
  },
  {
   "cell_type": "code",
   "execution_count": null,
   "id": "66d72cb2",
   "metadata": {},
   "outputs": [],
   "source": [
    "deg_over_condition('leiden', mdata[\"gex\"])"
   ]
  },
  {
   "cell_type": "markdown",
   "id": "13b7510c",
   "metadata": {},
   "source": [
    "## PseudoTime"
   ]
  },
  {
   "cell_type": "code",
   "execution_count": null,
   "id": "820d67ec",
   "metadata": {},
   "outputs": [],
   "source": [
    "utils_representation.calculate_diffmap(mdata[\"gex\"], n_high_var=5000, remove_tcr_genes=True)"
   ]
  },
  {
   "cell_type": "code",
   "execution_count": null,
   "id": "9ff8996e",
   "metadata": {},
   "outputs": [],
   "source": [
    "(mdata['gex'].obsm['X_diffmap'].shape[1])"
   ]
  },
  {
   "cell_type": "code",
   "execution_count": null,
   "id": "a42d2103",
   "metadata": {},
   "outputs": [],
   "source": [
    "nrows = 20\n",
    "ncols = 5\n",
    "fig, axes = plt.subplots(ncols=ncols, nrows=nrows, figsize=(ncols * 3, nrows * 3))\n",
    "axes = axes.reshape(-1)\n",
    "\n",
    "for i, ax in zip(range(mdata['gex'].obsm['X_diffmap'].shape[1]), axes):\n",
    "    root_ixs = mdata['gex'].obsm['X_diffmap'][:, i].argmin()\n",
    "    root_umap = mdata['gex'].obsm['X_umap'][root_ixs]\n",
    "\n",
    "    sc.pl.umap(mdata['gex'], show=False, title=str(i), ax=ax)\n",
    "    ax.plot(root_umap[0], root_umap[1],  marker='o', markersize=5, color=\"red\")\n",
    "fig.tight_layout()\n",
    "plt.show()"
   ]
  },
  {
   "cell_type": "code",
   "execution_count": null,
   "id": "8d7cf6b6",
   "metadata": {},
   "outputs": [],
   "source": [
    "colors = ['darkblue', 'blue', 'lightblue', '#FFEA00', 'orange', 'red', 'darkred']\n",
    "\n",
    "cust = LinearSegmentedColormap.from_list('custom_cmap', colors)"
   ]
  },
  {
   "cell_type": "code",
   "execution_count": null,
   "id": "7a728e54",
   "metadata": {},
   "outputs": [],
   "source": [
    "root_nr = 69\n",
    "root_ixs = mdata['gex'].obsm['X_diffmap'][:, root_nr].argmin()\n",
    "mdata['gex'].uns['iroot'] = root_ixs\n",
    "utils_representation.calculate_dpt(mdata['gex'], n_high_var=5000, remove_tcr_genes=True)\n",
    "mdata.obs['dpt_pseudotime'] = mdata['gex'].obs['dpt_pseudotime']\n",
    "mdata[\"gex\"].obs['dpt_pseudotime'] = mdata.obs['dpt_pseudotime']"
   ]
  },
  {
   "cell_type": "code",
   "execution_count": null,
   "id": "a52d639a",
   "metadata": {},
   "outputs": [],
   "source": [
    "rcParams['figure.figsize'] = (6, 6)\n",
    "sc.pl.umap(mdata[\"gex\"], color='dpt_pseudotime', cmap=cust)\n",
    "plt.tight_layout()\n",
    "plt.savefig(f'/media/agschober/HDD12/3_scRNA-Seq_Sina/3_Specificity/Pseudotime_root_69.png')\n",
    "plt.show()"
   ]
  },
  {
   "cell_type": "code",
   "execution_count": null,
   "id": "578a5975",
   "metadata": {},
   "outputs": [],
   "source": [
    "sc.pl.violin(mdata['gex'], keys='dpt_pseudotime', groupby='leiden')"
   ]
  },
  {
   "cell_type": "code",
   "execution_count": null,
   "id": "7c2b6956",
   "metadata": {},
   "outputs": [],
   "source": [
    "#get missing IR data\n",
    "mdata[\"airr\"].obs[\"IR_VJ_1_junction\"] = ir.get.airr(mdata, \"junction\", [\"VJ_1\"])\n",
    "mdata[\"airr\"].obs[\"IR_VJ_2_junction\"] = ir.get.airr(mdata, \"junction\", [\"VJ_2\"])\n",
    "mdata[\"airr\"].obs[\"IR_VDJ_1_junction\"] = ir.get.airr(mdata, \"junction\", [\"VDJ_1\"])\n",
    "mdata[\"airr\"].obs[\"IR_VDJ_2_junction\"] = ir.get.airr(mdata, \"junction\", [\"VDJ_2\"])"
   ]
  },
  {
   "cell_type": "markdown",
   "id": "3c8d97a9",
   "metadata": {},
   "source": [
    "## Save the data"
   ]
  },
  {
   "cell_type": "code",
   "execution_count": null,
   "id": "a8d21ff6",
   "metadata": {},
   "outputs": [],
   "source": [
    "mdata.write(\"/media/agschober/HDD12/3_scRNA-Seq_Sina/3_Specificity/data_specificity_annotated_final_pseudotime.h5mu\")"
   ]
  },
  {
   "cell_type": "code",
   "execution_count": null,
   "id": "92db77a2",
   "metadata": {},
   "outputs": [],
   "source": [
    "import session_info\n",
    "session_info.show()"
   ]
  }
 ],
 "metadata": {
  "kernelspec": {
   "display_name": "single-cell_env",
   "language": "python",
   "name": "single-cell_env"
  },
  "language_info": {
   "codemirror_mode": {
    "name": "ipython",
    "version": 3
   },
   "file_extension": ".py",
   "mimetype": "text/x-python",
   "name": "python",
   "nbconvert_exporter": "python",
   "pygments_lexer": "ipython3",
   "version": "3.12.7"
  }
 },
 "nbformat": 4,
 "nbformat_minor": 5
}
