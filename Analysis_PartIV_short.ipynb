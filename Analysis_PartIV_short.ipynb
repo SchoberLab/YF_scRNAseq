{
 "cells": [
  {
   "cell_type": "markdown",
   "id": "1f6c09ef",
   "metadata": {},
   "source": [
    "# Analysis Part IV - CiteSeq annotations"
   ]
  },
  {
   "cell_type": "code",
   "execution_count": null,
   "id": "770de980",
   "metadata": {},
   "outputs": [],
   "source": [
    "%load_ext autoreload\n",
    "%matplotlib inline\n",
    "\n",
    "import warnings\n",
    "warnings.simplefilter(action='ignore', category=FutureWarning)\n",
    "warnings.filterwarnings(action='ignore')\n",
    "import os\n",
    "import scanpy as sc\n",
    "import scirpy as ir\n",
    "import anndata as ann\n",
    "import numpy as np\n",
    "import pandas as pd\n",
    "import seaborn as sb\n",
    "import matplotlib.pyplot as plt\n",
    "from matplotlib import rcParams\n",
    "from mudata import MuData\n",
    "import mudata\n",
    "\n",
    "import tarfile\n",
    "import warnings\n",
    "from glob import glob\n",
    "\n",
    "import anndata\n",
    "import matplotlib.pyplot as plt\n",
    "import muon as mu\n",
    "import pandas as pd\n",
    "import scanpy as sc\n",
    "import scirpy as ir\n",
    "\n",
    "%autoreload 2\n",
    "import sys\n",
    "sys.path.append('..')\n",
    "import utility.annotation as utils_annotation\n",
    "import utility.representation as utils_representation\n",
    "import utility.visualisation as utils_vis\n",
    "\n",
    "from sklearn.mixture import GaussianMixture\n",
    "from matplotlib.colors import LinearSegmentedColormap"
   ]
  },
  {
   "cell_type": "code",
   "execution_count": null,
   "id": "fa84af9c",
   "metadata": {},
   "outputs": [],
   "source": [
    "sc.settings.set_figure_params(dpi=150)\n",
    "sc.settings.verbosity = 3\n",
    "sc.set_figure_params(vector_friendly=True, color_map='viridis', transparent=True)\n",
    "sb.set_style('whitegrid')\n",
    "\n",
    "colors = ['darkblue', 'blue', 'lightblue', '#FFEA00', 'orange', 'red', 'darkred']\n",
    "cust = LinearSegmentedColormap.from_list('custom_cmap', colors)\n",
    "colormap = cust"
   ]
  },
  {
   "cell_type": "markdown",
   "id": "24105b00",
   "metadata": {},
   "source": [
    "## Get input data"
   ]
  },
  {
   "cell_type": "code",
   "execution_count": null,
   "id": "05a339e5",
   "metadata": {},
   "outputs": [],
   "source": [
    "mdata = mu.read('/Users/mimi/Sina/data_specificity_annotated_final_pseudotime_cite.h5mu')"
   ]
  },
  {
   "cell_type": "code",
   "execution_count": null,
   "id": "727a36cd",
   "metadata": {},
   "outputs": [],
   "source": [
    "## Exclude false positive cells from B15 and B20 for NS4B214!!! \n",
    "mdata[\"gex\"].obs['specific_new'][(mdata['gex'].obs['donor'].isin(['B15', 'B20']))&(mdata['gex'].obs['specific_new'].isin(['NS4B214']))] = 'no_binding'"
   ]
  },
  {
   "cell_type": "markdown",
   "id": "e02a2a10",
   "metadata": {},
   "source": [
    "## Cite Seq"
   ]
  },
  {
   "cell_type": "code",
   "execution_count": null,
   "id": "d7eedbf6",
   "metadata": {},
   "outputs": [],
   "source": [
    "def clr(x):\n",
    "    x = x/np.exp(np.log1p(x).sum() / x.shape[0])\n",
    "    x = np.log1p(x)\n",
    "    return x"
   ]
  },
  {
   "cell_type": "code",
   "execution_count": null,
   "id": "cb5873b5",
   "metadata": {},
   "outputs": [],
   "source": [
    "custom_cite_ids = ['CD45RA', 'CCR7-1', 'CD95', 'CD62L', 'CXCR3-1', 'CD27']"
   ]
  },
  {
   "cell_type": "code",
   "execution_count": null,
   "id": "230520f9",
   "metadata": {},
   "outputs": [],
   "source": [
    "mdata.uns['cite_ids'] = custom_cite_ids"
   ]
  },
  {
   "cell_type": "code",
   "execution_count": null,
   "id": "fd4354e2",
   "metadata": {},
   "outputs": [],
   "source": [
    "for c in custom_cite_ids:\n",
    "    mdata[\"gex\"].obs.loc[~mdata[\"gex\"].obs[c].isna(), f'clr_{c}'] = clr(mdata[\"gex\"][~mdata[\"gex\"].obs[c].isna()].obs[c].values)"
   ]
  },
  {
   "cell_type": "code",
   "execution_count": null,
   "id": "73914b2a",
   "metadata": {},
   "outputs": [],
   "source": [
    "mdata_cite = ann.AnnData(X=mdata[\"gex\"].obs[[f'clr_{el}' for el in custom_cite_ids]\n",
    "                                    ].values, obs=mdata[\"gex\"].obs[['leiden'] + custom_cite_ids])\n",
    "mdata_cite.var_names = custom_cite_ids\n",
    "mdata_cite = mdata_cite[~mdata_cite.obs[custom_cite_ids[0]].isna()]\n",
    "\n",
    "sc.tl.rank_genes_groups(mdata_cite, groupby='leiden', n_genes=20)\n",
    "sc.pl.rank_genes_groups(mdata_cite, groubpy='leiden', show=False)\n",
    "plt.tight_layout()\n",
    "plt.show()\n",
    "mdata.uns['rank_genes_groups_leiden_cite'] = mdata_cite.uns['rank_genes_groups']"
   ]
  },
  {
   "cell_type": "markdown",
   "id": "4e175321",
   "metadata": {},
   "source": [
    "### 'Gating' using the Cite-Seq signals"
   ]
  },
  {
   "cell_type": "code",
   "execution_count": null,
   "id": "6aac08ea",
   "metadata": {},
   "outputs": [],
   "source": [
    "#kdeplot of CD45RA vs CD62L\n",
    "#sb.scatterplot(data=mdata[\"gex\"].obs, x=mdata[\"gex\"].obs['clr_CD62L'], y=mdata[\"gex\"].obs['clr_CD45RA'],\n",
    "                # alpha=0.1, hue=mdata[\"gex\"].obs['clr_CD95'], palette='Spectral_r', legend=False)\n",
    "sb.kdeplot(data=mdata[\"gex\"].obs, x=mdata[\"gex\"].obs['clr_CD62L'], y=mdata[\"gex\"].obs['clr_CD45RA'], \n",
    "               legend=False, fill=False, color='grey', levels=30, bw_adjust=0.6)\n",
    "\n",
    "a = (len(mdata[\"gex\"].obs[(mdata[\"gex\"].obs['clr_CD45RA'] > 1.3) & (mdata[\"gex\"].obs['clr_CD62L'] <=2)])/len(mdata[\"gex\"].obs))*100\n",
    "b = (len(mdata[\"gex\"].obs[(mdata[\"gex\"].obs['clr_CD45RA'] > 1.3) & (mdata[\"gex\"].obs['clr_CD62L'] > 2)])/len(mdata[\"gex\"].obs))*100\n",
    "c = (len(mdata[\"gex\"].obs[(mdata[\"gex\"].obs['clr_CD45RA'] <=1.3) & (mdata[\"gex\"].obs['clr_CD62L'] > 2)])/len(mdata[\"gex\"].obs))*100\n",
    "d = (len(mdata[\"gex\"].obs[(mdata[\"gex\"].obs['clr_CD45RA'] <=1.3) & (mdata[\"gex\"].obs['clr_CD62L'] <=2)])/len(mdata[\"gex\"].obs))*100\n",
    "\n",
    "plt.axvline(x=2, color='black', linestyle='dashed')\n",
    "plt.axhline(y=1.3, color='black', linestyle='dashed')\n",
    "plt.xlabel('CD62L')\n",
    "plt.ylabel('CD45RA')\n",
    "plt.xlim(right=4)\n",
    "plt.ylim(-0.4,3)\n",
    "\n",
    "plt.text(-0.25, 2.75, f'{a:.2f}%', bbox=dict(facecolor='white', alpha=0, edgecolor='black'))\n",
    "plt.text(2.8, 2.75, f'{b:.2f}%', bbox=dict(facecolor='white', alpha=0, edgecolor='black'))\n",
    "plt.text(2.8, -0.35, f'{c:.2f}%', bbox=dict(facecolor='white', alpha=0, edgecolor='black'))\n",
    "plt.text(-0.25, -0.35, f'{d:.2f}%', bbox=dict(facecolor='white', alpha=0, edgecolor='black'))\n",
    "\n",
    "plt.savefig(f'Gating_strategy_CD45RA_CD62L_version_4_contour.png', dpi=600)"
   ]
  },
  {
   "cell_type": "code",
   "execution_count": null,
   "id": "48d159cc",
   "metadata": {},
   "outputs": [],
   "source": [
    "#kdeplot of CD95 vs CD62L - all cells\n",
    "sb.scatterplot(data=mdata[\"gex\"].obs, \n",
    "               x=mdata[\"gex\"].obs['clr_CD62L'], \n",
    "               y=mdata[\"gex\"].obs['clr_CD95'],\n",
    "                 alpha=0.2, hue=mdata[\"gex\"].obs['clr_CD45RA'], \n",
    "               palette='Spectral_r', legend=False)\n",
    "sb.kdeplot(data=mdata[\"gex\"].obs, \n",
    "           x=mdata[\"gex\"].obs['clr_CD62L'], \n",
    "           y=mdata[\"gex\"].obs['clr_CD95'], \n",
    "               legend=False, fill=False, color='grey', levels=20, bw_adjust=0.6)\n",
    "\n",
    "plt.axvline(x=2, color='black', linestyle='dashed')\n",
    "plt.axhline(y=1, color='black', linestyle='dashed')\n",
    "plt.xlabel('CD62L')\n",
    "plt.ylabel('CD95')\n",
    "plt.xlim(right=4)\n",
    "plt.ylim(-0.4,3)\n",
    "plt.savefig(f'Gating_strategy_CD95_CD62L_version_4.png', dpi=600)"
   ]
  },
  {
   "cell_type": "code",
   "execution_count": null,
   "id": "3376c38c",
   "metadata": {},
   "outputs": [],
   "source": [
    "#Histograms for CD95\n",
    "#pregating\n",
    "adata = mdata['gex'][(mdata['gex'].obs['clr_CD45RA']>1)&(mdata['gex'].obs['clr_CD62L']>1.6)]\n",
    "sb.kdeplot(data=adata.obs, \n",
    "            x=adata.obs['clr_CD95'], bw_adjust=0.2, fill=True, color='#d4d4d4')\n",
    "plt.axvline(x=0.5, color='black', linestyle='dashed')\n",
    "plt.savefig(f'Gating_strategy_CD95_histogram_version_1_N.png', dpi=600)\n",
    "plt.show()"
   ]
  },
  {
   "cell_type": "code",
   "execution_count": null,
   "id": "a082afb0",
   "metadata": {},
   "outputs": [],
   "source": [
    "sc.pl.umap(mdata['gex'], color=['clr_CD27'], size=50, show=False,\n",
    "                 cmap=cust, vmax=2, vmin=0)\n",
    "plt.tight_layout()\n",
    "plt.savefig(f'UMAP_CD27.pdf', dpi=600)"
   ]
  },
  {
   "cell_type": "code",
   "execution_count": null,
   "id": "50450df5",
   "metadata": {},
   "outputs": [],
   "source": [
    "sc.pl.umap(mdata['gex'], color=['clr_CXCR3-1'], size=50, show=False,\n",
    "                 cmap=cust, vmax=2, vmin=0)\n",
    "plt.tight_layout()\n",
    "plt.savefig(f'UMAP_CXCR3.pdf', dpi=600)"
   ]
  },
  {
   "cell_type": "code",
   "execution_count": null,
   "id": "97a92833",
   "metadata": {},
   "outputs": [],
   "source": [
    "sc.pl.umap(mdata['gex'], color=['clr_CCR7-1'], size=50, show=False,\n",
    "                 cmap=cust, vmax=2, vmin=0)\n",
    "plt.tight_layout()\n",
    "plt.savefig(f'UMAP_CCR7.pdf', dpi=600)"
   ]
  },
  {
   "cell_type": "code",
   "execution_count": null,
   "id": "0ac07615",
   "metadata": {},
   "outputs": [],
   "source": [
    "sc.pl.umap(mdata['gex'], color=['clr_CD95'], size=50, show=False,\n",
    "                 cmap=cust, vmax=2, vmin=0)\n",
    "plt.tight_layout()\n",
    "plt.savefig(f'UMAP_CD95.pdf', dpi=600)"
   ]
  },
  {
   "cell_type": "code",
   "execution_count": null,
   "id": "66c64f34",
   "metadata": {},
   "outputs": [],
   "source": [
    "sc.pl.umap(mdata['gex'], color=['clr_CD45RA'], size=50, show=False,\n",
    "                 cmap=cust, vmax=2, vmin=0)\n",
    "plt.tight_layout()\n",
    "plt.savefig(f'UMAP_CD45RA.pdf', dpi=600)"
   ]
  },
  {
   "cell_type": "code",
   "execution_count": null,
   "id": "c2c70379",
   "metadata": {},
   "outputs": [],
   "source": [
    "sc.pl.umap(mdata['gex'], color=['clr_CD62L'], size=50, show=False,\n",
    "                 cmap=cust, vmax=2, vmin=0)\n",
    "plt.tight_layout()\n",
    "plt.savefig(f'UMAP_CD62L.pdf', dpi=600)"
   ]
  },
  {
   "cell_type": "code",
   "execution_count": null,
   "id": "93dba7c6",
   "metadata": {},
   "outputs": [],
   "source": [
    "#add definitions to mdata - version 1\n",
    "mdata[\"gex\"].obs['CD45RA+v1'] = mdata[\"gex\"].obs['clr_CD45RA'].apply(lambda x: 1 if x>=1 else 0)\n",
    "mdata[\"gex\"].obs['CD62L+v1'] = mdata[\"gex\"].obs['clr_CD62L'].apply(lambda x: 1 if x>=1.6 else 0)\n",
    "mdata[\"gex\"].obs['CD95+v1'] = mdata[\"gex\"].obs['clr_CD95'].apply(lambda x: 1 if x>=0.5 else 0)\n",
    "\n",
    "#add definitions to mdata - version 2\n",
    "mdata[\"gex\"].obs['CD45RA+v2'] = mdata[\"gex\"].obs['clr_CD45RA'].apply(lambda x: 1 if x>=1 else 0)\n",
    "mdata[\"gex\"].obs['CD62L+v2'] = mdata[\"gex\"].obs['clr_CD62L'].apply(lambda x: 1 if x>=1.6 else 0)\n",
    "mdata[\"gex\"].obs['CD95+v2'] = mdata[\"gex\"].obs['clr_CD95'].apply(lambda x: 1 if x>=1 else 0)\n",
    "\n",
    "#add definitions to mdata - version 3\n",
    "mdata[\"gex\"].obs['CD45RA+v3'] = mdata[\"gex\"].obs['clr_CD45RA'].apply(lambda x: 1 if x>=1.3 else 0)\n",
    "mdata[\"gex\"].obs['CD62L+v3'] = mdata[\"gex\"].obs['clr_CD62L'].apply(lambda x: 1 if x>=1.6 else 0)\n",
    "mdata[\"gex\"].obs['CD95+v3'] = mdata[\"gex\"].obs['clr_CD95'].apply(lambda x: 1 if x>=1 else 0)\n",
    "\n",
    "#add definitions to mdata - version 4\n",
    "mdata[\"gex\"].obs['CD45RA+v4'] = mdata[\"gex\"].obs['clr_CD45RA'].apply(lambda x: 1 if x>=1.3 else 0)\n",
    "mdata[\"gex\"].obs['CD62L+v4'] = mdata[\"gex\"].obs['clr_CD62L'].apply(lambda x: 1 if x>=2 else 0)\n",
    "mdata[\"gex\"].obs['CD95+v4'] = mdata[\"gex\"].obs['clr_CD95'].apply(lambda x: 1 if x>=1 else 0)"
   ]
  },
  {
   "cell_type": "code",
   "execution_count": null,
   "id": "3ca54597",
   "metadata": {},
   "outputs": [],
   "source": [
    "#add FACS Phenotype column\n",
    "mdata[\"gex\"].obs['FACS_Phenotype_v1'] = 'none'\n",
    "mdata[\"gex\"].obs['FACS_Phenotype_v2'] = 'none'\n",
    "mdata[\"gex\"].obs['FACS_Phenotype_v3'] = 'none'\n",
    "mdata[\"gex\"].obs['FACS_Phenotype_v4'] = 'none'\n",
    "\n",
    "for i in range(len(mdata[\"gex\"].obs)):\n",
    "    for j in ['v1', 'v2', 'v3', 'v4']:\n",
    "        if ((mdata[\"gex\"].obs['CD45RA+'+j][i]==1) & (mdata[\"gex\"].obs['CD62L+'+j][i]==0)):\n",
    "            mdata[\"gex\"].obs['FACS_Phenotype_'+j][i] = 'EF'\n",
    "        else:\n",
    "            if ((mdata[\"gex\"].obs['CD45RA+'+j][i]==0) & (mdata[\"gex\"].obs['CD62L+'+j][i]==0)):\n",
    "                mdata[\"gex\"].obs['FACS_Phenotype_'+j][i] = 'EM'\n",
    "            else:\n",
    "                if ((mdata[\"gex\"].obs['CD45RA+'+j][i]==0) & (mdata[\"gex\"].obs['CD62L+'+j][i]==1)):\n",
    "                    mdata[\"gex\"].obs['FACS_Phenotype_'+j][i] = 'CM'\n",
    "                else:\n",
    "                    if ((mdata[\"gex\"].obs['CD45RA+'+j][i]==1) & (mdata[\"gex\"].obs['CD62L+'+j][i]==1) & (mdata[\"gex\"].obs['CD95+'+j][i]==1)):\n",
    "                        mdata[\"gex\"].obs['FACS_Phenotype_'+j][i] = 'SCM'\n",
    "                    else:\n",
    "                        if ((mdata[\"gex\"].obs['CD45RA+'+j][i]==1) & (mdata[\"gex\"].obs['CD62L+'+j][i]==1) & (mdata[\"gex\"].obs['CD95+'+j][i]==0)):\n",
    "                            mdata[\"gex\"].obs['FACS_Phenotype_'+j][i] = 'N'\n",
    "                        else:\n",
    "                            mdata[\"gex\"].obs['FACS_Phenotype_'+j][i] = 'NONE'"
   ]
  },
  {
   "cell_type": "code",
   "execution_count": null,
   "id": "c9b39aee",
   "metadata": {
    "scrolled": true
   },
   "outputs": [],
   "source": [
    "for j in ['v1', 'v2', 'v3', 'v4']:\n",
    "    ax = sc.pl.umap(mdata[\"gex\"], show=False, size=30)\n",
    "    ax = sc.pl.umap(mdata[\"gex\"][mdata[\"gex\"].obs['CD45RA+'+j]==1], color='CD95+'+j, ax=ax, show=False, size=30, \n",
    "                cmap=cust)\n",
    "    plt.title('CD45RA+ colored by CD95 '+str(j))\n",
    "    plt.savefig(f'UMAP_CD45RA_colored_by_CD95_{j}.png', dpi=600)\n",
    "    plt.show()"
   ]
  },
  {
   "cell_type": "code",
   "execution_count": null,
   "id": "820e1dd2",
   "metadata": {
    "scrolled": true
   },
   "outputs": [],
   "source": [
    "for j in ['v1', 'v2', 'v3', 'v4']:\n",
    "    ax = sc.pl.umap(mdata[\"gex\"], show=False, size=30)\n",
    "    ax = sc.pl.umap(mdata[\"gex\"][mdata[\"gex\"].obs['CD45RA+'+j]==1], color='CD62L+'+j, ax=ax, show=False, size=30, \n",
    "                cmap=cust)\n",
    "    plt.title('CD45RA+ colored by CD62L '+str(j))\n",
    "    plt.savefig(f'UMAP_CD45RA_colored_by_CD62L_{j}.png', dpi=600)\n",
    "    plt.show()"
   ]
  },
  {
   "cell_type": "code",
   "execution_count": null,
   "id": "3fb049f0",
   "metadata": {
    "scrolled": true
   },
   "outputs": [],
   "source": [
    "for j in ['v1', 'v2', 'v3', 'v4']:\n",
    "    ax = sc.pl.umap(mdata[\"gex\"], show=False, size=30)\n",
    "    ax = sc.pl.umap(mdata[\"gex\"][mdata[\"gex\"].obs['CD62L+'+j]==1], color='CD45RA+'+j, ax=ax, show=False, size=30, \n",
    "                cmap=cust)\n",
    "    plt.title('CD62L+ colored by CD45RA '+str(j))\n",
    "    plt.savefig(f'UMAP_CD62L_colored_by_CD45RA_{j}.png', dpi=600)\n",
    "    plt.show()"
   ]
  },
  {
   "cell_type": "code",
   "execution_count": null,
   "id": "3d17f9b3",
   "metadata": {
    "scrolled": true
   },
   "outputs": [],
   "source": [
    "for j in ['v1', 'v2', 'v3', 'v4']:\n",
    "    ax = sc.pl.umap(mdata[\"gex\"], show=False, size=30)\n",
    "    ax = sc.pl.umap(mdata[\"gex\"][mdata[\"gex\"].obs['CD95+'+j]==1], color='CD45RA+'+j, ax=ax, show=False, size=30, \n",
    "                cmap=cust)\n",
    "    plt.title('CD95+ colored by CD45RA '+str(j))\n",
    "    plt.savefig(f'UMAP_CD95_colored_by_CD45RA_{j}.png', dpi=600)\n",
    "    plt.show()"
   ]
  },
  {
   "cell_type": "code",
   "execution_count": null,
   "id": "30d2668b",
   "metadata": {},
   "outputs": [],
   "source": [
    "rcParams['figure.figsize'] = (5, 5)\n",
    "sc.pl.umap(mdata[\"gex\"], color=['clr_CD45RA', 'CD45RA+v1', 'CD45RA+v2', 'CD45RA+v3', 'CD45RA+v4', \n",
    "                                'clr_CD62L', 'CD62L+v1', 'CD62L+v2', 'CD62L+v3', 'CD62L+v4',\n",
    "                                'clr_CD95', 'CD95+v1', 'CD95+v2', 'CD95+v3', 'CD95+v4'],\n",
    "           show=False, color_map=cust, size=30, ncols=5)\n",
    "plt.tight_layout()\n",
    "plt.savefig(f'UMAP_comparison_v1-4.png', dpi=600)\n",
    "plt.show()"
   ]
  },
  {
   "cell_type": "markdown",
   "id": "0c16e299",
   "metadata": {},
   "source": [
    "### Histograms stacked per Leiden Cluster"
   ]
  },
  {
   "cell_type": "code",
   "execution_count": null,
   "id": "e1d06f9f",
   "metadata": {},
   "outputs": [],
   "source": [
    "sb.histplot(data=mdata[\"gex\"].obs, \n",
    "            x=mdata[\"gex\"].obs['clr_CD62L'], \n",
    "            hue=mdata[\"gex\"].obs['leiden'], multiple='stack', legend=True)\n",
    "plt.xlim(right=4)\n",
    "plt.ylabel('number of cells')\n",
    "plt.xlabel('CD62L')\n",
    "plt.axvline(x=2, color='black', linestyle='dashed')\n",
    "plt.tight_layout()\n",
    "plt.savefig(f'Histogram_stacked_leiden_CD62L_version_4.png', dpi=600)\n",
    "plt.show()"
   ]
  },
  {
   "cell_type": "code",
   "execution_count": null,
   "id": "eeeaf6e7",
   "metadata": {},
   "outputs": [],
   "source": [
    "sb.histplot(data=mdata[\"gex\"].obs, \n",
    "            x=mdata[\"gex\"].obs['clr_CD45RA'], \n",
    "            hue=mdata[\"gex\"].obs['leiden'], multiple=\"stack\", legend=True)\n",
    "plt.xlim(right=3)\n",
    "plt.ylabel('number of cells')\n",
    "plt.xlabel('CD45RA')\n",
    "plt.axvline(x=1, color='black', linestyle='dashed')\n",
    "plt.tight_layout()\n",
    "plt.savefig(f'Histogram_stacked_leiden_CD45RA_version_1.png', dpi=600)\n",
    "plt.show()"
   ]
  },
  {
   "cell_type": "code",
   "execution_count": null,
   "id": "99549d77",
   "metadata": {},
   "outputs": [],
   "source": [
    "sb.histplot(data=mdata[\"gex\"].obs, \n",
    "            x=mdata[\"gex\"].obs['clr_CD95'], \n",
    "            hue=mdata[\"gex\"].obs['leiden'], multiple=\"stack\", legend=True)\n",
    "plt.xlim(right=2.5)\n",
    "plt.ylabel('number of cells')\n",
    "plt.xlabel('CD95')\n",
    "plt.axvline(x=0.5, color='black', linestyle='dashed')\n",
    "plt.tight_layout()\n",
    "plt.savefig(f'Histogram_stacked_leiden_CD95_version_1.png', dpi=600)\n",
    "plt.show()"
   ]
  },
  {
   "cell_type": "markdown",
   "id": "93fc9dfb",
   "metadata": {},
   "source": [
    "### Correlation Protein / RNA"
   ]
  },
  {
   "cell_type": "code",
   "execution_count": null,
   "id": "ebd1ad8c",
   "metadata": {
    "scrolled": true
   },
   "outputs": [],
   "source": [
    "sc.pl.scatter(mdata[\"gex\"], x='clr_CD62L', y='SELL')\n",
    "sc.pl.scatter(mdata[\"gex\"], x='clr_CD45RA', y='PTPRC')\n",
    "sc.pl.scatter(mdata[\"gex\"], x='clr_CD95', y='FAS')"
   ]
  },
  {
   "cell_type": "code",
   "execution_count": null,
   "id": "b23bc28c",
   "metadata": {},
   "outputs": [],
   "source": [
    "sc.pl.umap(mdata[\"gex\"], color=['clr_CD45RA', 'PTPRC', \n",
    "                                'clr_CD62L', 'SELL',\n",
    "                                'clr_CD95', 'FAS'], show=False, color_map=cust, size=30, ncols=2)\n",
    "plt.tight_layout()\n",
    "plt.savefig(f'UMAP_comparison_protein_rna.png', dpi=600)\n",
    "plt.show()"
   ]
  },
  {
   "cell_type": "markdown",
   "id": "3c4c4093",
   "metadata": {},
   "source": [
    "## Subset distribution"
   ]
  },
  {
   "cell_type": "markdown",
   "id": "52366f26",
   "metadata": {},
   "source": [
    "### UMAP all cells"
   ]
  },
  {
   "cell_type": "code",
   "execution_count": null,
   "id": "49888741",
   "metadata": {},
   "outputs": [],
   "source": [
    "#Plot UMAP of FACS Phenotypes for all cells in comparison to leiden\n",
    "pal = {'N': '#d4d4d4',\n",
    "      'SCM': '#90bff9',\n",
    "      'CM': '#0e4d92',\n",
    "      'EM': '#21918c',\n",
    "      'EF': '#00c000'}\n",
    "\n",
    "rcParams['figure.figsize'] = (6, 6)\n",
    "sc.pl.umap(mdata[\"gex\"], color=['leiden'], show=False, size=30)\n",
    "plt.tight_layout()\n",
    "plt.savefig('/media/agschober/HDD12/3_scRNA-Seq_Sina/4_Cite-Seq/UMAPs_leiden.png', dpi=600)\n",
    "plt.show()\n",
    "\n",
    "rcParams['figure.figsize'] = (6, 6)\n",
    "sc.pl.umap(mdata[\"gex\"], color=['FACS_Phenotype_v1'], show=False, size=30, palette=pal)\n",
    "plt.tight_layout()\n",
    "plt.savefig('/media/agschober/HDD12/3_scRNA-Seq_Sina/4_Cite-Seq/Gating_strategy_v1-4/UMAP_FACS_Phenotype_v1.png', dpi=600)\n",
    "plt.show()\n",
    "\n",
    "rcParams['figure.figsize'] = (6, 6)\n",
    "sc.pl.umap(mdata[\"gex\"], color=['FACS_Phenotype_v2'], show=False, size=30, palette=pal)\n",
    "plt.tight_layout()\n",
    "plt.savefig('/media/agschober/HDD12/3_scRNA-Seq_Sina/4_Cite-Seq/Gating_strategy_v1-4/UMAP_FACS_Phenotype_v2.png', dpi=600)\n",
    "plt.show()\n",
    "\n",
    "rcParams['figure.figsize'] = (6, 6)\n",
    "sc.pl.umap(mdata[\"gex\"], color=['FACS_Phenotype_v3'], show=False, size=30, palette=pal)\n",
    "plt.tight_layout()\n",
    "plt.savefig('/media/agschober/HDD12/3_scRNA-Seq_Sina/4_Cite-Seq/Gating_strategy_v1-4/UMAP_FACS_Phenotype_v3.png', dpi=600)\n",
    "plt.show()\n",
    "\n",
    "rcParams['figure.figsize'] = (6, 6)\n",
    "sc.pl.umap(mdata[\"gex\"], color=['FACS_Phenotype_v4'], show=False, size=30, palette=pal)\n",
    "plt.tight_layout()\n",
    "plt.savefig('/media/agschober/HDD12/3_scRNA-Seq_Sina/4_Cite-Seq/Gating_strategy_v1-4/UMAP_FACS_Phenotype_v4.png', dpi=600)\n",
    "plt.show()"
   ]
  },
  {
   "cell_type": "code",
   "execution_count": null,
   "id": "2b9b241e",
   "metadata": {
    "scrolled": true
   },
   "outputs": [],
   "source": [
    "# violin plots\n",
    "specific_order = ['N', 'SCM', 'CM', 'EM', 'EF']\n",
    "\n",
    "mdata[\"gex\"].obs['FACS_Phenotype_v1'] = mdata[\"gex\"].obs['FACS_Phenotype_v1'].cat.reorder_categories(['N', 'SCM', 'CM', 'EM', 'EF'], ordered=True)\n",
    "mdata[\"gex\"].obs['FACS_Phenotype_v2'] = mdata[\"gex\"].obs['FACS_Phenotype_v2'].cat.reorder_categories(['N', 'SCM', 'CM', 'EM', 'EF'], ordered=True)\n",
    "mdata[\"gex\"].obs['FACS_Phenotype_v3'] = mdata[\"gex\"].obs['FACS_Phenotype_v3'].cat.reorder_categories(['N', 'SCM', 'CM', 'EM', 'EF'], ordered=True)\n",
    "mdata[\"gex\"].obs['FACS_Phenotype_v4'] = mdata[\"gex\"].obs['FACS_Phenotype_v4'].cat.reorder_categories(['N', 'SCM', 'CM', 'EM', 'EF'], ordered=True)\n",
    "\n",
    "rcParams['figure.figsize'] = (5, 5)\n",
    "sc.pl.violin(mdata[\"gex\"], keys=['FACS_Phenotype_v1'], groupby='leiden')\n",
    "plt.tight_layout()\n",
    "plt.savefig('/media/agschober/HDD12/3_scRNA-Seq_Sina/4_Cite-Seq/Gating_strategy_v1-4/Violin_FACS_Phenotype_v1.png', dpi=600)\n",
    "plt.show()\n",
    "\n",
    "sc.pl.violin(mdata[\"gex\"], keys=['FACS_Phenotype_v2'], groupby='leiden')\n",
    "plt.tight_layout()\n",
    "plt.savefig('/media/agschober/HDD12/3_scRNA-Seq_Sina/4_Cite-Seq/Gating_strategy_v1-4/Violin_FACS_Phenotype_v2.png', dpi=600)\n",
    "plt.show()\n",
    "\n",
    "sc.pl.violin(mdata[\"gex\"], keys=['FACS_Phenotype_v3'], groupby='leiden')\n",
    "plt.tight_layout()\n",
    "plt.savefig('/media/agschober/HDD12/3_scRNA-Seq_Sina/4_Cite-Seq/Gating_strategy_v1-4/Violin_FACS_Phenotype_v3.png', dpi=600)\n",
    "plt.show()\n",
    "\n",
    "sc.pl.violin(mdata[\"gex\"], keys=['FACS_Phenotype_v4'], groupby='leiden')\n",
    "plt.tight_layout()\n",
    "plt.savefig('/media/agschober/HDD12/3_scRNA-Seq_Sina/4_Cite-Seq/Gating_strategy_v1-4/Violin_FACS_Phenotype_v4.png', dpi=600)\n",
    "plt.show()"
   ]
  },
  {
   "cell_type": "markdown",
   "id": "04b0ca75",
   "metadata": {},
   "source": [
    "### UMAP specific cells over time"
   ]
  },
  {
   "cell_type": "code",
   "execution_count": null,
   "id": "d2f3107f",
   "metadata": {
    "scrolled": true
   },
   "outputs": [],
   "source": [
    "#plot specific cells annotated with FACS phenotypes over time\n",
    "pal = {'N': 'black',\n",
    "      'SCM': '#90bff9',\n",
    "      'CM': '#0e4d92',\n",
    "      'EM': '#21918c',\n",
    "      'EF': '#00c000'}\n",
    "\n",
    "for j in ['v1', 'v2', 'v3', 'v4']:\n",
    "    for time in (mdata['gex'].obs['time']).unique():\n",
    "        for ep in ['NS4B214']:\n",
    "            ax = sc.pl.umap(mdata[\"gex\"], show=False, size=30)\n",
    "            sc.pl.umap(mdata[\"gex\"][(mdata[\"gex\"].obs['time']==time)&((mdata[\"gex\"].obs['specific_new']=='NS4B214'))], \n",
    "                           color='FACS_Phenotype_'+j, ax = ax, show=False, size=60, palette=pal)\n",
    "            plt.title(str(time)+str(j))\n",
    "            plt.tight_layout()\n",
    "            plt.savefig(f'/media/agschober/HDD12/3_scRNA-Seq_Sina/4_Cite-Seq/Gating_strategy_v1-4/Specific_cells_over_time_{time}_colored_by_FACS_{j}.png')\n",
    "            plt.figsize=(10,10)\n",
    "            plt.show()"
   ]
  },
  {
   "cell_type": "code",
   "execution_count": null,
   "id": "8b46368a",
   "metadata": {
    "scrolled": true
   },
   "outputs": [],
   "source": [
    "#single umaps per FACS phenotype\n",
    "\n",
    "pal = {'N': 'black',\n",
    "      'SCM': '#90bff9',\n",
    "      'CM': '#0e4d92',\n",
    "      'EM': '#21918c',\n",
    "      'EF': '#00c000'}\n",
    "\n",
    "for j in ['v1', 'v2', 'v3', 'v4']:\n",
    "    ax = sc.pl.umap(mdata[\"gex\"], show=False, size=30)\n",
    "    ax = sc.pl.umap(mdata[\"gex\"][mdata[\"gex\"].obs['FACS_Phenotype_'+j]=='N'], ax=ax, show=False, size=30, \n",
    "                    color='FACS_Phenotype_'+j, palette=pal)\n",
    "    plt.title('N '+j)\n",
    "    plt.savefig(f'Naive_FACS_Phenotype_UMAP_{j}.png', dpi=600)\n",
    "    plt.show()\n",
    "\n",
    "    ax = sc.pl.umap(mdata[\"gex\"], show=False, size=30)\n",
    "    ax = sc.pl.umap(mdata[\"gex\"][mdata[\"gex\"].obs['FACS_Phenotype_'+j]=='SCM'], ax=ax, show=False, size=30, \n",
    "                    color='FACS_Phenotype_'+j, palette=pal)\n",
    "    plt.title('SCM '+j)\n",
    "    plt.savefig(f'SCM_FACS_Phenotype_UMAP_{j}.png', dpi=600)\n",
    "    plt.show()\n",
    "\n",
    "    ax = sc.pl.umap(mdata[\"gex\"], show=False, size=30)\n",
    "    ax = sc.pl.umap(mdata[\"gex\"][mdata[\"gex\"].obs['FACS_Phenotype_'+j]=='CM'], ax=ax, show=False, size=30, \n",
    "                    color='FACS_Phenotype_'+j, palette=pal)\n",
    "    plt.title('CM '+j)\n",
    "    plt.savefig(f'CM_FACS_Phenotype_UMAP_{j}.png', dpi=600)\n",
    "    plt.show()\n",
    "    \n",
    "    ax = sc.pl.umap(mdata[\"gex\"], show=False, size=30)\n",
    "    ax = sc.pl.umap(mdata[\"gex\"][mdata[\"gex\"].obs['FACS_Phenotype_'+j]=='EM'], ax=ax, show=False, size=30, \n",
    "                    color='FACS_Phenotype_'+j, palette=pal)\n",
    "    plt.title('EM '+j)\n",
    "    plt.savefig(f'EM_FACS_Phenotype_UMAP_{j}.png', dpi=600)\n",
    "    plt.show()\n",
    "\n",
    "    ax = sc.pl.umap(mdata[\"gex\"], show=False, size=30)\n",
    "    ax = sc.pl.umap(mdata[\"gex\"][mdata[\"gex\"].obs['FACS_Phenotype_'+j]=='EF'], ax=ax, show=False, size=30, \n",
    "                    color='FACS_Phenotype_'+j, palette=pal)\n",
    "    plt.title('EF '+j)\n",
    "    plt.savefig(f'EF_FACS_Phenotype_UMAP_{j}.png', dpi=600)\n",
    "    plt.show()"
   ]
  },
  {
   "cell_type": "code",
   "execution_count": null,
   "id": "fb541e94",
   "metadata": {
    "scrolled": true
   },
   "outputs": [],
   "source": [
    "#Plot leiden clusters with hue FACS\n",
    "pal = {'N': '#d4d4d4',\n",
    "      'SCM': '#90bff9',\n",
    "      'CM': '#0e4d92',\n",
    "      'EM': '#21918c',\n",
    "      'EF': '#00c000'}\n",
    "\n",
    "for j in ['v1', 'v2', 'v3', 'v4']:\n",
    "    ir.pl.group_abundance(mdata[\"gex\"], groupby='leiden', target_col='FACS_Phenotype_'+j, \n",
    "                      normalize=True, fig_kws={'figsize': (12, 5)}, color=pal)\n",
    "    plt.savefig(f'FACS_Phenotypes_over_Leiden_{j}.png', dpi=600)\n",
    "    plt.show()"
   ]
  },
  {
   "cell_type": "code",
   "execution_count": null,
   "id": "42221c74",
   "metadata": {
    "scrolled": true
   },
   "outputs": [],
   "source": [
    "#Plot FACS Phenotypes with hue time - YF specific versus control cells\n",
    "pal = {'N': '#d4d4d4',\n",
    "      'SCM': '#90bff9',\n",
    "      'CM': '#0e4d92',\n",
    "      'EM': '#21918c',\n",
    "      'EF': '#00c000'}\n",
    "\n",
    "for j in ['v1', 'v2', 'v3', 'v4']:\n",
    "    ir.pl.group_abundance(mdata[\"gex\"][(mdata[\"gex\"].obs['specific_new'].isin(['NS4B214', 'NS2B117', 'NS3293', 'NS3286', 'NS324', 'NS5672',\n",
    "           'NS2A97', 'NS4B165']))],\n",
    "                      groupby='time', \n",
    "                      target_col='FACS_Phenotype_'+j, \n",
    "                      normalize=True, fig_kws={'figsize': (8, 4)}, \n",
    "                      sort=['d0', 'd7', 'd11', 'd14', 'd21', 'd28', 'd49', 'd90', 'd365', 'dx'], color=pal)\n",
    "    plt.title('YF specific cells over time '+j)\n",
    "    plt.savefig(f'YF_specific_cells_over_FACS_Phenotype_over_time_{j}.png')\n",
    "    plt.show()\n",
    "\n",
    "    ir.pl.group_abundance(mdata[\"gex\"][(mdata[\"gex\"].obs['specific_new'].isin(['COV', 'HHV', 'FLU', 'EBV1', 'EBV2']))],\n",
    "                      groupby='time', \n",
    "                      target_col='FACS_Phenotype_'+j, \n",
    "                      normalize=True, fig_kws={'figsize': (8, 4)}, \n",
    "                      sort=['d14', 'd21', 'd90', 'd365', 'dx'], color=pal)\n",
    "    plt.title('control specific cells over time')\n",
    "    plt.savefig(f'Control_specific_cells_over_FACS_Phenotype_over_time_{j}.png')\n",
    "    plt.show()"
   ]
  },
  {
   "cell_type": "code",
   "execution_count": null,
   "id": "9d45922a",
   "metadata": {
    "scrolled": true
   },
   "outputs": [],
   "source": [
    "#Plot leiden clusters with hue FACS - NS4B214 specific cells\n",
    "for j in ['v1', 'v2', 'v3', 'v4']:\n",
    "    for time in ['d0', 'd7', 'd11', 'd14', 'd21', 'd28', 'd49', 'd90', 'd365', 'dx']:\n",
    "        ir.pl.group_abundance(mdata[\"gex\"][(mdata[\"gex\"].obs['specific_new']=='NS4B214') & \n",
    "                                       (mdata[\"gex\"].obs['time']==time)],\n",
    "                          groupby='leiden', \n",
    "                      target_col='FACS_Phenotype_'+j, \n",
    "                      normalize=True, fig_kws={'figsize': (12, 5)})\n",
    "        plt.title(time)\n",
    "        plt.savefig(f'FACS_Phenotypes_specific_cells_over_leiden_and_time_{time}_normalised_{j}.png', dpi=600)\n",
    "        plt.show()"
   ]
  },
  {
   "cell_type": "code",
   "execution_count": null,
   "id": "f299909e",
   "metadata": {},
   "outputs": [],
   "source": [
    "#Plot specific cell distribution per leiden cluster over time\n",
    "vals = pd.DataFrame(columns = ['d0', 'd7', 'd11', 'd14', 'd21', 'd28', 'd49', 'd90', 'd365', 'dx'], \n",
    "                    index = [0, 1, 2, 3, 4, 5, 6, 7, 8, 9, 10, 11, 12, 13])\n",
    "\n",
    "for time in ['d0', 'd7', 'd11', 'd14', 'd21', 'd28', 'd49', 'd90', 'd365', 'dx']:\n",
    "    for i in range(13):\n",
    "        vals[time][i] = len(mdata[\"gex\"].obs[(mdata[\"gex\"].obs['time']==time)&\n",
    "                                             (mdata[\"gex\"].obs['specific_new']=='NS4B214')&\n",
    "                                             (mdata[\"gex\"].obs['leiden']==str(i))])"
   ]
  },
  {
   "cell_type": "code",
   "execution_count": null,
   "id": "0fa2a819",
   "metadata": {},
   "outputs": [],
   "source": [
    "valsper = vals\n",
    "for time in ['d0', 'd7', 'd11', 'd14', 'd21', 'd28', 'd49', 'd90', 'd365', 'dx']:\n",
    "    valsper[time] = (valsper[time]/(valsper[time]).sum())*100"
   ]
  },
  {
   "cell_type": "code",
   "execution_count": null,
   "id": "f08eeb4d",
   "metadata": {},
   "outputs": [],
   "source": [
    "valsper.to_csv('percentage_NS4B214_specific_cells_over_time_and_leiden.csv')"
   ]
  },
  {
   "cell_type": "code",
   "execution_count": null,
   "id": "0cbe15b3",
   "metadata": {},
   "outputs": [],
   "source": [
    "#plot valsper\n",
    "plt.plot(valsper.columns, valsper.T, label=valsper.index)\n",
    "plt.legend(loc='upper left', bbox_to_anchor=(1, 1), title='leiden cluster', handlelength=1.5)\n",
    "plt.ylabel('% of cells')\n",
    "plt.title('NS4B214 specific cells over leiden clusters')\n",
    "plt.savefig('NS4B214_specific_cells_over_time_over_leiden_clusters.pdf')\n",
    "plt.show()"
   ]
  },
  {
   "cell_type": "code",
   "execution_count": null,
   "id": "92849f7e",
   "metadata": {},
   "outputs": [],
   "source": [
    "sc.pl.umap(mdata[\"gex\"], color=['leiden'], cmap=cust, show=False)"
   ]
  },
  {
   "cell_type": "code",
   "execution_count": null,
   "id": "6057ceb9",
   "metadata": {},
   "outputs": [],
   "source": [
    "#same but grouped by Phenotypes\n",
    "\n",
    "vals = pd.DataFrame(columns = ['d0', 'd7', 'd11', 'd14', 'd21', 'd28', 'd49', 'd90', 'd365', 'dx'], \n",
    "                    index = ['N', 'SCM', 'CM', 'RM', 'EM', 'EF', 'CYC'])\n",
    "\n",
    "for time in ['d7', 'd11', 'd14', 'd21', 'd28', 'd49', 'd90', 'd365', 'dx']:\n",
    "    vals[time]['N'] = len(mdata[\"gex\"].obs[(mdata[\"gex\"].obs['time']==time)&\n",
    "                                             (mdata[\"gex\"].obs['specific']=='NS4B214')&\n",
    "                                             (mdata[\"gex\"].obs['leiden'].isin(['4', '10']))])\n",
    "    vals[time]['CM'] = len(mdata[\"gex\"].obs[(mdata[\"gex\"].obs['time']==time)&\n",
    "                                             (mdata[\"gex\"].obs['specific']=='NS4B214')&\n",
    "                                             (mdata[\"gex\"].obs['leiden'].isin(['9', '11']))])\n",
    "    vals[time]['RM'] = len(mdata[\"gex\"].obs[(mdata[\"gex\"].obs['time']==time)&\n",
    "                                             (mdata[\"gex\"].obs['specific']=='NS4B214')&\n",
    "                                             (mdata[\"gex\"].obs['leiden'].isin(['7', '8']))])\n",
    "    vals[time]['EM'] = len(mdata[\"gex\"].obs[(mdata[\"gex\"].obs['time']==time)&\n",
    "                                             (mdata[\"gex\"].obs['specific']=='NS4B214')&\n",
    "                                             (mdata[\"gex\"].obs['leiden'].isin(['2', '3']))])\n",
    "    vals[time]['EF'] = len(mdata[\"gex\"].obs[(mdata[\"gex\"].obs['time']==time)&\n",
    "                                             (mdata[\"gex\"].obs['specific']=='NS4B214')&\n",
    "                                             (mdata[\"gex\"].obs['leiden'].isin(['9', '0', '7', '1']))])\n",
    "    vals[time]['CYC'] = len(mdata[\"gex\"].obs[(mdata[\"gex\"].obs['time']==time)&\n",
    "                                             (mdata[\"gex\"].obs['specific']=='NS4B214')&\n",
    "                                             (mdata[\"gex\"].obs['leiden'].isin(['12']))])"
   ]
  },
  {
   "cell_type": "code",
   "execution_count": null,
   "id": "0ee32c7f",
   "metadata": {},
   "outputs": [],
   "source": [
    "valsper = vals\n",
    "for time in ['d7', 'd11', 'd14', 'd21', 'd28', 'd49', 'd90', 'd365', 'dx']:\n",
    "    valsper[time] = (valsper[time]/(valsper[time]).sum())*100"
   ]
  },
  {
   "cell_type": "code",
   "execution_count": null,
   "id": "463157aa",
   "metadata": {},
   "outputs": [],
   "source": [
    "#plot valsper\n",
    "plt.figure(figsize=(8, 6))\n",
    "plt.plot(valsper.columns, valsper.T, label=valsper.index)\n",
    "plt.legend(loc='upper left', bbox_to_anchor=(1, 1), title='Phenotypes', handlelength=1.5)\n",
    "plt.ylabel('% of cells')\n",
    "plt.title('NS4B214 specific cells over grouped leiden clusters')"
   ]
  },
  {
   "cell_type": "code",
   "execution_count": null,
   "id": "f28c6c16",
   "metadata": {},
   "outputs": [],
   "source": [
    "#same plot for FACS Phenotypes\n",
    "\n",
    "valsf = pd.DataFrame(columns = ['d0', 'd7', 'd11', 'd14', 'd21', 'd28', 'd49', 'd90', 'd365', 'dx'], \n",
    "                    index = ['N', 'SCM', 'CM', 'EM', 'EF'])\n",
    "\n",
    "for time in ['d0', 'd7', 'd11', 'd14', 'd21', 'd28', 'd49', 'd90', 'd365', 'dx']:\n",
    "    for i in ['N', 'SCM', 'CM', 'EM', 'EF']:\n",
    "        valsf[time][i] = len(mdata[\"gex\"].obs[(mdata[\"gex\"].obs['time']==time)&\n",
    "                                             (mdata[\"gex\"].obs['specific_new']=='NS4B214')&\n",
    "                                             (mdata[\"gex\"].obs['FACS_Phenotype']==i)])\n",
    "        \n",
    "valsfper = valsf\n",
    "for time in ['d0', 'd7', 'd11', 'd14', 'd21', 'd28', 'd49', 'd90', 'd365', 'dx']:\n",
    "    valsfper[time] = (valsfper[time]/(valsfper[time]).sum())*100\n",
    "    \n",
    "valsfper.to_csv('percentage_NS4B214_specific_cells_over_time_and_FACS_Phenotype.csv')"
   ]
  },
  {
   "cell_type": "code",
   "execution_count": null,
   "id": "67868739",
   "metadata": {},
   "outputs": [],
   "source": [
    "plt.figure(figsize=(8, 6))\n",
    "plt.plot(valsfper.columns, valsfper.T, label=valsfper.index)\n",
    "plt.legend(loc='upper left', bbox_to_anchor=(1, 1), title='FACS Phenotypes', handlelength=1.5)\n",
    "plt.ylabel('% of cells')\n",
    "plt.title('NS4B214 specific cells over FACS Phenotypes')\n",
    "plt.savefig('NS4B214_specific_cells_over_FACS_Phenotypes.pdf', dpi=600)\n",
    "plt.show()"
   ]
  },
  {
   "cell_type": "code",
   "execution_count": null,
   "id": "d39f0aae",
   "metadata": {},
   "outputs": [],
   "source": [
    "valsfper"
   ]
  },
  {
   "cell_type": "code",
   "execution_count": null,
   "id": "9b731a1f",
   "metadata": {},
   "outputs": [],
   "source": [
    "mdata['gex'].uns['epitopes']"
   ]
  },
  {
   "cell_type": "code",
   "execution_count": null,
   "id": "1312a36a",
   "metadata": {},
   "outputs": [],
   "source": [
    "#Plot leiden clusters with hue time\n",
    "ir.pl.group_abundance(mdata[\"gex\"][(mdata[\"gex\"].obs['specific_new']=='NS4B214')],\n",
    "                      groupby='time', \n",
    "                      target_col='leiden', \n",
    "                      normalize=True, fig_kws={'figsize': (8, 4)}, \n",
    "                      sort=['d0', 'd7', 'd11', 'd14', 'd21', 'd28', 'd49', 'd90', 'd365', 'dx'])\n",
    "plt.title('NS4B214 specific cells over time')\n",
    "plt.savefig(f'NS4B214_specific_cells_over_leiden_over_time.png')\n",
    "plt.show()"
   ]
  },
  {
   "cell_type": "code",
   "execution_count": null,
   "id": "2d71db4c",
   "metadata": {},
   "outputs": [],
   "source": [
    "#Plot leiden clusters with hue time - YF specific versus control cells\n",
    "ir.pl.group_abundance(mdata[\"gex\"][(mdata[\"gex\"].obs['specific_new'].isin(['NS4B214', 'NS2B117', 'NS3293', 'NS3286', 'NS324', 'NS5672',\n",
    "       'NS2A97', 'NS4B165']))],\n",
    "                      groupby='time', \n",
    "                      target_col='leiden', \n",
    "                      normalize=True, fig_kws={'figsize': (8, 4)}, \n",
    "                      sort=['d0', 'd7', 'd11', 'd14', 'd21', 'd28', 'd49', 'd90', 'd365', 'dx'])\n",
    "plt.title('YF specific cells over time')\n",
    "plt.savefig(f'YF_specific_cells_over_leiden_over_time.png')\n",
    "plt.show()\n",
    "\n",
    "ir.pl.group_abundance(mdata[\"gex\"][(mdata[\"gex\"].obs['specific_new'].isin(['COV', 'HHV', 'FLU', 'EBV1', 'EBV2']))],\n",
    "                      groupby='time', \n",
    "                      target_col='leiden', \n",
    "                      normalize=True, fig_kws={'figsize': (8, 4)}, \n",
    "                      sort=['d14', 'd21', 'd90', 'd365', 'dx'])\n",
    "plt.title('control specific cells over time')\n",
    "plt.savefig(f'Control_specific_cells_over_leiden_over_time.png')\n",
    "plt.show()"
   ]
  },
  {
   "cell_type": "code",
   "execution_count": null,
   "id": "d017c084",
   "metadata": {},
   "outputs": [],
   "source": [
    "#Plot control epitopes independent of time:\n",
    "ir.pl.group_abundance(mdata[\"gex\"][mdata[\"gex\"].obs['specific'].isin(['COV', 'FLU', 'HHV', 'EBV1', 'EBV2'])],\n",
    "                      groupby='specific', \n",
    "                      target_col='leiden', \n",
    "                      normalize=True, fig_kws={'figsize': (8, 4)})\n",
    "plt.title('Control epitope specific cells phenotype by Cluster')\n",
    "plt.show()\n"
   ]
  },
  {
   "cell_type": "code",
   "execution_count": null,
   "id": "5dfbcfa4",
   "metadata": {},
   "outputs": [],
   "source": [
    "#Plot leiden clusters with hue FACS\n",
    "ir.pl.group_abundance(mdata[\"gex\"], groupby='leiden', target_col='FACS_Phenotype', \n",
    "                      normalize=False, fig_kws={'figsize': (12, 5)})"
   ]
  },
  {
   "cell_type": "code",
   "execution_count": null,
   "id": "d8cf2d3c",
   "metadata": {},
   "outputs": [],
   "source": [
    "#Cells per Donor per Time per Phenotype per Specificity\n",
    "d = mdata['gex'].obs[['donor', 'time', 'specific_new', 'FACS_Phenotype_streng']].value_counts()\n",
    "d.to_csv('Cells_per_Donor_per_Time_per_FACS_per_Specificity_CD95.csv')"
   ]
  },
  {
   "cell_type": "markdown",
   "id": "738856c7",
   "metadata": {},
   "source": [
    "## Save Data"
   ]
  },
  {
   "cell_type": "code",
   "execution_count": null,
   "id": "22c3fb1b",
   "metadata": {},
   "outputs": [],
   "source": [
    "mdata.write(\"/media/agschober/HDD12/3_scRNA-Seq_Sina/4_Cite-Seq/data_specificity_annotated_final_pseudotime_cite.h5mu\")"
   ]
  },
  {
   "cell_type": "code",
   "execution_count": null,
   "id": "30d19e4e",
   "metadata": {},
   "outputs": [],
   "source": [
    "import session_info\n",
    "session_info.show()"
   ]
  },
  {
   "cell_type": "code",
   "execution_count": null,
   "id": "995ad8a8",
   "metadata": {},
   "outputs": [],
   "source": []
  }
 ],
 "metadata": {
  "kernelspec": {
   "display_name": "single-cell_env",
   "language": "python",
   "name": "single-cell_env"
  },
  "language_info": {
   "codemirror_mode": {
    "name": "ipython",
    "version": 3
   },
   "file_extension": ".py",
   "mimetype": "text/x-python",
   "name": "python",
   "nbconvert_exporter": "python",
   "pygments_lexer": "ipython3",
   "version": "3.12.7"
  }
 },
 "nbformat": 4,
 "nbformat_minor": 5
}
