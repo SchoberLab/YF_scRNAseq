{
 "cells": [
  {
   "cell_type": "markdown",
   "id": "1afe3962",
   "metadata": {},
   "source": [
    "# Analysis Part I - Preprocessing Sample 3"
   ]
  },
  {
   "cell_type": "code",
   "execution_count": null,
   "id": "ec203555",
   "metadata": {},
   "outputs": [],
   "source": [
    "%load_ext autoreload"
   ]
  },
  {
   "cell_type": "code",
   "execution_count": null,
   "id": "8ff5ae72",
   "metadata": {},
   "outputs": [],
   "source": [
    "%matplotlib inline\n",
    "\n",
    "import warnings\n",
    "warnings.simplefilter(action='ignore', category=FutureWarning)\n",
    "warnings.filterwarnings(action='ignore')"
   ]
  },
  {
   "cell_type": "code",
   "execution_count": null,
   "id": "2070a7a1",
   "metadata": {},
   "outputs": [],
   "source": [
    "import os\n",
    "import scanpy as sc\n",
    "import scirpy as ir\n",
    "import anndata as ann\n",
    "import numpy as np\n",
    "import pandas as pd\n",
    "import seaborn as sb\n",
    "import matplotlib.pyplot as plt\n",
    "from matplotlib import rcParams\n",
    "from mudata import MuData\n",
    "import mudata\n",
    "import tarfile\n",
    "import warnings\n",
    "from glob import glob\n",
    "import muon as mu"
   ]
  },
  {
   "cell_type": "code",
   "execution_count": null,
   "id": "68421e8f",
   "metadata": {},
   "outputs": [],
   "source": [
    "%autoreload 2\n",
    "import sys\n",
    "sys.path.append('..')\n",
    "import utility.annotation as utils_annotation\n",
    "import utility.representation as utils_representation\n",
    "import utility.visualisation as utils_vis"
   ]
  },
  {
   "cell_type": "code",
   "execution_count": null,
   "id": "362b4232",
   "metadata": {},
   "outputs": [],
   "source": [
    "sc.settings.set_figure_params(dpi=150)\n",
    "sc.settings.verbosity = 3\n",
    "sc.set_figure_params(vector_friendly=True, color_map='viridis', transparent=True)\n",
    "sb.set_style('whitegrid')"
   ]
  },
  {
   "cell_type": "markdown",
   "id": "85ddc4f5",
   "metadata": {},
   "source": [
    "Samples:\n",
    "\n",
    "- Sample 3:\n",
    "    - C12 + controldex\n",
    "    - C5\n",
    "    - B11_d14 + controldex\n",
    "    - B11_1yr\n",
    "    - B19_d14\n",
    "    - B19_1yr + controldex\n",
    "    - B34_d15 + controldex\n",
    "    - B34_1yr\n",
    "    \n",
    "Dextrameres:\n",
    "- NS4B214-222 -- LLWNGPMAV (A*02:01) -- TTGGCGATTCCTCCA\n",
    "- NS2B117-125 -- VLAGWLFHV (A*02:01) -- AAGCTAGGAGCATAC\n",
    "- NS3293-301 -- FLDPASIAA (A*02:01) -- GCACATATATCTTGA\n",
    "- NS3286-294 -- IIMDEAHFL (A*02:01) -- ACAGGAACACCAGTG\n",
    "- NS324-32 -- IYGIFQSTF (A*24:02) -- CAGTTCGACTCTTCC\n",
    "- NS5672-680 -- RPIDDRFGL (B*07:02) -- ACGGCTTATCGGTTG\n",
    "- NSA97-106 -- SPRERLVLTL (B*07:02) -- GCGGAGAATATTGCT\n",
    "- NS4B165-173 -- ALYEKKLAL (B*08:01) -- GAGTAACGCCGTGAT\n",
    "\n",
    "Controls:\n",
    "- SARS-CoV-2 -- LTDEMIAQY (A*01:01) -- GGTTCGACGCATACC\n",
    "- HHV-1 -- ATDSLNNEY (A*01:01) -- AATATGCCGGCGGAT\n",
    "- Flu-A -- CTELKLSDY (A*01:01) -- CGCCATTCGCTCGGT\n",
    "- EBV1 -- FLRGRAYGL (B*08:01) -- TAATTGCTGAGGCCT\n",
    "- EBV2 -- RAKFKQLL (B*08:01) -- TGATGCGTAAGCGAA"
   ]
  },
  {
   "cell_type": "code",
   "execution_count": null,
   "id": "c03a0096",
   "metadata": {},
   "outputs": [],
   "source": [
    "#Define the lists for later\n",
    "hashtags = [f'sample{i}' for i in range(1, 9)]\n",
    "\n",
    "epitope_ids = ['NS4B214', 'NS2B117', 'NS3293', 'NS3286', 'NS324', 'NS5672',\n",
    "               'NS2A97', 'NS4B165', 'COV', 'HHV', 'FLU', 'EBV1', 'EBV2']\n",
    "\n",
    "cite_seqs = ['CD45RA', 'CCR7-1', 'CD95', 'CD62L', 'CXCR3-1', 'CD27']\n",
    "\n",
    "feature_barcode_ids = hashtags + epitope_ids + cite_seqs"
   ]
  },
  {
   "cell_type": "code",
   "execution_count": null,
   "id": "f2e49795",
   "metadata": {},
   "outputs": [],
   "source": [
    "##Read data\n",
    "\n",
    "# GEX data\n",
    "datafile = \"/media/agschober/HDD12/3_scRNA-Seq_Sina/Cellranger_output/1st_Experiment/CS3-multi_new2/outs/per_sample_outs/CS3-multi_new2/count/sample_filtered_feature_bc_matrix.h5\"\n",
    "adata = sc.read_10x_h5(datafile, gex_only=False)\n",
    "adata.var_names_make_unique()\n",
    "\n",
    "# VDJ data\n",
    "adata_vdj = ir.io.read_10x_vdj(\"/media/agschober/HDD12/3_scRNA-Seq_Sina/Cellranger_output/1st_Experiment/CS3-multi_new2/outs/per_sample_outs/CS3-multi_new2/vdj_t/filtered_contig_annotations.csv\")\n",
    "#ir.pp.merge_with_ir(adata, adata_vdj)\n",
    "\n",
    "# Epitope data\n",
    "adata.uns['epitopes'] = epitope_ids\n",
    "for e in epitope_ids:\n",
    "    adata.obs[e] = adata[:, e].X.A.copy()\n",
    "\n",
    "# Hashtag data\n",
    "adata.uns['hashtags'] = hashtags\n",
    "for h in hashtags:\n",
    "    adata.obs[h] = adata[:, h].X.A.copy()\n",
    "\n",
    "# CiteSeq Data\n",
    "adata.uns['cite_ids'] = cite_seqs\n",
    "for c in cite_seqs:\n",
    "    adata.obs[c] = adata[:, c].X.A.copy()\n",
    "    \n",
    "# Remove Barcodes from counts\n",
    "adata = adata[:, [gene for gene in adata.var_names if gene not in feature_barcode_ids]]\n",
    "adata.obs['sample'] = f'sample3'\n",
    "\n",
    "adata.shape"
   ]
  },
  {
   "cell_type": "code",
   "execution_count": null,
   "id": "923bfa8c",
   "metadata": {},
   "outputs": [],
   "source": [
    "#fuse the information of gene expression and tcr\n",
    "adata = mu.MuData({\"gex\": adata, \"airr\": adata_vdj})"
   ]
  },
  {
   "cell_type": "markdown",
   "id": "13c5b6be",
   "metadata": {},
   "source": [
    "### Quality control"
   ]
  },
  {
   "cell_type": "markdown",
   "id": "4c096ced",
   "metadata": {},
   "source": [
    "Basic analysis by amount counts, genes, and fraction of mitochondrial genes"
   ]
  },
  {
   "cell_type": "code",
   "execution_count": null,
   "id": "4ed12fae",
   "metadata": {},
   "outputs": [],
   "source": [
    "adata[\"gex\"].obs['n_counts'] = adata[\"gex\"].X.A.sum(axis=1)\n",
    "adata[\"gex\"].obs['log_counts'] = np.log10(adata[\"gex\"].obs['n_counts'])\n",
    "adata[\"gex\"].obs['n_genes'] = (adata[\"gex\"].X.A > 0).sum(axis=1)\n",
    "adata[\"gex\"].obs['log_genes'] = np.log10(adata[\"gex\"].obs['n_genes'])\n",
    "\n",
    "mt_gene_mask = [gene.startswith('MT-') for gene in adata.var_names]\n",
    "mt_gene_idx = np.where(mt_gene_mask)[0]\n",
    "adata[\"gex\"].obs['mt_frac'] = adata[\"gex\"].X.A[:, mt_gene_idx].sum(1) / adata[\"gex\"].X.A.sum(axis=1)"
   ]
  },
  {
   "cell_type": "code",
   "execution_count": null,
   "id": "cd5186c0",
   "metadata": {},
   "outputs": [],
   "source": [
    "print('Mean # Genes: ', adata[\"gex\"].obs['n_genes'].mean())\n",
    "print('Median # Genes: ', adata[\"gex\"].obs['n_genes'].median())\n",
    "print('Mean # Counts: ', adata[\"gex\"].obs['n_counts'].mean())\n",
    "print('Median # Counts: ', adata[\"gex\"].obs['n_counts'].median())\n",
    "print('Mean % MT: ', adata[\"gex\"].obs['mt_frac'].mean())\n",
    "print('Median % MT: ', adata[\"gex\"].obs['mt_frac'].median())"
   ]
  },
  {
   "cell_type": "code",
   "execution_count": null,
   "id": "aabeb59d",
   "metadata": {},
   "outputs": [],
   "source": [
    "rcParams['figure.figsize'] = (4, 4)\n",
    "sc.pl.violin(adata[\"gex\"], ['n_counts'], size=1, log=False, rotation=90)\n",
    "sc.pl.violin(adata[\"gex\"], ['n_genes'], size=1, log=False, rotation=90)\n",
    "sc.pl.violin(adata[\"gex\"], ['mt_frac'], size=1, log=False, rotation=90)"
   ]
  },
  {
   "cell_type": "markdown",
   "id": "e0311cfd",
   "metadata": {},
   "source": [
    "- counts up to 20000, but mostly below 10000\n",
    "- number of genes up to 6000, but mostly below 4000\n",
    "- mitochondrial fraction up to 0.1 but mostly below 0.05"
   ]
  },
  {
   "cell_type": "code",
   "execution_count": null,
   "id": "7a1cbbd6",
   "metadata": {},
   "outputs": [],
   "source": [
    "rcParams['figure.figsize'] = (8, 8)\n",
    "sc.pl.scatter(adata[\"gex\"], y='n_genes', x='n_counts', color ='mt_frac', size=10, show=False)\n",
    "sc.pl.scatter(adata[\"gex\"][np.logical_and(adata[\"gex\"].obs['n_genes']<1500, adata[\"gex\"].obs['n_counts']<8000)],\n",
    "         y='n_genes', x='n_counts', color='mt_frac', size=10, show=False)\n",
    "plt.show()"
   ]
  },
  {
   "cell_type": "code",
   "execution_count": null,
   "id": "78303b15",
   "metadata": {},
   "outputs": [],
   "source": [
    "b = ((adata['gex'].obs['n_counts']).sort_values()).to_list()\n",
    "c = ((adata['gex'].obs['n_genes']).sort_values()).to_list()"
   ]
  },
  {
   "cell_type": "code",
   "execution_count": null,
   "id": "fdf33663",
   "metadata": {},
   "outputs": [],
   "source": [
    "plt.plot(b)\n",
    "plt.ylabel('counts')\n",
    "plt.xlabel('barcode')"
   ]
  },
  {
   "cell_type": "code",
   "execution_count": null,
   "id": "d2be8cbc",
   "metadata": {},
   "outputs": [],
   "source": [
    "plt.plot(c)\n",
    "plt.ylabel('genes')\n",
    "plt.xlabel('barcode')"
   ]
  },
  {
   "cell_type": "code",
   "execution_count": null,
   "id": "cd9c8961",
   "metadata": {},
   "outputs": [],
   "source": [
    "plt.plot(b)\n",
    "plt.ylabel('counts')\n",
    "plt.xlabel('barcode')\n",
    "plt.ylim((0,3000))\n",
    "plt.xlim((0,200))"
   ]
  },
  {
   "cell_type": "code",
   "execution_count": null,
   "id": "fe73b953",
   "metadata": {},
   "outputs": [],
   "source": [
    "plt.plot(c)\n",
    "plt.ylabel('genes')\n",
    "plt.xlabel('barcode')\n",
    "plt.ylim((0,1000))\n",
    "plt.xlim((0,100))"
   ]
  },
  {
   "cell_type": "markdown",
   "id": "5775d94e",
   "metadata": {},
   "source": [
    "- remove cells with more than 4000 genes and more than 10000 counts\n",
    "- remove cells with more than 0.08 mt_fraction\n",
    "- remove cells with less than 800 genes and 1500 counts"
   ]
  },
  {
   "cell_type": "markdown",
   "id": "87d4a7c6",
   "metadata": {},
   "source": [
    "### Filtering of the cells"
   ]
  },
  {
   "cell_type": "code",
   "execution_count": null,
   "id": "84feed97",
   "metadata": {},
   "outputs": [],
   "source": [
    "params_filter = {   'mt_frac': 0.08,\n",
    "    'n_counts_min': 1500,\n",
    "    'n_counts_max': 10000,\n",
    "    'n_genes_min': 800,\n",
    "}"
   ]
  },
  {
   "cell_type": "code",
   "execution_count": null,
   "id": "f86b11c2",
   "metadata": {},
   "outputs": [],
   "source": [
    "print(f'Size before filtering: {len(adata)}')\n",
    "adata = adata[adata[\"gex\"].obs['mt_frac'] < params_filter['mt_frac']]\n",
    "adata = adata[adata[\"gex\"].obs['n_counts'] > params_filter['n_counts_min']]\n",
    "adata = adata[adata[\"gex\"].obs['n_counts'] < params_filter['n_counts_max']]\n",
    "adata = adata[adata[\"gex\"].obs['n_genes'] > params_filter['n_genes_min']].copy()\n",
    "print(f'Size after filtering: {len(adata)}')\n",
    "    \n",
    "adata.shape"
   ]
  },
  {
   "cell_type": "markdown",
   "id": "da785720",
   "metadata": {},
   "source": [
    "### QC after filtering"
   ]
  },
  {
   "cell_type": "code",
   "execution_count": null,
   "id": "353a3d55",
   "metadata": {},
   "outputs": [],
   "source": [
    "rcParams['figure.figsize'] = (4, 4)\n",
    "sc.pl.violin(adata[\"gex\"], ['n_counts'], size=1, log=False, rotation=90)\n",
    "sc.pl.violin(adata[\"gex\"], ['n_genes'], size=1, log=False, rotation=90)\n",
    "sc.pl.violin(adata[\"gex\"], ['mt_frac'], size=1, log=False, rotation=90)\n",
    "\n",
    "rcParams['figure.figsize'] = (8, 8)\n",
    "sc.pl.scatter(adata[\"gex\"], y='n_genes', x='n_counts', color ='mt_frac', size=10, show=False)\n",
    "sc.pl.scatter(adata[\"gex\"][np.logical_and(adata[\"gex\"].obs['n_genes']<1500, adata[\"gex\"].obs['n_counts']<8000)],\n",
    "y='n_genes', x='n_counts', color='mt_frac', size=10, show=False)\n",
    "plt.show()"
   ]
  },
  {
   "cell_type": "markdown",
   "id": "509f66f7",
   "metadata": {},
   "source": [
    "### TCR stats"
   ]
  },
  {
   "cell_type": "code",
   "execution_count": null,
   "id": "43292551",
   "metadata": {},
   "outputs": [],
   "source": [
    "ir.pp.index_chains(adata)\n",
    "ir.tl.chain_qc(adata)\n",
    "adata.obs['airr:chain_pairing'].value_counts()"
   ]
  },
  {
   "cell_type": "code",
   "execution_count": null,
   "id": "c17550d9",
   "metadata": {},
   "outputs": [],
   "source": [
    "adata.obs['airr:chain_pairing'].loc[(adata.obs['airr:chain_pairing']).isna()] = 'no_IR'"
   ]
  },
  {
   "cell_type": "code",
   "execution_count": null,
   "id": "8c7e6dd9",
   "metadata": {},
   "outputs": [],
   "source": [
    "adata.obs['airr:chain_pairing'].value_counts()"
   ]
  },
  {
   "cell_type": "code",
   "execution_count": null,
   "id": "b7b2f24a",
   "metadata": {},
   "outputs": [],
   "source": [
    "def get_percentages_tcr(data):\n",
    "    df = ir.get.airr(data, \"junction_aa\", [\"VJ_1\", \"VDJ_1\", \"VJ_2\", \"VDJ_2\"])\n",
    "    p_alpha = df['VJ_1_junction_aa'].notnull().mean()\n",
    "    p_beta = df['VDJ_1_junction_aa'].notnull().mean()\n",
    "    p_paired = (df['VDJ_1_junction_aa'].notnull() & df['VJ_1_junction_aa'].notnull()).mean()\n",
    "    return [p_alpha, p_beta, p_paired]\n",
    "\n",
    "chains = ['Alpha', 'Beta', 'Paired']\n",
    "percentages = get_percentages_tcr(adata)\n",
    "\n",
    "df_tcr_fractions = {\n",
    "    'chain': chains,\n",
    "    'percentage': percentages\n",
    "}\n",
    "\n",
    "df_tcr_fractions = pd.DataFrame(df_tcr_fractions)\n",
    "g = sb.barplot(data=df_tcr_fractions, y='percentage', x='chain')\n",
    "_ = g.set_xticklabels(rotation=30, labels=chains)"
   ]
  },
  {
   "cell_type": "markdown",
   "id": "54864dff",
   "metadata": {},
   "source": [
    "### Normalise"
   ]
  },
  {
   "cell_type": "code",
   "execution_count": null,
   "id": "b655e285",
   "metadata": {},
   "outputs": [],
   "source": [
    "sc.pp.normalize_total(adata[\"gex\"], target_sum=1e4)\n",
    "sc.pp.log1p(adata[\"gex\"])"
   ]
  },
  {
   "cell_type": "markdown",
   "id": "5f924eec",
   "metadata": {},
   "source": [
    "### Quick Visual Sanity Check"
   ]
  },
  {
   "cell_type": "code",
   "execution_count": null,
   "id": "99e1dea8",
   "metadata": {},
   "outputs": [],
   "source": [
    "utils_representation.calculate_umap(adata[\"gex\"], n_high_var=5000, remove_tcr_genes=True)"
   ]
  },
  {
   "cell_type": "code",
   "execution_count": null,
   "id": "f781eb65",
   "metadata": {},
   "outputs": [],
   "source": [
    "adata[\"gex\"].obs['chain_pairing'] = adata.obs['airr:chain_pairing']"
   ]
  },
  {
   "cell_type": "code",
   "execution_count": null,
   "id": "7634fa16",
   "metadata": {},
   "outputs": [],
   "source": [
    "sc.pl.umap(adata[\"gex\"])"
   ]
  },
  {
   "cell_type": "code",
   "execution_count": null,
   "id": "e87ff68d",
   "metadata": {},
   "outputs": [],
   "source": [
    "rcParams['figure.figsize'] = (6, 6)\n",
    "sc.pl.umap(adata[\"gex\"], color=['chain_pairing'])\n"
   ]
  },
  {
   "cell_type": "code",
   "execution_count": null,
   "id": "e1f15033",
   "metadata": {},
   "outputs": [],
   "source": [
    "sc.pl.umap(adata[\"gex\"], color=['n_counts', 'log_counts', 'n_genes', 'mt_frac'], ncols=2)"
   ]
  },
  {
   "cell_type": "markdown",
   "id": "310d0fa7",
   "metadata": {},
   "source": [
    "### Separate the samples"
   ]
  },
  {
   "cell_type": "code",
   "execution_count": null,
   "id": "4078ea0e",
   "metadata": {},
   "outputs": [],
   "source": [
    "utils_vis.distributions_over_columns(adata[\"gex\"], hashtags, 2, 4)"
   ]
  },
  {
   "cell_type": "code",
   "execution_count": null,
   "id": "08be2772",
   "metadata": {},
   "outputs": [],
   "source": [
    "def hash_solo_by_sample(hashtag_cols, col_name, n_noise_barcodes):\n",
    "    adata[\"gex\"].obs[col_name] = 'NaN'\n",
    "\n",
    "    dfs_donor = []\n",
    "    adata[\"gex\"].obs = adata[\"gex\"].obs.drop(col_name, axis=1)\n",
    "    sc.external.pp.hashsolo(adata[\"gex\"], hashtag_cols, number_of_noise_barcodes=n_noise_barcodes)\n",
    "    adata[\"gex\"].obs = adata[\"gex\"].obs.rename(columns={'Classification': col_name})\n",
    "\n",
    "hash_solo_by_sample(hashtags, 'pool', 3)\n",
    "adata[\"gex\"].obs['pool'].value_counts()\n"
   ]
  },
  {
   "cell_type": "code",
   "execution_count": null,
   "id": "bc77b7d7",
   "metadata": {},
   "outputs": [],
   "source": [
    "hash_solo_by_sample(hashtags, 'pool', 5)\n",
    "adata[\"gex\"].obs['pool'].value_counts()"
   ]
  },
  {
   "cell_type": "code",
   "execution_count": null,
   "id": "2681296c",
   "metadata": {},
   "outputs": [],
   "source": [
    "rcParams['figure.figsize'] = (16, 4)\n",
    "\n",
    "for h in hashtags:\n",
    "    adata[\"gex\"].obs[f'log_{h}'] = np.log(adata[\"gex\"].obs[h].values+1)\n",
    "sb.violinplot(data=adata[\"gex\"].obs[[f'log_{h}' for h in hashtags]], scale='area')"
   ]
  },
  {
   "cell_type": "code",
   "execution_count": null,
   "id": "97022aae",
   "metadata": {},
   "outputs": [],
   "source": [
    "utils_vis.adt_counts_by_condition(adata[\"gex\"], hashtags, 'pool', 8, 4, do_log=True)"
   ]
  },
  {
   "cell_type": "code",
   "execution_count": null,
   "id": "efd219c9",
   "metadata": {},
   "outputs": [],
   "source": [
    "rcParams['figure.figsize'] = (8, 8)\n",
    "sc.pl.umap(adata[\"gex\"], color='pool')"
   ]
  },
  {
   "cell_type": "code",
   "execution_count": null,
   "id": "4205e9f6",
   "metadata": {},
   "outputs": [],
   "source": [
    "rcParams['figure.figsize'] = (8, 8)\n",
    "adata_ha = ann.AnnData(X=adata[\"gex\"].obs[adata[\"gex\"].uns['hashtags']], obs=adata[\"gex\"].obs[['pool']])\n",
    "adata_ha.var_names = adata[\"gex\"].uns['hashtags']\n",
    "sc.pp.log1p(adata_ha)\n",
    "sc.pp.neighbors(adata_ha)\n",
    "sc.tl.umap(adata_ha)\n",
    "sc.pl.umap(adata_ha, color=['pool'] + [f'sample{i}' for i in range(1, 9)], ncols=3, \n",
    "           save=f'sample3_hashtag_umap.pdf')"
   ]
  },
  {
   "cell_type": "code",
   "execution_count": null,
   "id": "699050aa",
   "metadata": {},
   "outputs": [],
   "source": [
    "adata = adata[~adata[\"gex\"].obs['pool'].isin(['Doublet', 'Negative'])]"
   ]
  },
  {
   "cell_type": "markdown",
   "id": "e71c60c4",
   "metadata": {},
   "source": [
    "### Remove Epitope Counts"
   ]
  },
  {
   "cell_type": "code",
   "execution_count": null,
   "id": "705baff3",
   "metadata": {},
   "outputs": [],
   "source": [
    "epitope_2_sample = {'NS4B214': ['sample1', 'sample2', 'sample3', 'sample4', 'sample5', 'sample6', 'sample7', 'sample8'],\n",
    "               'NS2B117': ['sample1', 'sample2', 'sample3', 'sample4', 'sample5', 'sample6', 'sample7', 'sample8'],\n",
    "               'NS3293': ['sample1', 'sample2', 'sample3', 'sample4', 'sample5', 'sample6', 'sample7', 'sample8'],\n",
    "               'NS3286': ['sample1', 'sample2', 'sample3', 'sample4', 'sample5', 'sample6', 'sample7', 'sample8'],\n",
    "               'NS324': ['sample1', 'sample2', 'sample3', 'sample4', 'sample5', 'sample6', 'sample7', 'sample8'],\n",
    "               'NS5672': ['sample1', 'sample2', 'sample3', 'sample4', 'sample5', 'sample6', 'sample7', 'sample8'],\n",
    "               'NS2A97': ['sample1', 'sample2', 'sample3', 'sample4', 'sample5', 'sample6', 'sample7', 'sample8'],\n",
    "               'NS4B165': ['sample1', 'sample2', 'sample3', 'sample4', 'sample5', 'sample6', 'sample7', 'sample8'],\n",
    "               'COV': ['sample1', 'sample3', 'sample6', 'sample7'],\n",
    "               'HHV':['sample1', 'sample3', 'sample6', 'sample7'], \n",
    "               'FLU':['sample1', 'sample3', 'sample6', 'sample7'], \n",
    "               'EBV1':['sample1', 'sample3', 'sample6', 'sample7'], \n",
    "               'EBV2':['sample1', 'sample3', 'sample6', 'sample7']}"
   ]
  },
  {
   "cell_type": "code",
   "execution_count": null,
   "id": "2f88a8b2",
   "metadata": {},
   "outputs": [],
   "source": [
    "for e, samples in epitope_2_sample.items():\n",
    "    adata[\"gex\"].obs.loc[~adata[\"gex\"].obs['pool'].isin(samples), e] = np.nan"
   ]
  },
  {
   "cell_type": "markdown",
   "id": "8951377e",
   "metadata": {},
   "source": [
    "### Remove Totalseq Counts"
   ]
  },
  {
   "cell_type": "code",
   "execution_count": null,
   "id": "8547185e",
   "metadata": {},
   "outputs": [],
   "source": [
    "samples_full_totalseq = ['sample1', 'sample2', 'sample3', 'sample4', 'sample5', 'sample6', 'sample7', 'sample8']"
   ]
  },
  {
   "cell_type": "code",
   "execution_count": null,
   "id": "14d7ab32",
   "metadata": {},
   "outputs": [],
   "source": [
    "for c in cite_seqs:\n",
    "    adata[\"gex\"].obs.loc[~adata[\"gex\"].obs['pool'].isin(samples_full_totalseq), c] = np.nan"
   ]
  },
  {
   "cell_type": "markdown",
   "id": "bde14318",
   "metadata": {},
   "source": [
    "### Save"
   ]
  },
  {
   "cell_type": "code",
   "execution_count": null,
   "id": "5c1254f1",
   "metadata": {},
   "outputs": [],
   "source": [
    "adata[\"gex\"].obs['pool'] = f'sample3' + adata[\"gex\"].obs['pool'].astype(str)\n",
    "adata.write(filename=\"data3.h5mu\")"
   ]
  },
  {
   "cell_type": "code",
   "execution_count": null,
   "id": "2791a9be",
   "metadata": {},
   "outputs": [],
   "source": [
    "import session_info\n",
    "session_info.show()"
   ]
  },
  {
   "cell_type": "code",
   "execution_count": null,
   "id": "c3f3eea0",
   "metadata": {},
   "outputs": [],
   "source": []
  }
 ],
 "metadata": {
  "kernelspec": {
   "display_name": "single-cell-basic",
   "language": "python",
   "name": "single-cell_env"
  },
  "language_info": {
   "codemirror_mode": {
    "name": "ipython",
    "version": 3
   },
   "file_extension": ".py",
   "mimetype": "text/x-python",
   "name": "python",
   "nbconvert_exporter": "python",
   "pygments_lexer": "ipython3",
   "version": "3.12.4"
  }
 },
 "nbformat": 4,
 "nbformat_minor": 5
}
