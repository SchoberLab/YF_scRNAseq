{
 "cells": [
  {
   "cell_type": "markdown",
   "id": "9b2dc017",
   "metadata": {},
   "source": [
    "# Analysis Part V - Figures for Paper"
   ]
  },
  {
   "cell_type": "code",
   "execution_count": null,
   "id": "10ef03c6-8c9a-4386-945d-a019fac9c68b",
   "metadata": {},
   "outputs": [],
   "source": [
    "%load_ext autoreload\n",
    "%matplotlib inline\n",
    "\n",
    "import warnings\n",
    "warnings.simplefilter(action='ignore', category=FutureWarning)\n",
    "warnings.filterwarnings(action='ignore')\n",
    "import os\n",
    "import scanpy as sc\n",
    "import scirpy as ir\n",
    "import anndata as ann\n",
    "import numpy as np\n",
    "import pandas as pd\n",
    "import seaborn as sb\n",
    "import matplotlib\n",
    "import matplotlib.backend_bases\n",
    "import matplotlib.pyplot as plt\n",
    "from matplotlib import rcParams\n",
    "from mudata import MuData\n",
    "import mudata\n",
    "\n",
    "import tarfile\n",
    "import warnings\n",
    "from glob import glob\n",
    "\n",
    "import anndata\n",
    "import muon as mu\n",
    "import pandas as pd\n",
    "import scanpy as sc\n",
    "import scirpy as ir\n",
    "\n",
    "%autoreload 2\n",
    "import sys\n",
    "sys.path.append('..')\n",
    "import utility.annotation as utils_annotation\n",
    "import utility.representation as utils_representation\n",
    "import utility.visualisation as utils_vis\n",
    "\n",
    "from sklearn.mixture import GaussianMixture\n",
    "\n",
    "from scipy.stats import zscore"
   ]
  },
  {
   "cell_type": "code",
   "execution_count": null,
   "id": "eae5838c-34cb-420c-88f6-bf580d717f9e",
   "metadata": {},
   "outputs": [],
   "source": [
    "sc.settings.set_figure_params(dpi=150)\n",
    "sc.settings.verbosity = 3\n",
    "sc.set_figure_params(vector_friendly=True, color_map='viridis', transparent=False)\n",
    "sb.set_style('whitegrid')\n",
    "\n",
    "from matplotlib.colors import LinearSegmentedColormap\n",
    "colors = ['darkblue', 'blue', 'lightblue', '#FFEA00', 'orange', 'red', 'darkred']\n",
    "cust = LinearSegmentedColormap.from_list('custom_cmap', colors)\n",
    "colormap = cust"
   ]
  },
  {
   "cell_type": "code",
   "execution_count": null,
   "id": "22ab88f5-5085-4796-ab6e-9c28c23e0378",
   "metadata": {},
   "outputs": [],
   "source": [
    "colors_viridis = ['#FDE725', '#5EC962', '#21918C', '#3B528B', '#440154']\n",
    "cust_viridis = LinearSegmentedColormap.from_list('custom_cmap', colors_viridis)"
   ]
  },
  {
   "cell_type": "code",
   "execution_count": null,
   "id": "aa6616cd-8a4e-42b9-8290-ba0d8f76b3ee",
   "metadata": {},
   "outputs": [],
   "source": [
    "colors_katha = ['#33378F', '#669AC7', '#BFE0EC', '#FDF8C0', '#FBBC6C', '#EB5638', '#A71D2B']\n",
    "cust_katha = LinearSegmentedColormap.from_list('custom_cmap', colors_katha)"
   ]
  },
  {
   "cell_type": "code",
   "execution_count": null,
   "id": "4605cf67",
   "metadata": {},
   "outputs": [],
   "source": [
    "mdata = mu.read('/Users/mimi/Sina/data_specificity_annotated_final_pseudotime_cite.h5mu')"
   ]
  },
  {
   "cell_type": "markdown",
   "id": "6f43a79f-dd08-4238-b06f-1da3d0e017ce",
   "metadata": {
    "jp-MarkdownHeadingCollapsed": true
   },
   "source": [
    "## Figure 1"
   ]
  },
  {
   "cell_type": "markdown",
   "id": "aa12f1bc-f21a-44a8-83bf-3e9015e2b7b1",
   "metadata": {
    "jp-MarkdownHeadingCollapsed": true
   },
   "source": [
    "### UMAP showing leiden clustering"
   ]
  },
  {
   "cell_type": "code",
   "execution_count": null,
   "id": "bcb9aa36-36b8-4585-8912-4a63e9b533a9",
   "metadata": {},
   "outputs": [],
   "source": [
    "sb.set(rc={'figure.figsize':(6,5)})\n",
    "sb.set_style('whitegrid')\n",
    "sc.pl.umap(mdata[\"gex\"], color=['leiden'], show=False, size=30)\n",
    "plt.tight_layout()\n",
    "plt.savefig(\"Figure1/UMAP_leiden_all.pdf\", dpi=300)\n",
    "plt.show()"
   ]
  },
  {
   "cell_type": "markdown",
   "id": "4e966921-c6e2-4a1b-8282-0fe9aebdaedd",
   "metadata": {
    "jp-MarkdownHeadingCollapsed": true
   },
   "source": [
    "### Gene expression heatmap"
   ]
  },
  {
   "cell_type": "code",
   "execution_count": null,
   "id": "c995b816-51a1-4d14-a951-61cbea7a5839",
   "metadata": {},
   "outputs": [],
   "source": [
    "#top 20 deregulated genes per cluster\n",
    "marker = pd.DataFrame(mdata[\"gex\"].uns['rank_genes_groups_leiden']['names'])\n",
    "marker.to_csv('Figure1/Top20_DEG_genes_per_cluster.csv')"
   ]
  },
  {
   "cell_type": "code",
   "execution_count": null,
   "id": "eb4ae14d-1b9b-4f90-810c-349cae0b0df6",
   "metadata": {},
   "outputs": [],
   "source": [
    "markers_short = {'Naive': ['RPL32', 'RPS13', 'SELL'],\n",
    "              'CM': ['IL7R', 'PABPC1', 'RPLP1', 'RPS12', 'FTH1', 'S100A11', 'RPL8'],\n",
    "              'EM': ['GZMK', 'HLA-A', 'CLIC3', 'TRAV12-2'],\n",
    "              'EF': ['APOBEC3G', 'GZMH', 'GNLY', 'GZMB'],\n",
    "              'IFN EF': ['IFITM1', 'LY6E', 'ISG20', 'IFI6', 'MX1'],\n",
    "              'Cycling': ['CD74', 'ACTG1', 'ACTB', 'PFN1'],\n",
    "              'Resting memory': ['LTB', 'EIF1', 'NFKB2', 'ZFAS1', 'BTG1', 'RELB', 'CREM'] }\n",
    "\n",
    "genes = ['SELL', 'LTB', 'CCR7',\t'TCF7', 'IL7R',\t'CXCR3', 'GZMK', 'HLA-DRB1', 'GZMA', 'NKG7', 'GZMH', 'GZMB', 'FGFBP2',\n",
    "         'CCL5', 'LY6E', 'IFITM1', 'IRF7', 'MX1', 'JUNB', 'FOS', 'JAML', 'KLRB1', 'ALOX5AP', 'CREM', 'SNHG15', 'SNHG1', 'NFKBIA', 'PIM3']\n",
    "\n",
    "sc.pl.dotplot(mdata[\"gex\"], genes, groupby='leiden', dendrogram=False,\n",
    "             standard_scale='var', cmap=cust_katha, show=False)\n",
    "plt.savefig(\"Figure1/DEG_Dotplot_marker_genes_labelled_v1.pdf\", dpi=300)\n",
    "\n",
    "sc.pl.dotplot(mdata[\"gex\"], markers_short, groupby='leiden', dendrogram=False,\n",
    "             standard_scale='var', var_group_positions=[(0,3)], cmap=cust_katha, show=False)\n",
    "plt.savefig(\"Figure1/DEG_Dotplot_marker_genes_labelled_v2.pdf\", dpi=300)"
   ]
  },
  {
   "cell_type": "markdown",
   "id": "34e2deba-e4ad-4bcb-9e92-175034893d94",
   "metadata": {
    "jp-MarkdownHeadingCollapsed": true
   },
   "source": [
    "### Specific cells over time - UMAP"
   ]
  },
  {
   "cell_type": "code",
   "execution_count": null,
   "id": "cdc4b808-43ec-4fe5-9b87-a718402bd2e5",
   "metadata": {},
   "outputs": [],
   "source": [
    "for time in (mdata['gex'].obs['time']).unique():\n",
    "    ax = sc.pl.umap(mdata[\"gex\"], show=False, size=30)\n",
    "    sc.pl.umap(mdata[\"gex\"][(mdata[\"gex\"].obs['specific_new']=='NS4B214') & (mdata[\"gex\"].obs['time']==time)], \n",
    "                       color='specific_new', ax = ax, show=False, size=30)\n",
    "    plt.title('NS4B214 '+str(time))\n",
    "    plt.tight_layout()\n",
    "    plt.savefig(f'Figure1/Specific_cells_NS4B214_{time}.pdf', dpi=300)\n",
    "    plt.figsize=(10,10)\n",
    "    plt.show()"
   ]
  },
  {
   "cell_type": "code",
   "execution_count": null,
   "id": "2a8dc230-7aac-48ad-88cf-82503bf56406",
   "metadata": {},
   "outputs": [],
   "source": [
    "pal = {'NS4B214': 'blue', 'NS2B117': 'lightblue', 'NS3293': 'lightblue', 'NS3286': 'lightblue',\n",
    "       'NS324': 'lightblue', 'NS5672': 'lightblue', 'NS2A97': 'lightblue', 'NS4B165': 'lightblue'}"
   ]
  },
  {
   "cell_type": "code",
   "execution_count": null,
   "id": "b4d8a113-436d-4564-9172-42a435282c25",
   "metadata": {},
   "outputs": [],
   "source": [
    "for time in (mdata['gex'].obs['time']).unique():\n",
    "    ax = sc.pl.umap(mdata[\"gex\"], show=False, size=30)\n",
    "    sc.pl.umap(mdata[\"gex\"][(mdata[\"gex\"].obs['specific_new'].isin(['NS4B214', 'NS2B117', 'NS3293', 'NS3286', 'NS324', 'NS5672',\n",
    "       'NS2A97', 'NS4B165'])) & (mdata[\"gex\"].obs['time']==time)], color='specific_new', ax = ax, show=False, size=30)\n",
    "    plt.title('Specific cells '+str(time))\n",
    "    plt.tight_layout()\n",
    "    plt.savefig(f'Figure1/Specific_cells_all_YF_{time}.pdf', dpi=300)\n",
    "    plt.figsize=(10,10)\n",
    "    plt.show()"
   ]
  },
  {
   "cell_type": "code",
   "execution_count": null,
   "id": "240e0f39-0310-4354-9919-85d16b2c3e47",
   "metadata": {},
   "outputs": [],
   "source": [
    "for time in (mdata['gex'].obs['time']).unique():\n",
    "    ax = sc.pl.umap(mdata[\"gex\"], show=False, size=30)\n",
    "    sc.pl.umap(mdata[\"gex\"][(mdata[\"gex\"].obs['specific_new'].isin(['NS4B214', 'NS2B117', 'NS3293', 'NS3286', 'NS324', 'NS5672',\n",
    "       'NS2A97', 'NS4B165'])) & (mdata[\"gex\"].obs['time']==time)], color='specific_new', ax = ax, show=False, size=30, palette=pal)\n",
    "    plt.title('Specific cells '+str(time))\n",
    "    plt.tight_layout()\n",
    "    plt.savefig(f'Figure1/Specific_cells_all_YF_{time}_different_color.pdf', dpi=300)\n",
    "    plt.figsize=(10,10)\n",
    "    plt.show()"
   ]
  },
  {
   "cell_type": "markdown",
   "id": "081f4768-2a94-4c14-b891-9b5af8d32051",
   "metadata": {
    "jp-MarkdownHeadingCollapsed": true
   },
   "source": [
    "### NS4B214 specific cells over time per leiden cluster"
   ]
  },
  {
   "cell_type": "code",
   "execution_count": null,
   "id": "764eae67-5759-4f47-ab06-42fea330c7b5",
   "metadata": {},
   "outputs": [],
   "source": [
    "table = pd.DataFrame(mdata[\"gex\"].obs.groupby(['time', 'leiden'])['specific_new'].value_counts().reset_index())"
   ]
  },
  {
   "cell_type": "code",
   "execution_count": null,
   "id": "08a31b03-727e-449e-b0af-89856e1f91d9",
   "metadata": {},
   "outputs": [],
   "source": [
    "table = table[(table['specific_new']=='NS4B214') & (table['count']!=0)]"
   ]
  },
  {
   "cell_type": "code",
   "execution_count": null,
   "id": "9ea785bb-cec0-4ddb-8144-690a6c832223",
   "metadata": {},
   "outputs": [],
   "source": [
    "table['percent_cluster']=0\n",
    "for i in table.index:\n",
    "    table['percent_cluster'][i] = table['count'][i]*100/sum(table['count'][table['time']==table['time'][i]])"
   ]
  },
  {
   "cell_type": "code",
   "execution_count": null,
   "id": "b766a1b0-801a-4c26-b60c-fdef48e9e898",
   "metadata": {},
   "outputs": [],
   "source": [
    "table.to_csv('Figure1/specific_cells_per_cluster_over_time.csv')"
   ]
  },
  {
   "cell_type": "markdown",
   "id": "39e6ee5d-b68d-4de0-bbe0-5b4fbb4bcc18",
   "metadata": {
    "jp-MarkdownHeadingCollapsed": true
   },
   "source": [
    "### Pseudotime"
   ]
  },
  {
   "cell_type": "code",
   "execution_count": null,
   "id": "7a47ac49-0c60-427e-bf0b-3cf40f448aec",
   "metadata": {},
   "outputs": [],
   "source": [
    "utils_representation.calculate_diffmap(mdata[\"gex\"], n_high_var=5000, remove_tcr_genes=True)"
   ]
  },
  {
   "cell_type": "code",
   "execution_count": null,
   "id": "36da49cb-bae0-4f10-a1d7-0090fe59953c",
   "metadata": {
    "scrolled": true
   },
   "outputs": [],
   "source": [
    "nrows = 20\n",
    "ncols = 5\n",
    "fig, axes = plt.subplots(ncols=ncols, nrows=nrows, figsize=(ncols * 3, nrows * 3))\n",
    "axes = axes.reshape(-1)\n",
    "\n",
    "for i, ax in zip(range(mdata['gex'].obsm['X_diffmap'].shape[1]), axes):\n",
    "    root_ixs = mdata['gex'].obsm['X_diffmap'][:, i].argmin()\n",
    "    root_umap = mdata['gex'].obsm['X_umap'][root_ixs]\n",
    "\n",
    "    sc.pl.umap(mdata['gex'], show=False, title=str(i), ax=ax)\n",
    "    ax.plot(root_umap[0], root_umap[1],  marker='o', markersize=5, color=\"red\")\n",
    "fig.tight_layout()\n",
    "plt.show()"
   ]
  },
  {
   "cell_type": "code",
   "execution_count": null,
   "id": "23481336-9407-44c8-8c75-49a8b9b8127d",
   "metadata": {},
   "outputs": [],
   "source": [
    "root_nr = 69\n",
    "root_ixs = mdata['gex'].obsm['X_diffmap'][:, root_nr].argmin()\n",
    "mdata['gex'].uns['iroot'] = root_ixs\n",
    "utils_representation.calculate_dpt(mdata['gex'], n_high_var=5000, remove_tcr_genes=True)\n",
    "mdata.obs['dpt_pseudotime'] = mdata['gex'].obs['dpt_pseudotime']\n",
    "mdata[\"gex\"].obs['dpt_pseudotime'] = mdata.obs['dpt_pseudotime']"
   ]
  },
  {
   "cell_type": "code",
   "execution_count": null,
   "id": "6094b6ff-911e-4a5c-90ee-ae2e50aa3920",
   "metadata": {},
   "outputs": [],
   "source": [
    "sc.pl.umap(mdata[\"gex\"], color='dpt_pseudotime', show=False, size=30, cmap=cust_katha, vmax=0.5)\n",
    "plt.title('Pseudotime')\n",
    "plt.tight_layout()\n",
    "plt.savefig(f'Figure1/UMAP_Pseudotime_root_69_cluster_4_scale_05_katha_smaller_dots.pdf', dpi=300)\n",
    "plt.show()"
   ]
  },
  {
   "cell_type": "code",
   "execution_count": null,
   "id": "9fe07918-9ea9-464b-811b-b85a8c789ec5",
   "metadata": {},
   "outputs": [],
   "source": [
    "#UMAP without cluster 7, 8, 12, 13\n",
    "ax = sc.pl.umap(mdata[\"gex\"], show=False, size=30)\n",
    "sc.pl.umap(mdata[\"gex\"][mdata['gex'].obs['leiden'].isin(['0', '1', '2', '3', '4', '5', '6', '9', '10', '11'])], color='dpt_pseudotime', show=False, size=30, cmap=cust_katha, vmax=0.5, ax=ax)\n",
    "plt.title('Pseudotime')\n",
    "plt.tight_layout()\n",
    "plt.savefig(f'Figure1/UMAP_Pseudotime_root_69_cluster_4_selected_clusters.pdf', dpi=300)\n",
    "plt.show()"
   ]
  },
  {
   "cell_type": "code",
   "execution_count": null,
   "id": "b3f1806e-abae-4d15-a041-b1a68774314f",
   "metadata": {},
   "outputs": [],
   "source": [
    "sc.pl.violin(mdata['gex'][mdata['gex'].obs['leiden'].isin(['0', '1', '2', '3', '4', '5', '6', '9', '10', '11'])], \n",
    "             keys='dpt_pseudotime', groupby='leiden', show=False,\n",
    "            order = ['4', '10', '9', '3', '11', '2', '1', '5', '6', '0'])\n",
    "plt.savefig(f'Figure1/Violin_Pseudotime_root_69_cluster_4_selected_clusters.pdf', dpi=300)\n",
    "plt.show()"
   ]
  },
  {
   "cell_type": "code",
   "execution_count": null,
   "id": "337f105f-e310-4c7f-983e-73d9f1295c5c",
   "metadata": {},
   "outputs": [],
   "source": [
    "x = mdata[\"gex\"][(mdata[\"gex\"].obs['specific_new']=='NS4B214')&(mdata['gex'].obs['leiden'].isin(['0', '1', '2', '3', '4', '5', '6', '9', '10', '11']))]\n",
    "ax = sc.pl.violin(x, keys='dpt_pseudotime', groupby='time', show=False, rotation=90, jitter=0.1, scale='area')\n",
    "ax.set_ylim(bottom=0,top=0.65)\n",
    "plt.savefig(f'Figure1/Time_vs_Pseudotime_NS4B214_specific_root_69_cluster_4_selected_clusters_violin_scale.pdf', dpi=300)\n",
    "plt.show()"
   ]
  },
  {
   "cell_type": "code",
   "execution_count": null,
   "id": "a8cef02d-0b6b-40bd-8e6c-92f0f6e58f1b",
   "metadata": {},
   "outputs": [],
   "source": [
    "x = mdata[\"gex\"].obs[(mdata[\"gex\"].obs['specific_new']=='NS4B214')&(mdata['gex'].obs['leiden'].isin(['0', '1', '2', '3', '4', '5', '6', '9', '10', '11']))]\n",
    "ax = sb.stripplot(data=x, y='dpt_pseudotime', x='time')\n",
    "ax.set_ylim(bottom=0,top=0.65)\n",
    "plt.savefig(f'Figure1/Time_vs_Pseudotime_NS4B214_specific_root_69_cluster_4_selected_clusters_stripplot.pdf', dpi=300)\n",
    "plt.show()"
   ]
  },
  {
   "cell_type": "markdown",
   "id": "3c2d20bc-4aaa-4f31-adab-cedbd7da28c2",
   "metadata": {
    "jp-MarkdownHeadingCollapsed": true
   },
   "source": [
    "### Cite-Seq Gating strategy"
   ]
  },
  {
   "cell_type": "code",
   "execution_count": null,
   "id": "5bf60d0a-56d8-44d1-8f31-790d0a6692fd",
   "metadata": {},
   "outputs": [],
   "source": [
    "#kdeplot of CD45RA vs CD62L\n",
    "sb.kdeplot(data=mdata[\"gex\"].obs, x=mdata[\"gex\"].obs['clr_CD62L'], y=mdata[\"gex\"].obs['clr_CD45RA'], \n",
    "               legend=False, fill=False, color='grey', levels=30, bw_adjust=0.6)\n",
    "\n",
    "a = (len(mdata[\"gex\"].obs[(mdata[\"gex\"].obs['clr_CD45RA'] > 1.3) & (mdata[\"gex\"].obs['clr_CD62L'] <=1.6)])/len(mdata[\"gex\"].obs))*100\n",
    "b = (len(mdata[\"gex\"].obs[(mdata[\"gex\"].obs['clr_CD45RA'] > 1.3) & (mdata[\"gex\"].obs['clr_CD62L'] > 1.6)])/len(mdata[\"gex\"].obs))*100\n",
    "c = (len(mdata[\"gex\"].obs[(mdata[\"gex\"].obs['clr_CD45RA'] <=1.3) & (mdata[\"gex\"].obs['clr_CD62L'] > 1.6)])/len(mdata[\"gex\"].obs))*100\n",
    "d = (len(mdata[\"gex\"].obs[(mdata[\"gex\"].obs['clr_CD45RA'] <=1.3) & (mdata[\"gex\"].obs['clr_CD62L'] <=1.6)])/len(mdata[\"gex\"].obs))*100\n",
    "\n",
    "plt.axvline(x=1.6, color='black', linestyle='dashed')\n",
    "plt.axhline(y=1.3, color='black', linestyle='dashed')\n",
    "plt.xlabel('CD62L')\n",
    "plt.ylabel('CD45RA')\n",
    "plt.xlim(right=4)\n",
    "plt.ylim(-0.4,3)\n",
    "\n",
    "plt.text(-0.25, 2.75, f'{a:.2f}%', bbox=dict(facecolor='white', alpha=0, edgecolor='black'))\n",
    "plt.text(2.8, 2.75, f'{b:.2f}%', bbox=dict(facecolor='white', alpha=0, edgecolor='black'))\n",
    "plt.text(2.8, -0.35, f'{c:.2f}%', bbox=dict(facecolor='white', alpha=0, edgecolor='black'))\n",
    "plt.text(-0.25, -0.35, f'{d:.2f}%', bbox=dict(facecolor='white', alpha=0, edgecolor='black'))\n",
    "\n",
    "plt.savefig(f'Figure1/Gating_strategy_CD45RA_CD62L_contour_FACS_v3.pdf', dpi=300)"
   ]
  },
  {
   "cell_type": "code",
   "execution_count": null,
   "id": "132a5257-927c-4cc4-aa19-85b50c583d97",
   "metadata": {},
   "outputs": [],
   "source": [
    "#kdeplot of CD45RA vs CD62L for Donor D1/D2 at all times or d14\n",
    "\n",
    "#subset data accordingly:\n",
    "#x = mdata[\"gex\"].obs[mdata[\"gex\"].obs['donor']=='D1']\n",
    "#x = mdata[\"gex\"].obs[mdata[\"gex\"].obs['donor']=='D2']\n",
    "#x = mdata[\"gex\"].obs[(mdata[\"gex\"].obs['donor']=='D1') & (mdata[\"gex\"].obs['time']=='d14')]\n",
    "#x = mdata[\"gex\"].obs[(mdata[\"gex\"].obs['donor']=='D2') & (mdata[\"gex\"].obs['time']=='d14')]\n",
    "#x = mdata[\"gex\"].obs[(mdata[\"gex\"].obs['time']=='d14')]\n",
    "x = mdata[\"gex\"].obs[(mdata[\"gex\"].obs['time']=='d365')]\n",
    "\n",
    "sb.kdeplot(data=x, x=x['clr_CD62L'], y=x['clr_CD45RA'], \n",
    "               legend=False, fill=False, color='grey', levels=30, bw_adjust=0.6)\n",
    "\n",
    "a = (len(x[(x['clr_CD45RA'] > 1.3) & (x['clr_CD62L'] <=1.6)])/len(x))*100\n",
    "b = (len(x[(x['clr_CD45RA'] > 1.3) & (x['clr_CD62L'] > 1.6)])/len(x))*100\n",
    "c = (len(x[(x['clr_CD45RA'] <=1.3) & (x['clr_CD62L'] > 1.6)])/len(x))*100\n",
    "d = (len(x[(x['clr_CD45RA'] <=1.3) & (x['clr_CD62L'] <=1.6)])/len(x))*100\n",
    "\n",
    "plt.axvline(x=1.6, color='black', linestyle='dashed')\n",
    "plt.axhline(y=1.3, color='black', linestyle='dashed')\n",
    "plt.xlabel('CD62L')\n",
    "plt.ylabel('CD45RA')\n",
    "plt.xlim(right=4)\n",
    "plt.ylim(-0.4,3)\n",
    "\n",
    "plt.text(-0.25, 2.75, f'{a:.2f}%', bbox=dict(facecolor='white', alpha=0, edgecolor='black'))\n",
    "plt.text(2.8, 2.75, f'{b:.2f}%', bbox=dict(facecolor='white', alpha=0, edgecolor='black'))\n",
    "plt.text(2.8, -0.35, f'{c:.2f}%', bbox=dict(facecolor='white', alpha=0, edgecolor='black'))\n",
    "plt.text(-0.25, -0.35, f'{d:.2f}%', bbox=dict(facecolor='white', alpha=0, edgecolor='black'))\n",
    "\n",
    "#plt.savefig(f'Figure1/Gating_strategy_CD45RA_CD62L_contour_FACS_v3_D1.pdf', dpi=300)\n",
    "#plt.savefig(f'Figure1/Gating_strategy_CD45RA_CD62L_contour_FACS_v3_D2.pdf', dpi=300)\n",
    "#plt.savefig(f'Figure1/Gating_strategy_CD45RA_CD62L_contour_FACS_v3_D1_day14.pdf', dpi=300)\n",
    "#plt.savefig(f'Figure1/Gating_strategy_CD45RA_CD62L_contour_FACS_v3_D2_day14.pdf', dpi=300)\n",
    "#plt.savefig(f'Figure1/Gating_strategy_CD45RA_CD62L_contour_FACS_v3_day14.pdf', dpi=300)\n",
    "plt.savefig(f'Figure1/Gating_strategy_CD45RA_CD62L_contour_FACS_v3_day365.pdf', dpi=300)"
   ]
  },
  {
   "cell_type": "code",
   "execution_count": null,
   "id": "110e8dd0-1110-4321-89d4-1ae53e0a99e0",
   "metadata": {},
   "outputs": [],
   "source": [
    "#Histograms for CD95\n",
    "#pregating on CD45RA and CD62L\n",
    "adata = mdata['gex'][(mdata['gex'].obs['clr_CD45RA']>1.3)&(mdata['gex'].obs['clr_CD62L']>1.6)]\n",
    "sb.kdeplot(data=adata.obs, \n",
    "            x=adata.obs['clr_CD95'], bw_adjust=0.2, fill=True, color='#d4d4d4')\n",
    "plt.axvline(x=1, color='black', linestyle='dashed')\n",
    "plt.savefig(f'Figure1/Gating_strategy_CD95_histogram_FACS_v3_pregated.pdf', dpi=300)\n",
    "plt.show()"
   ]
  },
  {
   "cell_type": "markdown",
   "id": "417cc4cf-84be-4fa7-8aff-a3fc18d6db23",
   "metadata": {
    "jp-MarkdownHeadingCollapsed": true
   },
   "source": [
    "#### Table FACS Phenotypes over time - specific cells"
   ]
  },
  {
   "cell_type": "code",
   "execution_count": null,
   "id": "42d59286-01d0-4a51-88df-906fe6c37098",
   "metadata": {},
   "outputs": [],
   "source": [
    "table = pd.DataFrame(mdata[\"gex\"].obs.groupby(['time', 'FACS_Phenotype_v3'])['specific_new'].value_counts().reset_index())"
   ]
  },
  {
   "cell_type": "code",
   "execution_count": null,
   "id": "4741bbc8-2c4b-46cc-acec-82722bba9596",
   "metadata": {},
   "outputs": [],
   "source": [
    "table = table[(table['specific_new']=='NS4B214') & (table['count']!=0)]"
   ]
  },
  {
   "cell_type": "code",
   "execution_count": null,
   "id": "97deee54-a842-47ef-bf67-3f1d1b5e4576",
   "metadata": {},
   "outputs": [],
   "source": [
    "table['percent_FACS']=0\n",
    "for i in table.index:\n",
    "    table['percent_FACS'][i] = table['count'][i]*100/sum(table['count'][table['time']==table['time'][i]])"
   ]
  },
  {
   "cell_type": "code",
   "execution_count": null,
   "id": "85723196-e8f7-4058-854e-9320dabc1152",
   "metadata": {},
   "outputs": [],
   "source": [
    "table.to_csv('Figure1/specific_cells_per_FACS_Phenotype_v3_over_time.csv')"
   ]
  },
  {
   "cell_type": "markdown",
   "id": "0a1dcf49-1a31-4299-a241-7e3a6167eafa",
   "metadata": {
    "jp-MarkdownHeadingCollapsed": true
   },
   "source": [
    "#### FACS Phenotypes over time (d0, d14, d365, dx) UMAP - specific cells"
   ]
  },
  {
   "cell_type": "code",
   "execution_count": null,
   "id": "39e05dbe-5c52-4f08-b1a3-6a4491a5bfa8",
   "metadata": {},
   "outputs": [],
   "source": [
    "pal = {'N': 'black',\n",
    "      'SCM': '#90bff9',\n",
    "      'CM': '#0e4d92',\n",
    "      'EM': '#21918c',\n",
    "      'EF': '#00c000'}"
   ]
  },
  {
   "cell_type": "code",
   "execution_count": null,
   "id": "d4ac883c-b618-44af-ae88-2e553b8593b6",
   "metadata": {},
   "outputs": [],
   "source": [
    "for time in ['d0', 'd14', 'd365', 'dx']:\n",
    "    for ep in ['NS4B214']:\n",
    "        ax = sc.pl.umap(mdata[\"gex\"], show=False, size=30)\n",
    "        sc.pl.umap(mdata[\"gex\"][(mdata[\"gex\"].obs['time']==time)&((mdata[\"gex\"].obs['specific_new']=='NS4B214'))], \n",
    "                       color='FACS_Phenotype_v3', ax = ax, show=False, size=30, palette=pal)\n",
    "        plt.title(str(time))\n",
    "        plt.tight_layout()\n",
    "        plt.savefig(f'Figure1/Specific_cells_NS4B214_{time}_colored_by_FACS.pdf', dpi=300)\n",
    "        plt.show()"
   ]
  },
  {
   "cell_type": "markdown",
   "id": "123bf3be-4c68-4e34-9093-4866312f7062",
   "metadata": {
    "jp-MarkdownHeadingCollapsed": true
   },
   "source": [
    "## Figure 2"
   ]
  },
  {
   "cell_type": "markdown",
   "id": "cc0d48e3-a846-4681-93e0-9cc35c7388e6",
   "metadata": {
    "jp-MarkdownHeadingCollapsed": true
   },
   "source": [
    "### Protein versus RNA "
   ]
  },
  {
   "cell_type": "code",
   "execution_count": null,
   "id": "db4750fb-b9b7-4507-af31-6c7f7cab17f6",
   "metadata": {},
   "outputs": [],
   "source": [
    "#CD45RA - specific cells\n",
    "ax = sc.pl.umap(mdata[\"gex\"], size=30, cmap=cust_katha, show=False)\n",
    "sc.pl.umap(mdata[\"gex\"][(mdata['gex'].obs['specific_new']=='NS4B214')], color='clr_CD45RA',\n",
    "           size=30, cmap=cust_katha, show=False, ax = ax)\n",
    "plt.savefig(f'Figure2/CD45RA_protein_expression_UMAP_specific_cells_kathas_color.pdf', dpi=600)\n",
    "\n",
    "#CD45RA - all cells\n",
    "sc.pl.umap(mdata[\"gex\"], color='clr_CD45RA',\n",
    "           size=30, cmap=cust_katha, show=False)\n",
    "plt.savefig(f'Figure2/CD45RA_protein_expression_UMAP_all_cells_kathas_color.pdf', dpi=600)\n",
    "\n",
    "#PTPRC - specific cells\n",
    "ax = sc.pl.umap(mdata[\"gex\"], size=30, cmap=cust_katha, show=False)\n",
    "sc.pl.umap(mdata[\"gex\"][(mdata['gex'].obs['specific_new']=='NS4B214')], color='PTPRC',\n",
    "           size=30, cmap=cust_katha, show=False, ax = ax)\n",
    "plt.savefig(f'Figure2/PTPRC_RNA_expression_UMAP_specific_cells_kathas_color.pdf', dpi=600)\n",
    "\n",
    "#PTPRC - all cells\n",
    "sc.pl.umap(mdata[\"gex\"], color='PTPRC',\n",
    "           size=30, cmap=cust_katha, show=False)\n",
    "plt.savefig(f'Figure2/PTPRC_RNA_expression_UMAP_all_cells_kathas_color.pdf', dpi=600)\n",
    "\n",
    "\n",
    "#CD95 - specific cells\n",
    "ax = sc.pl.umap(mdata[\"gex\"], size=30, cmap=cust_katha, show=False)\n",
    "sc.pl.umap(mdata[\"gex\"][(mdata['gex'].obs['specific_new']=='NS4B214')], color='clr_CD95',\n",
    "           size=30, cmap=cust_katha, show=False, ax = ax)\n",
    "plt.savefig(f'Figure2/CD95_protein_expression_UMAP_specific_cells_kathas_color.pdf', dpi=600)\n",
    "\n",
    "#CD95 - all cells\n",
    "sc.pl.umap(mdata[\"gex\"], color='clr_CD95',\n",
    "           size=30, cmap=cust_katha, show=False)\n",
    "plt.savefig(f'Figure2/CD95_protein_expression_UMAP_all_cells_kathas_color.pdf', dpi=600)\n",
    "\n",
    "#FAS - specific cells\n",
    "ax = sc.pl.umap(mdata[\"gex\"], size=30, cmap=cust_katha, show=False)\n",
    "sc.pl.umap(mdata[\"gex\"][(mdata['gex'].obs['specific_new']=='NS4B214')], color='FAS',\n",
    "           size=30, cmap=cust_katha, show=False, ax = ax)\n",
    "plt.savefig(f'Figure2/FAS_RNA_expression_UMAP_specific_cells_kathas_color.pdf', dpi=600)\n",
    "\n",
    "#FAS - all cells\n",
    "sc.pl.umap(mdata[\"gex\"], color='FAS',\n",
    "           size=30, cmap=cust_katha, show=False)\n",
    "plt.savefig(f'Figure2/FAS_RNA_expression_UMAP_all_cells_kathas_color.pdf', dpi=600)\n",
    "\n",
    "\n",
    "#CD62L - specific cells\n",
    "ax = sc.pl.umap(mdata[\"gex\"], size=30, cmap=cust_katha, show=False)\n",
    "sc.pl.umap(mdata[\"gex\"][(mdata['gex'].obs['specific_new']=='NS4B214')], color='clr_CD62L',\n",
    "           size=30, cmap=cust_katha, show=False, ax = ax)\n",
    "plt.savefig(f'Figure2/CD62L_protein_expression_UMAP_specific_cells_kathas_color.pdf', dpi=600)\n",
    "\n",
    "#CD62L - all cells\n",
    "sc.pl.umap(mdata[\"gex\"], color='clr_CD62L',\n",
    "           size=30, cmap=cust_katha, show=False)\n",
    "plt.savefig(f'Figure2/CD62L_protein_expression_UMAP_all_cells_kathas_color.pdf', dpi=600)\n",
    "\n",
    "#SELL - specific cells\n",
    "ax = sc.pl.umap(mdata[\"gex\"], size=30, cmap=cust_katha, show=False)\n",
    "sc.pl.umap(mdata[\"gex\"][(mdata['gex'].obs['specific_new']=='NS4B214')], color='SELL',\n",
    "           size=30, cmap=cust_katha, show=False, ax = ax)\n",
    "plt.savefig(f'Figure2/SELL_RNA_expression_UMAP_specific_cells_kathas_color.pdf', dpi=600)\n",
    "\n",
    "#SELL - all cells\n",
    "sc.pl.umap(mdata[\"gex\"], color='SELL',\n",
    "           size=30, cmap=cust_katha, show=False)\n",
    "plt.savefig(f'Figure2/SELL_RNA_expression_UMAP_all_cells_kathas_color.pdf', dpi=600)"
   ]
  },
  {
   "cell_type": "markdown",
   "id": "9e0d9008-e0ad-4b85-822c-ad8225fad42e",
   "metadata": {
    "jp-MarkdownHeadingCollapsed": true
   },
   "source": [
    "### Ki67 UMAPs & Quantifizierung"
   ]
  },
  {
   "cell_type": "code",
   "execution_count": null,
   "id": "849f6775-ef10-4d35-8bb6-12cbfdc74340",
   "metadata": {},
   "outputs": [],
   "source": [
    "ax = sc.pl.umap(mdata[\"gex\"], size=30, cmap=cust, show=False)\n",
    "sc.pl.umap(mdata[\"gex\"][(mdata['gex'].obs['specific_new']=='NS4B214') & mdata['gex'].obs['time'].isin(['d7', 'd11', 'd14'])], color='MKI67',\n",
    "           size=30, cmap=cust_katha, show=False, ax = ax)\n",
    "plt.savefig(f'Figure2/MKI67_expression_UMAP_d7-14_kathas_color.pdf', dpi=600)"
   ]
  },
  {
   "cell_type": "code",
   "execution_count": null,
   "id": "6585a00c-e1c2-4a33-9cad-4959c39055fd",
   "metadata": {},
   "outputs": [],
   "source": [
    "ax = sc.pl.umap(mdata[\"gex\"], size=30, cmap=cust, show=False)\n",
    "sc.pl.umap(mdata[\"gex\"][(mdata['gex'].obs['specific_new']=='NS4B214') & mdata['gex'].obs['time'].isin(['d90', 'd365', 'dx'])], color='MKI67',\n",
    "           size=30, cmap=cust_katha, show=False, ax = ax)\n",
    "plt.savefig(f'Figure2/MKI67_expression_UMAP_d90-x_kathas_color.pdf', dpi=600)"
   ]
  },
  {
   "cell_type": "code",
   "execution_count": null,
   "id": "9af686e0-63c7-4709-b30d-c0c84dbd96fc",
   "metadata": {},
   "outputs": [],
   "source": [
    "ax = sc.pl.umap(mdata[\"gex\"], size=30, cmap=cust, show=False)\n",
    "sc.pl.umap(mdata[\"gex\"][(mdata['gex'].obs['specific_new']=='NS4B214')], color='MKI67',\n",
    "           size=30, cmap=cust_katha, show=False, ax = ax)\n",
    "plt.savefig(f'Figure2/MKI67_expression_UMAP_specific_kathas_color.pdf', dpi=600)"
   ]
  },
  {
   "cell_type": "code",
   "execution_count": null,
   "id": "58e19724-3996-40ed-92e5-6548a5b49aa1",
   "metadata": {},
   "outputs": [],
   "source": [
    "ax = sc.pl.umap(mdata[\"gex\"], size=30, cmap=cust, show=False)\n",
    "sc.pl.umap(mdata[\"gex\"], color='MKI67',\n",
    "           size=30, cmap=cust_katha, show=False, ax = ax)\n",
    "plt.savefig(f'Figure2/MKI67_expression_UMAP_all_kathas_color.pdf', dpi=600)"
   ]
  },
  {
   "cell_type": "code",
   "execution_count": null,
   "id": "690489d5-092a-402a-ad5e-c7e6ac85b5d8",
   "metadata": {},
   "outputs": [],
   "source": [
    "mdata['gex'].obs['MKI67'] = mdata['gex'][:, 'MKI67'].X.toarray().flatten()"
   ]
  },
  {
   "cell_type": "code",
   "execution_count": null,
   "id": "01f88a30-ff76-4586-b73d-4e023c392b86",
   "metadata": {},
   "outputs": [],
   "source": [
    "table = pd.DataFrame(mdata[\"gex\"].obs[['time', 'leiden', 'donor', 'FACS_Phenotype_v3', 'specific_new', 'MKI67']])"
   ]
  },
  {
   "cell_type": "code",
   "execution_count": null,
   "id": "bf4ed8c2-582e-4523-8def-ae8ffa17448f",
   "metadata": {},
   "outputs": [],
   "source": [
    "table.to_csv('Figure2/MKI67_expression.csv')"
   ]
  },
  {
   "cell_type": "markdown",
   "id": "339ccaeb-aaf1-4d68-b7a3-751e11f7eff9",
   "metadata": {},
   "source": [
    "### Metabolism etc --> Notebook 8 (due to own environment)"
   ]
  },
  {
   "cell_type": "code",
   "execution_count": null,
   "id": "db627c18-4be1-436f-9ddb-88c0cd0d160d",
   "metadata": {},
   "outputs": [],
   "source": []
  },
  {
   "cell_type": "code",
   "execution_count": null,
   "id": "33395226-9879-4bfc-994a-ae7788b95916",
   "metadata": {},
   "outputs": [],
   "source": []
  },
  {
   "cell_type": "markdown",
   "id": "2efa4416",
   "metadata": {},
   "source": [
    "## Supplement"
   ]
  },
  {
   "cell_type": "markdown",
   "id": "e3d617bc-9f42-4049-9a43-2f079553ffeb",
   "metadata": {
    "jp-MarkdownHeadingCollapsed": true
   },
   "source": [
    "### Table"
   ]
  },
  {
   "cell_type": "code",
   "execution_count": null,
   "id": "87864e21-08ce-4b17-a340-55a2acfcdef2",
   "metadata": {},
   "outputs": [],
   "source": [
    "table = pd.DataFrame(mdata[\"gex\"].obs.groupby(['time', 'donor', 'leiden'])['specific_new'].value_counts().reset_index())"
   ]
  },
  {
   "cell_type": "code",
   "execution_count": null,
   "id": "e4d36cf1-1362-4896-aaff-57bebdc373a7",
   "metadata": {},
   "outputs": [],
   "source": [
    "table = table[(table['specific_new']=='NS4B214') & (table['count']!=0)]"
   ]
  },
  {
   "cell_type": "code",
   "execution_count": null,
   "id": "69c41922-1dea-4af4-9624-ac9ef0ff7e67",
   "metadata": {},
   "outputs": [],
   "source": [
    "table['percent_cluster_per_donor']=0\n",
    "for i in table.index:\n",
    "    table['percent_cluster_per_donor'][i] = table['count'][i]*100/sum(table['count'][(table['time']==table['time'][i]) & (table['donor']==table['donor'][i])])"
   ]
  },
  {
   "cell_type": "code",
   "execution_count": null,
   "id": "e5da92c1-243f-4482-9e0f-7b3cde605b33",
   "metadata": {},
   "outputs": [],
   "source": [
    "table.to_csv('specific_cells_percent_leiden_per_donor.csv')"
   ]
  },
  {
   "cell_type": "markdown",
   "id": "6a633571",
   "metadata": {},
   "source": [
    "### Strip plots\n",
    "Strip plots für ene Auswahl an respräsentativen TCRs (auf jeden Fall 7, 22, 67, 489, 1256, 1807)"
   ]
  },
  {
   "cell_type": "code",
   "execution_count": null,
   "id": "ed69d914",
   "metadata": {},
   "outputs": [],
   "source": [
    "pal2 = {'NS4B214' : 'green',\n",
    "        'NS4B214_c' : 'lightgreen',\n",
    "        'NS2B117' : 'black',\n",
    "        'NS3286' : 'black',\n",
    "        'NS3293' : 'black',\n",
    "        'NS2A97' : 'black',\n",
    "        'COV' : 'black',\n",
    "        'EBV1': 'black',\n",
    "        'EBV2' : 'black',\n",
    "        'FLU' : 'black',\n",
    "        'HHV' : 'black',\n",
    "        'no_binding': 'purple'}"
   ]
  },
  {
   "cell_type": "code",
   "execution_count": null,
   "id": "a7a745bd",
   "metadata": {},
   "outputs": [],
   "source": [
    "sb.set(rc={'figure.figsize':(27,5)})\n",
    "sb.set_style(\"whitegrid\")\n",
    "\n",
    "clones = [0, 1, 2, 3, 4, 5, 6, 7, 8, 9, 10, \n",
    "          11, 12, 13, 14, 15, 16, 17, 18, 19, 20,\n",
    "          21, 22, 23, 24, 25, 26, 27, 28, 29, 30,\n",
    "          67, 489, 1256, 1807]\n",
    "old = mdata['gex'].obs[mdata['gex'].obs['clone_id'].isin(clones)]\n",
    "\n",
    "sb.stripplot(data=old, \n",
    "             x=old['clone_id'], \n",
    "             y=old['NS4B214'], \n",
    "             hue=old['specific_new'], \n",
    "                 palette=pal2, legend=False, jitter=True)\n",
    "plt.figsize=(150,10)\n",
    "plt.savefig(f'/Users/mimi/Sina/5_Visualisations/Supplement/NS4B214_clones_0-30_plus_tested.pdf', dpi=300)\n",
    "plt.show()"
   ]
  },
  {
   "cell_type": "markdown",
   "id": "9af68bf2-9f20-432f-b5cb-46dd6b763fa4",
   "metadata": {},
   "source": [
    "### Specific cells over time per epitope"
   ]
  },
  {
   "cell_type": "code",
   "execution_count": null,
   "id": "db09344d-07b2-481a-96ac-74ee0a907a8e",
   "metadata": {},
   "outputs": [],
   "source": [
    "for epitope in (mdata['gex'].uns['epitopes']):\n",
    "    ax = sc.pl.umap(mdata[\"gex\"], show=False, size=30)\n",
    "    sc.pl.umap(mdata[\"gex\"][(mdata[\"gex\"].obs['specific_new']==epitope)], \n",
    "                       color='time', ax = ax, show=False, size=30)\n",
    "    plt.title(epitope)\n",
    "    plt.tight_layout()\n",
    "    plt.savefig(f'Supplement/Specific_cells_over_time_{epitope}.pdf', dpi=300)\n",
    "    plt.figsize=(10,10)\n",
    "    plt.show()"
   ]
  },
  {
   "cell_type": "code",
   "execution_count": null,
   "id": "78adb782-9f45-4777-9d27-97938acc4c37",
   "metadata": {},
   "outputs": [],
   "source": []
  },
  {
   "cell_type": "code",
   "execution_count": null,
   "id": "fe73a8ec-24f3-44cf-b475-748a464d8751",
   "metadata": {},
   "outputs": [],
   "source": []
  },
  {
   "cell_type": "code",
   "execution_count": null,
   "id": "58acd198-c762-4837-88a7-fa80a8c6f7cf",
   "metadata": {},
   "outputs": [],
   "source": []
  },
  {
   "cell_type": "markdown",
   "id": "b6a7fbe4",
   "metadata": {
    "jp-MarkdownHeadingCollapsed": true
   },
   "source": [
    "## CCR7 in CD62L gated subsets"
   ]
  },
  {
   "cell_type": "code",
   "execution_count": null,
   "id": "aa6f63e7",
   "metadata": {},
   "outputs": [],
   "source": [
    "#CCR7 amount of cell subsets over time, gated according to CD62L, boxplots to see potentially naive-like cells\n",
    "data_tmp = mdata[\"gex\"].obs[mdata[\"gex\"].obs['specific_new'].isin(['NS4B214', 'no_binding'])][['FACS_Phenotype_v3', 'clr_CCR7-1', 'specific_new']]\n",
    "custom_categories = ['NS4B214', 'no_binding']\n",
    "data_tmp['specific_new'] = data_tmp['specific_new'].astype(pd.CategoricalDtype(categories=custom_categories))\n",
    "\n",
    "plt.figure(figsize=(8, 6))\n",
    "\n",
    "sb.boxplot(data = data_tmp, \n",
    "           x = 'FACS_Phenotype_v3', y = 'clr_CCR7-1', \n",
    "           hue = 'specific_new', dodge = True, order=['N', 'SCM', 'CM', 'EM', 'EF'])\n",
    "plt.legend(loc='upper left', bbox_to_anchor=(1, 1))\n",
    "plt.xlabel('')\n",
    "plt.ylabel('CCR7')\n",
    "plt.title('CCR7 in CD62L gated populations')\n",
    "plt.savefig(f'/media/agschober/HDD12/3_scRNA-Seq_Sina/5_Visualisations/Figures_Paper/CCR7_in_CD62L_gated_populations.pdf', dpi=600)"
   ]
  },
  {
   "cell_type": "code",
   "execution_count": null,
   "id": "3a4f5f24",
   "metadata": {},
   "outputs": [],
   "source": [
    "#CD62L amount of cell subsets over time, gated according to CD62L, boxplots to see potentially naive-like cells\n",
    "data_tmp = mdata[\"gex\"].obs[mdata[\"gex\"].obs['specific_new'].isin(['NS4B214', 'no_binding'])][['FACS_Phenotype_v3', 'clr_CD62L', 'specific_new']]\n",
    "custom_categories = ['NS4B214', 'no_binding']\n",
    "data_tmp['specific_new'] = data_tmp['specific_new'].astype(pd.CategoricalDtype(categories=custom_categories))\n",
    "\n",
    "plt.figure(figsize=(8, 6))\n",
    "\n",
    "sb.boxplot(data = data_tmp, \n",
    "           x = 'FACS_Phenotype_v3', y = 'clr_CD62L', \n",
    "           hue = 'specific_new', dodge = True, order=['N', 'SCM', 'CM', 'EM', 'EF'])\n",
    "plt.legend(loc='upper left', bbox_to_anchor=(1, 1))\n",
    "plt.xlabel('')\n",
    "plt.ylabel('CD62L')\n",
    "plt.title('CD62L in CD62L gated populations')\n",
    "plt.savefig(f'/media/agschober/HDD12/3_scRNA-Seq_Sina/5_Visualisations/Figures_Paper/CD62L_in_CD62L_gated_populations.pdf', dpi=600)"
   ]
  },
  {
   "cell_type": "markdown",
   "id": "2f08f9d2-3a61-43f1-8cb9-87e7248a67d1",
   "metadata": {},
   "source": [
    "### Gates with CCR7"
   ]
  },
  {
   "cell_type": "code",
   "execution_count": null,
   "id": "14b621da-b49e-49ac-b82e-dca5c6bfa587",
   "metadata": {},
   "outputs": [],
   "source": [
    "#kdeplot of CD45RA vs CD62L, color CCR7\n",
    "sb.scatterplot(data=mdata[\"gex\"].obs, x=mdata[\"gex\"].obs['clr_CD62L'], y=mdata[\"gex\"].obs['clr_CD45RA'],\n",
    "                 alpha=0.5, hue=mdata[\"gex\"].obs['clr_CCR7-1'], palette='Spectral_r', legend=False)\n",
    "sb.kdeplot(data=mdata[\"gex\"].obs, x=mdata[\"gex\"].obs['clr_CD62L'], y=mdata[\"gex\"].obs['clr_CD45RA'], \n",
    "               legend=False, fill=False, color='grey', levels=10, bw_adjust=0.6)\n",
    "\n",
    "a = (len(mdata[\"gex\"].obs[(mdata[\"gex\"].obs['clr_CD45RA'] > 1.3) & (mdata[\"gex\"].obs['clr_CD62L'] <=1.6)])/len(mdata[\"gex\"].obs))*100\n",
    "b = (len(mdata[\"gex\"].obs[(mdata[\"gex\"].obs['clr_CD45RA'] > 1.3) & (mdata[\"gex\"].obs['clr_CD62L'] > 1.6)])/len(mdata[\"gex\"].obs))*100\n",
    "c = (len(mdata[\"gex\"].obs[(mdata[\"gex\"].obs['clr_CD45RA'] <=1.3) & (mdata[\"gex\"].obs['clr_CD62L'] > 1.6)])/len(mdata[\"gex\"].obs))*100\n",
    "d = (len(mdata[\"gex\"].obs[(mdata[\"gex\"].obs['clr_CD45RA'] <=1.3) & (mdata[\"gex\"].obs['clr_CD62L'] <=1.6)])/len(mdata[\"gex\"].obs))*100\n",
    "\n",
    "plt.axvline(x=1.6, color='black', linestyle='dashed')\n",
    "plt.axhline(y=1.3, color='black', linestyle='dashed')\n",
    "plt.xlabel('CD62L')\n",
    "plt.ylabel('CD45RA')\n",
    "plt.xlim(right=4)\n",
    "plt.ylim(-0.4,3)\n",
    "\n",
    "plt.text(-0.25, 2.75, f'{a:.2f}%', bbox=dict(facecolor='white', alpha=0, edgecolor='black'))\n",
    "plt.text(2.8, 2.75, f'{b:.2f}%', bbox=dict(facecolor='white', alpha=0, edgecolor='black'))\n",
    "plt.text(2.8, -0.35, f'{c:.2f}%', bbox=dict(facecolor='white', alpha=0, edgecolor='black'))\n",
    "plt.text(-0.25, -0.35, f'{d:.2f}%', bbox=dict(facecolor='white', alpha=0, edgecolor='black'))\n",
    "\n",
    "plt.savefig(f'Gating_strategy_CD45RA_CD62L_version_3_hue_CCR7.pdf', dpi=300)"
   ]
  },
  {
   "cell_type": "code",
   "execution_count": null,
   "id": "6e008fd0-7a7c-429d-b328-33ba75656bc5",
   "metadata": {},
   "outputs": [],
   "source": [
    "#kdeplot of CD45RA vs CCR7\n",
    "sb.scatterplot(data=mdata[\"gex\"].obs, x=mdata[\"gex\"].obs['clr_CCR7-1'], y=mdata[\"gex\"].obs['clr_CD45RA'],\n",
    "                 alpha=0.5, hue=mdata[\"gex\"].obs['clr_CCR7-1'], palette='Spectral_r', legend=False)\n",
    "sb.kdeplot(data=mdata[\"gex\"].obs, x=mdata[\"gex\"].obs['clr_CCR7-1'], y=mdata[\"gex\"].obs['clr_CD45RA'], \n",
    "               legend=False, fill=False, color='grey', levels=10, bw_adjust=0.6)\n",
    "\n",
    "#plt.axvline(x=1.6, color='black', linestyle='dashed')\n",
    "plt.axhline(y=1.3, color='black', linestyle='dashed')\n",
    "plt.xlabel('CCR7')\n",
    "plt.ylabel('CD45RA')\n",
    "plt.xlim(right=4)\n",
    "plt.ylim(-0.4,3)\n",
    "\n",
    "plt.savefig(f'Gating_strategy_CD45RA_CCR7_version_3_hue_CCR7.pdf', dpi=300)"
   ]
  },
  {
   "cell_type": "code",
   "execution_count": null,
   "id": "58b6b0ec-1c75-4c71-ae1e-949b8e134cde",
   "metadata": {},
   "outputs": [],
   "source": [
    "#Histograms for CCR7 after pregating on double positive\n",
    "#pregating\n",
    "adata = mdata['gex'][(mdata['gex'].obs['clr_CD45RA']>1.3)&(mdata['gex'].obs['clr_CD62L']>1.6)]\n",
    "sb.kdeplot(data=adata.obs, \n",
    "            x=adata.obs['clr_CCR7-1'], bw_adjust=0.2, fill=True, color='#d4d4d4')\n",
    "#plt.axvline(x=1, color='black', linestyle='dashed')\n",
    "plt.savefig(f'Gating_strategy_CCR7_histogram_version_3_pregated.pdf', dpi=300)\n",
    "plt.show()"
   ]
  },
  {
   "cell_type": "code",
   "execution_count": null,
   "id": "7af7ef39-2ec5-4a96-8928-f329becb567f",
   "metadata": {},
   "outputs": [],
   "source": [
    "#Histograms for CCR7 without pregating on double positive\n",
    "#pregating\n",
    "adata = mdata['gex']\n",
    "sb.kdeplot(data=adata.obs, \n",
    "            x=adata.obs['clr_CCR7-1'], bw_adjust=0.2, fill=True, color='#d4d4d4')\n",
    "#plt.axvline(x=1, color='black', linestyle='dashed')\n",
    "plt.savefig(f'Gating_strategy_CCR7_histogram_version_3_not_pregated.pdf', dpi=300)\n",
    "plt.show()"
   ]
  },
  {
   "cell_type": "code",
   "execution_count": null,
   "id": "32fa9eae-939a-4e0e-9c85-dd4b6e412fff",
   "metadata": {},
   "outputs": [],
   "source": []
  }
 ],
 "metadata": {
  "kernelspec": {
   "display_name": "single-cell_env",
   "language": "python",
   "name": "single-cell_env"
  },
  "language_info": {
   "codemirror_mode": {
    "name": "ipython",
    "version": 3
   },
   "file_extension": ".py",
   "mimetype": "text/x-python",
   "name": "python",
   "nbconvert_exporter": "python",
   "pygments_lexer": "ipython3",
   "version": "3.12.7"
  }
 },
 "nbformat": 4,
 "nbformat_minor": 5
}
