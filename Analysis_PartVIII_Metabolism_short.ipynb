{
 "cells": [
  {
   "cell_type": "markdown",
   "id": "711e931e-9bd1-464a-b078-aab58cb44a52",
   "metadata": {},
   "source": [
    "# Analysis Part VIII - Metabolism"
   ]
  },
  {
   "cell_type": "code",
   "execution_count": null,
   "id": "a0bc1c52",
   "metadata": {},
   "outputs": [],
   "source": [
    "%load_ext autoreload\n",
    "%matplotlib inline\n",
    "\n",
    "import warnings\n",
    "warnings.simplefilter(action='ignore', category=FutureWarning)\n",
    "warnings.filterwarnings(action='ignore')\n",
    "import os\n",
    "import scanpy as sc\n",
    "import scirpy as ir\n",
    "import anndata as ann\n",
    "import numpy as np\n",
    "import pandas as pd\n",
    "import seaborn as sb\n",
    "import matplotlib.pyplot as plt\n",
    "from matplotlib import rcParams\n",
    "from mudata import MuData\n",
    "import mudata\n",
    "\n",
    "import tarfile\n",
    "import warnings\n",
    "from glob import glob\n",
    "\n",
    "import anndata\n",
    "import matplotlib.pyplot as plt\n",
    "import muon as mu\n",
    "import pandas as pd\n",
    "import scanpy as sc\n",
    "import scirpy as ir\n",
    "\n",
    "%autoreload 2\n",
    "import sys\n",
    "sys.path.append('..')\n",
    "import utility.annotation as utils_annotation\n",
    "import utility.representation as utils_representation\n",
    "import utility.visualisation as utils_vis\n",
    "\n",
    "from sklearn.mixture import GaussianMixture"
   ]
  },
  {
   "cell_type": "code",
   "execution_count": null,
   "id": "be8a2217",
   "metadata": {},
   "outputs": [],
   "source": [
    "sc.settings.set_figure_params(dpi=150)\n",
    "sc.settings.verbosity = 3\n",
    "sc.set_figure_params(vector_friendly=False, color_map='viridis', transparent=True)\n",
    "sb.set_style('whitegrid')\n",
    "\n",
    "from matplotlib.colors import LinearSegmentedColormap\n",
    "colors = ['darkblue', 'blue', 'lightblue', '#FFEA00', 'orange', 'red', 'darkred']\n",
    "cust = LinearSegmentedColormap.from_list('custom_cmap', colors)\n",
    "colormap = cust"
   ]
  },
  {
   "cell_type": "code",
   "execution_count": null,
   "id": "20f94109-4c55-4595-86c1-9351522fc87f",
   "metadata": {},
   "outputs": [],
   "source": [
    "colors_katha = ['#33378F', '#669AC7', '#BFE0EC', '#FDF8C0', '#FBBC6C', '#EB5638', '#A71D2B']\n",
    "cust_katha = LinearSegmentedColormap.from_list('custom_cmap', colors_katha)"
   ]
  },
  {
   "cell_type": "code",
   "execution_count": null,
   "id": "7b9071f2",
   "metadata": {},
   "outputs": [],
   "source": [
    "mdata = mu.read('/Users/mimi/Sina/data_specificity_annotated_final_pseudotime_cite.h5mu')"
   ]
  },
  {
   "cell_type": "markdown",
   "id": "2137a7e7",
   "metadata": {},
   "source": [
    "## Pathway Analysis using DecoupleR"
   ]
  },
  {
   "cell_type": "code",
   "execution_count": null,
   "id": "aed061ec",
   "metadata": {},
   "outputs": [],
   "source": [
    "import decoupler as dc"
   ]
  },
  {
   "cell_type": "code",
   "execution_count": null,
   "id": "a950350c-539f-4869-b6cc-c17f4e649b6c",
   "metadata": {},
   "outputs": [],
   "source": [
    "dc.__version__"
   ]
  },
  {
   "cell_type": "markdown",
   "id": "c264f930-aaff-4af3-9c7c-51fa6d6e22b7",
   "metadata": {},
   "source": [
    "### Prepare the pathways"
   ]
  },
  {
   "cell_type": "code",
   "execution_count": null,
   "id": "9172a50b",
   "metadata": {},
   "outputs": [],
   "source": [
    "msigdb = dc.get_resource('MSigDB')"
   ]
  },
  {
   "cell_type": "code",
   "execution_count": null,
   "id": "b3bea8dc",
   "metadata": {},
   "outputs": [],
   "source": [
    "# Filter by hallmark\n",
    "msigdb_hallmark = msigdb[msigdb['collection']=='hallmark']\n",
    "\n",
    "# Filter by kegg\n",
    "msigdb_kegg = msigdb[msigdb['collection']=='kegg_pathways']\n",
    "\n",
    "# Filter by cell_type_signatures\n",
    "msigdb_cell_type = msigdb[msigdb['collection']=='cell_type_signatures']\n",
    "\n",
    "# Filter by go_biological_process\n",
    "msigdb_gobp = msigdb[msigdb['collection']=='go_biological_process']\n",
    "\n",
    "# Filter by reactome_pathways\n",
    "msigdb_reactome = msigdb[msigdb['collection']=='reactome_pathways']\n",
    "\n",
    "# Remove duplicated entries\n",
    "msigdb_hallmark = msigdb_hallmark[~msigdb_hallmark.duplicated(['geneset', 'genesymbol'])]\n",
    "msigdb_kegg = msigdb_kegg[~msigdb_kegg.duplicated(['geneset', 'genesymbol'])]\n",
    "msigdb_cell_type = msigdb_cell_type[~msigdb_cell_type.duplicated(['geneset', 'genesymbol'])]\n",
    "msigdb_gobp = msigdb_gobp[~msigdb_gobp.duplicated(['geneset', 'genesymbol'])]\n",
    "msigdb_reactome = msigdb_reactome[~msigdb_reactome.duplicated(['geneset', 'genesymbol'])]"
   ]
  },
  {
   "cell_type": "code",
   "execution_count": null,
   "id": "d0d156fd",
   "metadata": {},
   "outputs": [],
   "source": [
    "hallmark_selection = pd.read_csv('hallmark_selection_inkl_category.csv', header=None)"
   ]
  },
  {
   "cell_type": "code",
   "execution_count": null,
   "id": "222e7be5",
   "metadata": {},
   "outputs": [],
   "source": [
    "kegg_selection = pd.read_csv('KEGG_selection_inkl_category.csv', header=None)"
   ]
  },
  {
   "cell_type": "code",
   "execution_count": null,
   "id": "0299cc7b-e6d0-4397-9783-4055235c77f2",
   "metadata": {},
   "outputs": [],
   "source": [
    "anabolism = pd.read_csv('Anabolism.csv', header=None)"
   ]
  },
  {
   "cell_type": "code",
   "execution_count": null,
   "id": "464dd6d3-eea4-4cd0-bc15-796378656f26",
   "metadata": {},
   "outputs": [],
   "source": [
    "anabolism = list(anabolism[0])"
   ]
  },
  {
   "cell_type": "code",
   "execution_count": null,
   "id": "9bc52b51",
   "metadata": {},
   "outputs": [],
   "source": [
    "own_pathways = pd.read_csv('OWN_PATHWAYS.csv', header=0)"
   ]
  },
  {
   "cell_type": "code",
   "execution_count": null,
   "id": "b71a2677",
   "metadata": {},
   "outputs": [],
   "source": [
    "GO_terms = pd.read_csv('GO_Selection.csv', header=None)"
   ]
  },
  {
   "cell_type": "code",
   "execution_count": null,
   "id": "451d335c",
   "metadata": {},
   "outputs": [],
   "source": [
    "GO_select = list(GO_terms[0])"
   ]
  },
  {
   "cell_type": "code",
   "execution_count": null,
   "id": "f80acbaf",
   "metadata": {},
   "outputs": [],
   "source": [
    "hallmark_select = list(hallmark_selection[0])"
   ]
  },
  {
   "cell_type": "code",
   "execution_count": null,
   "id": "72cd15f1",
   "metadata": {},
   "outputs": [],
   "source": [
    "kegg_select = list(kegg_selection[0])"
   ]
  },
  {
   "cell_type": "code",
   "execution_count": null,
   "id": "4d4242e8",
   "metadata": {},
   "outputs": [],
   "source": [
    "msigdb_hallmark_select = msigdb_hallmark[msigdb_hallmark['geneset'].isin(hallmark_select)]"
   ]
  },
  {
   "cell_type": "code",
   "execution_count": null,
   "id": "fd3db6cb",
   "metadata": {},
   "outputs": [],
   "source": [
    "msigdb_kegg_select = msigdb_kegg[msigdb_kegg['geneset'].isin(kegg_select)]"
   ]
  },
  {
   "cell_type": "code",
   "execution_count": null,
   "id": "194a194a",
   "metadata": {},
   "outputs": [],
   "source": [
    "msigdb_go_select = msigdb[msigdb['geneset'].isin(GO_select)]\n",
    "msigdb_go_select = msigdb_go_select[~msigdb_go_select.duplicated(['geneset', 'genesymbol'])]"
   ]
  },
  {
   "cell_type": "markdown",
   "id": "a9b888a6",
   "metadata": {},
   "source": [
    "### KEGG / OWN / GOCC / GOBP"
   ]
  },
  {
   "cell_type": "code",
   "execution_count": null,
   "id": "b8def5ce",
   "metadata": {},
   "outputs": [],
   "source": [
    "selection = GO_select + kegg_select\n",
    "selection2 = GO_select + kegg_select + hallmark_select"
   ]
  },
  {
   "cell_type": "code",
   "execution_count": null,
   "id": "0e7a4d11",
   "metadata": {},
   "outputs": [],
   "source": [
    "msigdb_selection = msigdb[msigdb['geneset'].isin(selection)]\n",
    "msigdb_selection2 = msigdb[msigdb['geneset'].isin(selection2)]"
   ]
  },
  {
   "cell_type": "code",
   "execution_count": null,
   "id": "361b13e0",
   "metadata": {},
   "outputs": [],
   "source": [
    "msigdb_selection = msigdb_selection[~msigdb_selection.duplicated(['geneset', 'genesymbol'])]\n",
    "msigdb_selection2 = msigdb_selection2[~msigdb_selection2.duplicated(['geneset', 'genesymbol'])]"
   ]
  },
  {
   "cell_type": "code",
   "execution_count": null,
   "id": "0243dd9f",
   "metadata": {},
   "outputs": [],
   "source": [
    "msigdb_selection['weight']=1\n",
    "msigdb_selection2['weight']=1"
   ]
  },
  {
   "cell_type": "code",
   "execution_count": null,
   "id": "f6c13126",
   "metadata": {},
   "outputs": [],
   "source": [
    "selected_pathways = pd.concat([msigdb_selection, own_pathways]).reset_index()\n",
    "selected_pathways2 = pd.concat([msigdb_selection2, own_pathways]).reset_index()"
   ]
  },
  {
   "cell_type": "code",
   "execution_count": null,
   "id": "7b1a9eb0-3890-4c4b-8618-e88f265ee4c7",
   "metadata": {},
   "outputs": [],
   "source": [
    "ana = selected_pathways[selected_pathways['geneset'].isin(anabolism)]"
   ]
  },
  {
   "cell_type": "code",
   "execution_count": null,
   "id": "7de38bcd-7566-47d8-bd01-5430c339c635",
   "metadata": {},
   "outputs": [],
   "source": [
    "ana_filtered = ana[~ana.duplicated(['genesymbol'])]"
   ]
  },
  {
   "cell_type": "code",
   "execution_count": null,
   "id": "5409bd53-a4a9-4f66-a455-50358ea590c7",
   "metadata": {},
   "outputs": [],
   "source": [
    "ana_filtered"
   ]
  },
  {
   "cell_type": "code",
   "execution_count": null,
   "id": "c21fbc30-ea4c-4dcc-a01b-fbeea6d92bd1",
   "metadata": {},
   "outputs": [],
   "source": [
    "ana_filtered['geneset'] = 'ANABOLISM'\n",
    "ana['geneset'] = 'ANABOLISM'\n",
    "\n",
    "ana"
   ]
  },
  {
   "cell_type": "code",
   "execution_count": null,
   "id": "d52c8dea-b875-42a3-b831-968544f5b832",
   "metadata": {},
   "outputs": [],
   "source": []
  },
  {
   "cell_type": "code",
   "execution_count": null,
   "id": "f561e097-d831-40fb-83fd-bcc5e2773ad8",
   "metadata": {},
   "outputs": [],
   "source": []
  },
  {
   "cell_type": "code",
   "execution_count": null,
   "id": "c8dbc84a-4039-4a64-a68c-85022f85b7c8",
   "metadata": {},
   "outputs": [],
   "source": []
  },
  {
   "cell_type": "code",
   "execution_count": null,
   "id": "f96b053b-6615-435f-b684-c7a6ac9ffbf5",
   "metadata": {},
   "outputs": [],
   "source": [
    "selected_pathways3 = pd.concat([selected_pathways, ana]).reset_index()\n",
    "selected_pathways4 = pd.concat([selected_pathways, ana_filtered]).reset_index()"
   ]
  },
  {
   "cell_type": "code",
   "execution_count": null,
   "id": "a66f8b41-9eaa-4efa-a6a1-fb4943cd3dce",
   "metadata": {},
   "outputs": [],
   "source": []
  },
  {
   "cell_type": "code",
   "execution_count": null,
   "id": "02bf1170-addb-40d9-9ef1-6875ea337aca",
   "metadata": {},
   "outputs": [],
   "source": []
  },
  {
   "cell_type": "markdown",
   "id": "5d0e3bce",
   "metadata": {},
   "source": [
    "## Use mlm for metabolic pathways\n",
    "As ORA only takes the toip 5% of the genes to test for geneset overrepresentation, highly expressed genes like the TCR or anything similar may skew the results for the individual pathways. Therefore, I want to test whether the result differs if I use the multivariate linear model that was also used for the progeny pathways."
   ]
  },
  {
   "cell_type": "code",
   "execution_count": null,
   "id": "67353e2f",
   "metadata": {},
   "outputs": [],
   "source": [
    "dc.run_mlm(\n",
    "    mat=mdata['gex'],\n",
    "    net=selected_pathways4,\n",
    "    source='geneset',\n",
    "    target='genesymbol',\n",
    "    weight='weight',\n",
    "    use_raw = False,\n",
    "    verbose=True\n",
    ")"
   ]
  },
  {
   "cell_type": "code",
   "execution_count": null,
   "id": "5853603c",
   "metadata": {},
   "outputs": [],
   "source": [
    "mdata['gex'].obsm['selected_pathways_mlm_estimate'] = mdata['gex'].obsm['mlm_estimate'].copy()\n",
    "mdata['gex'].obsm['selected_pathways_mlm_pvals'] = mdata['gex'].obsm['mlm_pvals'].copy()"
   ]
  },
  {
   "cell_type": "code",
   "execution_count": null,
   "id": "d7f6faeb",
   "metadata": {},
   "outputs": [],
   "source": [
    "acts = dc.get_acts(mdata['gex'], obsm_key='selected_pathways_mlm_estimate')"
   ]
  },
  {
   "cell_type": "markdown",
   "id": "03678b03-38d2-4c95-9f31-fdf082966603",
   "metadata": {},
   "source": [
    "#### General differences between specifc and unspecific "
   ]
  },
  {
   "cell_type": "code",
   "execution_count": null,
   "id": "efbe364c-455d-4c78-b5df-50b5341ef16f",
   "metadata": {},
   "outputs": [],
   "source": [
    "#General differences between specifc and unspecific \n",
    "df = dc.rank_sources_groups(acts, groupby='specific_new', reference='no_binding', method='t-test_overestim_var')\n",
    "df.to_csv('/Users/mimi/Sina/5_Visualisations/Figure2/Selected_Pathway_pvals_mlm_specific_vs_unspecific_inkl_seumois_ana_filtered.csv')"
   ]
  },
  {
   "cell_type": "markdown",
   "id": "2654168c-cce8-4870-b02f-e3ff40fbb143",
   "metadata": {},
   "source": [
    "#### General differences between leiden clusters in specific cells"
   ]
  },
  {
   "cell_type": "code",
   "execution_count": null,
   "id": "5082bfca-cbbb-4c9d-9d35-897ca61413c4",
   "metadata": {},
   "outputs": [],
   "source": [
    "#Differences between leiden clusters in specific cells\n",
    "df = dc.rank_sources_groups(acts[acts.obs['specific_new']=='NS4B214'], groupby='leiden', reference='rest', method='t-test_overestim_var')\n",
    "df.to_csv('/Users/mimi/Sina/5_Visualisations/Figure2/Selected_Pathway_pvals_mlm_specific_over_leiden_inkl_seumois_ana_filtered.csv')"
   ]
  },
  {
   "cell_type": "code",
   "execution_count": null,
   "id": "5945d7dc-44a3-4abc-8373-70e2238c085d",
   "metadata": {},
   "outputs": [],
   "source": [
    "#Differences between leiden clusters in specific cells versus cluster 4\n",
    "df = dc.rank_sources_groups(acts[acts.obs['specific_new']=='NS4B214'], groupby='leiden', reference='4', method='t-test_overestim_var')\n",
    "df.to_csv('/Users/mimi/Sina/5_Visualisations/Figure2/Selected_Pathway_pvals_mlm_specific_over_leiden_inkl_seumois_ana_filtered_vs_cluster4.csv')\n",
    "\n",
    "#Differences between leiden clusters in specific cells versus cluster 10\n",
    "df = dc.rank_sources_groups(acts[acts.obs['specific_new']=='NS4B214'], groupby='leiden', reference='10', method='t-test_overestim_var')\n",
    "df.to_csv('/Users/mimi/Sina/5_Visualisations/Figure2/Selected_Pathway_pvals_mlm_specific_over_leiden_inkl_seumois_ana_filtered_vs_cluster10.csv')"
   ]
  },
  {
   "cell_type": "markdown",
   "id": "d589e320-6900-44f9-be50-9645b2b3c63a",
   "metadata": {},
   "source": [
    "#### Generate plots for those per cluster"
   ]
  },
  {
   "cell_type": "code",
   "execution_count": null,
   "id": "a77625e1-c1d7-4ea8-bcf8-4b03b11ddb0b",
   "metadata": {},
   "outputs": [],
   "source": [
    "#add log of pvalue\n",
    "df['logpval'] = -1*np.log(df['pvals_adj'])"
   ]
  },
  {
   "cell_type": "code",
   "execution_count": null,
   "id": "2fd864a7-1ea9-47ac-ba28-f51e9a0e6297",
   "metadata": {},
   "outputs": [],
   "source": [
    "pd.DataFrame(selected_pathways['geneset'].unique()).to_csv('selected_pathways.csv')"
   ]
  },
  {
   "cell_type": "code",
   "execution_count": null,
   "id": "5539d54c-ae79-4489-b965-a8f6f6db23fb",
   "metadata": {},
   "outputs": [],
   "source": [
    "selected_pathways_category_annotation = pd.read_csv('selected_pathways_inkl_category.csv', header=None, sep=';')"
   ]
  },
  {
   "cell_type": "code",
   "execution_count": null,
   "id": "22347cbc-c562-403d-b629-ae3582eb5af5",
   "metadata": {},
   "outputs": [],
   "source": [
    "#add categories to df\n",
    "df['category'] = np.NaN\n",
    "for i in range(len(selected_pathways_category_annotation[0])):\n",
    "    df['category'][df['names']==selected_pathways_category_annotation[0][i]] = selected_pathways_category_annotation[1][i]"
   ]
  },
  {
   "cell_type": "code",
   "execution_count": null,
   "id": "38449dc6-2a83-414c-b7b9-2220bc984f32",
   "metadata": {
    "scrolled": true
   },
   "outputs": [],
   "source": [
    "for i in range(13):\n",
    "    table = df[df['group']==str(i)]\n",
    "    table = table.sort_values(by=['logpval']).reset_index()\n",
    "    table.to_csv(f'/Users/mimi/Sina/5_Visualisations/Figure2/Selected_Pathway_pvals_mlm_specific_over_leiden_Cluster{i}.csv')\n",
    "    ax = sb.scatterplot(data=table, x=table.index, y='logpval', hue='category')\n",
    "    sb.move_legend(ax, \"upper left\", bbox_to_anchor=(1, 1))\n",
    "    plt.title('Cluster '+str(i))\n",
    "    plt.savefig(f'/Users/mimi/Sina/5_Visualisations/Figure2/Selected_Pathway_pvals_mlm_specific_over_leiden_Cluster{i}.pdf', dpi=300, bbox_inches='tight')\n",
    "    plt.show()"
   ]
  },
  {
   "cell_type": "markdown",
   "id": "88f33709-3565-4d0a-bb34-3834551e107e",
   "metadata": {},
   "source": [
    "### Pvalue Plots and rankings as before"
   ]
  },
  {
   "cell_type": "code",
   "execution_count": null,
   "id": "408cd70a-60c9-4451-be22-a6a920664cce",
   "metadata": {},
   "outputs": [],
   "source": [
    "#General differences between specifc and unspecific \n",
    "df = dc.rank_sources_groups(acts, groupby='specific_new', reference='no_binding', method='t-test_overestim_var')\n",
    "df.to_csv('/Users/mimi/Sina/5_Visualisations/Figure2/Selected_Pathway_inkl_hallmark_pvals_mlm_specific_vs_unspecific.csv')"
   ]
  },
  {
   "cell_type": "code",
   "execution_count": null,
   "id": "b8d33b6a-f487-4f4a-8885-b44719fa3a49",
   "metadata": {},
   "outputs": [],
   "source": [
    "#Differences between leiden clusters in specific cells\n",
    "df = dc.rank_sources_groups(acts[(acts.obs['specific_new']=='NS4B214') & (acts.obs['time'].isin(['d7', 'd11', 'd14']))], groupby='leiden', reference='rest', method='t-test_overestim_var')\n",
    "df.to_csv('/Users/mimi/Sina/5_Visualisations/Figure2/Selected_Pathway_inkl_hallmark_pvals_mlm_specific_over_leiden_early.csv')"
   ]
  },
  {
   "cell_type": "code",
   "execution_count": null,
   "id": "896f7032-5de2-435e-8602-23dca4db731b",
   "metadata": {},
   "outputs": [],
   "source": [
    "#add log of pvalue\n",
    "df['logpval'] = -1*np.log(df['pvals_adj'])"
   ]
  },
  {
   "cell_type": "code",
   "execution_count": null,
   "id": "ce7855d8-c65f-4ce1-ad94-aac40e90ba7f",
   "metadata": {},
   "outputs": [],
   "source": [
    "pd.DataFrame(selected_pathways2['geneset'].unique()).to_csv('selected_pathways2.csv')"
   ]
  },
  {
   "cell_type": "code",
   "execution_count": null,
   "id": "a03ae2b9-80b9-4041-8913-90cb65c02b2f",
   "metadata": {
    "scrolled": true
   },
   "outputs": [],
   "source": [
    "selected_pathways_category_annotation = pd.read_csv('selected_pathways2_inkl_category.csv', header=None, sep=';')\n",
    "\n",
    "#add categories to df\n",
    "df['category'] = np.NaN\n",
    "for i in range(len(selected_pathways_category_annotation[0])):\n",
    "    df['category'][df['names']==selected_pathways_category_annotation[0][i]] = selected_pathways_category_annotation[1][i]\n",
    "\n",
    "for i in range(13):\n",
    "    table = df[df['group']==str(i)]\n",
    "    table = table.sort_values(by=['logpval']).reset_index()\n",
    "    table.to_csv(f'/Users/mimi/Sina/5_Visualisations/Figure2/Selected_Pathway_inkl_Hallmark_pvals_mlm_specific_over_leiden_Cluster{i}.csv')\n",
    "    ax = sb.scatterplot(data=table, x=table.index, y='logpval', hue='category')\n",
    "    sb.move_legend(ax, \"upper left\", bbox_to_anchor=(1, 1))\n",
    "    plt.title('Cluster '+str(i))\n",
    "    plt.savefig(f'/Users/mimi/Sina/5_Visualisations/Figure2/Selected_Pathway_inkl_Hallmark_pvals_mlm_specific_over_leiden_Cluster{i}.pdf', dpi=300, bbox_inches='tight')\n",
    "    plt.show()"
   ]
  },
  {
   "cell_type": "markdown",
   "id": "a7037c09-cb32-4f3d-ae03-ba4b97bf97fa",
   "metadata": {},
   "source": [
    "##### UMAPs for all pathways"
   ]
  },
  {
   "cell_type": "code",
   "execution_count": null,
   "id": "8fcd5a57-6562-4415-8360-9eba436d3352",
   "metadata": {},
   "outputs": [],
   "source": [
    "colors_katha = ['#33378F', '#669AC7', '#BFE0EC', '#FDF8C0', '#FBBC6C', '#EB5638', '#A71D2B']\n",
    "cust_katha = LinearSegmentedColormap.from_list('custom_cmap', colors_katha)"
   ]
  },
  {
   "cell_type": "code",
   "execution_count": null,
   "id": "92e702f8-6c25-4cf1-8f13-c8e39dd7d591",
   "metadata": {
    "scrolled": true
   },
   "outputs": [],
   "source": [
    "#pw = list(selected_pathways3['geneset'].unique())\n",
    "pw = ['MEVALONATE PATHWAY',\n",
    " 'PI3K-AKT-MTOR-MYC SIGNALING',\n",
    " 'METHIONINE CYCLE',\n",
    " 'HIF PATHWAY',\n",
    " 'ARGININE-PROLINE METABOLISM',\n",
    " 'apoptosis',\n",
    " 'quiescence', 'ANABOLISM', 'Type I and II IFN signaling genes', 'Cytotoxic signature genes']\n",
    "\n",
    "#early\n",
    "for i in pw:\n",
    "    ax = sc.pl.umap(acts, cmap=cust, show=False, size=30)\n",
    "    sc.pl.umap(acts[(acts.obs['specific_new']=='NS4B214')&(acts.obs['time'].isin(['d7', 'd11', 'd14']))], color=i, \n",
    "           cmap=cust_katha, show=False, size=30, ax=ax)\n",
    "    plt.tight_layout()\n",
    "    plt.savefig(f\"/Users/mimi/Sina/5_Visualisations/Figure2/{i}_UMAP_d7-14_specific_cells_kathas_color.pdf\", dpi=300, bbox_inches='tight')\n",
    "    plt.show()\n",
    "\n",
    "#late\n",
    "    ax = sc.pl.umap(acts, cmap=cust, show=False, size=30)\n",
    "    sc.pl.umap(acts[(acts.obs['specific_new']=='NS4B214')&(acts.obs['time'].isin(['d90', 'd365', 'dx']))], color=i, \n",
    "           cmap=cust_katha, show=False, size=30, ax=ax)\n",
    "    plt.tight_layout()\n",
    "    plt.savefig(f\"/Users/mimi/Sina/5_Visualisations/Figure2/{i}_UMAP_d90-x_specific_cells_kathas_color.pdf\", dpi=600, bbox_inches='tight')\n",
    "    plt.show()\n",
    "\n",
    "#all\n",
    "    ax = sc.pl.umap(acts, cmap=cust, show=False, size=30)\n",
    "    sc.pl.umap(acts, color=i, \n",
    "           cmap=cust_katha, show=False, size=30, ax=ax)\n",
    "    plt.tight_layout()\n",
    "    plt.savefig(f\"/Users/mimi/Sina/5_Visualisations/Figure2/{i}_UMAP_all_cells_kathas_color.pdf\", dpi=300, bbox_inches='tight')\n",
    "    plt.show()\n",
    "\n",
    "#all specific\n",
    "    ax = sc.pl.umap(acts, cmap=cust, show=False, size=30)\n",
    "    sc.pl.umap(acts[(acts.obs['specific_new']=='NS4B214')], color=i, \n",
    "           cmap=cust_katha, show=False, size=30, ax=ax)\n",
    "    plt.tight_layout()\n",
    "    plt.savefig(f\"/Users/mimi/Sina/5_Visualisations/Figure2/{i}_UMAP_all_specific_cells_kathas_color.pdf\", dpi=300, bbox_inches='tight')\n",
    "    plt.show()\n",
    "\n",
    "#d14\n",
    "    ax = sc.pl.umap(acts, cmap=cust, show=False, size=30)\n",
    "    sc.pl.umap(acts[(acts.obs['specific_new']=='NS4B214')&(acts.obs['time'].isin(['d14']))], color=i, \n",
    "           cmap=cust_katha, show=False, size=30, ax=ax)\n",
    "    plt.tight_layout()\n",
    "    plt.savefig(f\"/Users/mimi/Sina/5_Visualisations/Figure2/{i}_UMAP_d14_specific_cells_kathas_color.pdf\", dpi=300, bbox_inches='tight')\n",
    "    plt.show()\n",
    "\n",
    "#d365\n",
    "    ax = sc.pl.umap(acts, cmap=cust, show=False, size=30)\n",
    "    sc.pl.umap(acts[(acts.obs['specific_new']=='NS4B214')&(acts.obs['time'].isin(['d365']))], color=i, \n",
    "           cmap=cust_katha, show=False, size=30, ax=ax)\n",
    "    plt.tight_layout()\n",
    "    plt.savefig(f\"/Users/mimi/Sina/5_Visualisations/Figure2/{i}_UMAP_d365_specific_cells_kathas_color.pdf\", dpi=300, bbox_inches='tight')\n",
    "    plt.show()"
   ]
  },
  {
   "cell_type": "markdown",
   "id": "1ef4b8a4-1175-4b03-9fe2-a85936817466",
   "metadata": {},
   "source": [
    "##### Scores for all cells and pathways"
   ]
  },
  {
   "cell_type": "code",
   "execution_count": null,
   "id": "20a64d25",
   "metadata": {},
   "outputs": [],
   "source": [
    "table = mdata['gex'].obsm['selected_pathways_mlm_estimate'] #[mdata['gex'].obs['specific_new'].isin(['no_binding', 'NS4B214'])]\n",
    "table['specific_new'] = mdata['gex'].obs['specific_new'] #[mdata['gex'].obs['specific_new'].isin(['no_binding', 'NS4B214'])]\n",
    "table['time'] = mdata['gex'].obs['time'] #[mdata['gex'].obs['specific_new'].isin(['no_binding', 'NS4B214'])]\n",
    "table['class'] = 'naive'\n",
    "table['class'][table['time'].isin(['d7', 'd11', 'd14'])] = 'early'\n",
    "table['class'][table['time'].isin(['d21', 'd28', 'd49'])] = 'intermediate'\n",
    "table['class'][table['time'].isin(['d90', 'd365', 'dx'])] = 'late'\n",
    "table['cluster'] = mdata['gex'].obs['leiden'] #[mdata['gex'].obs['specific_new'].isin(['no_binding', 'NS4B214'])]\n",
    "table['FACS'] = mdata['gex'].obs['FACS_Phenotype_v3'] #[mdata['gex'].obs['specific_new'].isin(['no_binding', 'NS4B214'])]"
   ]
  },
  {
   "cell_type": "code",
   "execution_count": null,
   "id": "bfe274ca-5592-4605-8786-1a04f2538ee7",
   "metadata": {},
   "outputs": [],
   "source": []
  },
  {
   "cell_type": "code",
   "execution_count": null,
   "id": "223bc2e7-ace1-492a-986f-be563041b372",
   "metadata": {},
   "outputs": [],
   "source": []
  },
  {
   "cell_type": "code",
   "execution_count": null,
   "id": "3ac33dc4",
   "metadata": {},
   "outputs": [],
   "source": [
    "table.to_csv('/Users/mimi/Sina/5_Visualisations/Figure2/Score_table_inkl_seumois_ana_filtered_new_all_cells.csv')"
   ]
  },
  {
   "cell_type": "code",
   "execution_count": null,
   "id": "598f607a-f5e0-4611-965d-5b2e374ffb3e",
   "metadata": {},
   "outputs": [],
   "source": []
  },
  {
   "cell_type": "code",
   "execution_count": null,
   "id": "358624a2-2b84-4524-8386-582ddc1d5c3f",
   "metadata": {},
   "outputs": [],
   "source": [
    "#values of pathways per cluster\n",
    "for i in range(0,14):\n",
    "    print(table[['GOBP_T_CELL_PROLIFERATION']][table['cluster']==str(i)].mean())"
   ]
  },
  {
   "cell_type": "markdown",
   "id": "2b3908a3",
   "metadata": {},
   "source": [
    "## Density Plots"
   ]
  },
  {
   "cell_type": "code",
   "execution_count": null,
   "id": "99c6ed16-ec00-4479-8dd3-c5c7a411424b",
   "metadata": {},
   "outputs": [],
   "source": [
    "pw = ['GOCC_MITOCHONDRION',\n",
    " 'GOBP_CELLULAR_RESPONSE_TO_RETINOIC_ACID',\n",
    " 'KEGG_ABC_TRANSPORTERS',\n",
    " 'KEGG_GAP_JUNCTION',\n",
    " 'KEGG_CYTOKINE_CYTOKINE_RECEPTOR_INTERACTION',\n",
    " 'KEGG_TGF_BETA_SIGNALING_PATHWAY',\n",
    " 'KEGG_HEDGEHOG_SIGNALING_PATHWAY',\n",
    " 'KEGG_APOPTOSIS',\n",
    " 'GOBP_T_CELL_PROLIFERATION',\n",
    " 'KEGG_NEUROTROPHIN_SIGNALING_PATHWAY',\n",
    " 'KEGG_NOD_LIKE_RECEPTOR_SIGNALING_PATHWAY',\n",
    " 'KEGG_GLYCOSPHINGOLIPID_BIOSYNTHESIS_LACTO_AND_NEOLACTO_SERIES',\n",
    " 'KEGG_CHEMOKINE_SIGNALING_PATHWAY',\n",
    " 'KEGG_NATURAL_KILLER_CELL_MEDIATED_CYTOTOXICITY',\n",
    " 'KEGG_JAK_STAT_SIGNALING_PATHWAY',\n",
    " 'KEGG_MAPK_SIGNALING_PATHWAY',\n",
    " 'KEGG_TOLL_LIKE_RECEPTOR_SIGNALING_PATHWAY',\n",
    " 'KEGG_T_CELL_RECEPTOR_SIGNALING_PATHWAY',\n",
    " 'KEGG_NOTCH_SIGNALING_PATHWAY',\n",
    " 'GOBP_RESPONSE_TO_ENDOPLASMIC_RETICULUM_STRESS',\n",
    " 'KEGG_FOCAL_ADHESION',\n",
    " 'KEGG_MTOR_SIGNALING_PATHWAY',\n",
    " 'KEGG_VEGF_SIGNALING_PATHWAY',\n",
    " 'KEGG_SPHINGOLIPID_METABOLISM',\n",
    " 'KEGG_FC_GAMMA_R_MEDIATED_PHAGOCYTOSIS',\n",
    " 'KEGG_CALCIUM_SIGNALING_PATHWAY',\n",
    " 'KEGG_CELL_ADHESION_MOLECULES_CAMS',\n",
    " 'KEGG_LEUKOCYTE_TRANSENDOTHELIAL_MIGRATION',\n",
    " 'GOBP_RETINOIC_ACID_RECEPTOR_SIGNALING_PATHWAY',\n",
    " 'KEGG_ADIPOCYTOKINE_SIGNALING_PATHWAY',\n",
    " 'KEGG_CYTOSOLIC_DNA_SENSING_PATHWAY',\n",
    " 'KEGG_RIG_I_LIKE_RECEPTOR_SIGNALING_PATHWAY',\n",
    " 'KEGG_B_CELL_RECEPTOR_SIGNALING_PATHWAY',\n",
    " 'KEGG_HEMATOPOIETIC_CELL_LINEAGE',\n",
    " 'GOBP_TRANSLATIONAL_INITIATION',\n",
    " 'KEGG_FC_EPSILON_RI_SIGNALING_PATHWAY',\n",
    " 'KEGG_ETHER_LIPID_METABOLISM',\n",
    " 'KEGG_GLYCEROLIPID_METABOLISM',\n",
    " 'KEGG_GLYCEROPHOSPHOLIPID_METABOLISM',\n",
    " 'KEGG_ECM_RECEPTOR_INTERACTION',\n",
    " 'KEGG_CELL_CYCLE',\n",
    " 'KEGG_WNT_SIGNALING_PATHWAY',\n",
    " 'KEGG_ERBB_SIGNALING_PATHWAY',\n",
    " 'KEGG_GNRH_SIGNALING_PATHWAY',\n",
    " 'KEGG_P53_SIGNALING_PATHWAY',\n",
    " 'KEGG_O_GLYCAN_BIOSYNTHESIS',\n",
    " 'KEGG_INSULIN_SIGNALING_PATHWAY',\n",
    " 'KEGG_UBIQUITIN_MEDIATED_PROTEOLYSIS',\n",
    " 'KEGG_PPAR_SIGNALING_PATHWAY',\n",
    " 'KEGG_FRUCTOSE_AND_MANNOSE_METABOLISM',\n",
    " 'KEGG_ARGININE_AND_PROLINE_METABOLISM',\n",
    " 'KEGG_FOLATE_BIOSYNTHESIS',\n",
    " 'GOBP_RESPIRATORY_ELECTRON_TRANSPORT_CHAIN',\n",
    " 'KEGG_PEROXISOME',\n",
    " 'KEGG_N_GLYCAN_BIOSYNTHESIS',\n",
    " 'KEGG_GALACTOSE_METABOLISM',\n",
    " 'KEGG_GLYCOSAMINOGLYCAN_BIOSYNTHESIS_KERATAN_SULFATE',\n",
    " 'GOBP_NAD_METABOLIC_PROCESS',\n",
    " 'GOBP_NAD_BIOSYNTHESIS_VIA_NICOTINAMIDE_RIBOSIDE_SALVAGE_PATHWAY',\n",
    " 'KEGG_NICOTINATE_AND_NICOTINAMIDE_METABOLISM',\n",
    " 'KEGG_ANTIGEN_PROCESSING_AND_PRESENTATION',\n",
    " 'KEGG_ENDOCYTOSIS',\n",
    " 'KEGG_MELANOGENESIS',\n",
    " 'KEGG_ARACHIDONIC_ACID_METABOLISM',\n",
    " 'KEGG_NEUROACTIVE_LIGAND_RECEPTOR_INTERACTION',\n",
    " 'KEGG_ALDOSTERONE_REGULATED_SODIUM_REABSORPTION',\n",
    " 'KEGG_INTESTINAL_IMMUNE_NETWORK_FOR_IGA_PRODUCTION',\n",
    " 'KEGG_ADHERENS_JUNCTION',\n",
    " 'KEGG_PURINE_METABOLISM',\n",
    " 'KEGG_TRYPTOPHAN_METABOLISM',\n",
    " 'GOBP_FATTY_ACID_BETA_OXIDATION',\n",
    " 'KEGG_ALANINE_ASPARTATE_AND_GLUTAMATE_METABOLISM',\n",
    " 'KEGG_AMINO_SUGAR_AND_NUCLEOTIDE_SUGAR_METABOLISM',\n",
    " 'KEGG_NITROGEN_METABOLISM',\n",
    " 'KEGG_GLYCOLYSIS_GLUCONEOGENESIS',\n",
    " 'KEGG_STARCH_AND_SUCROSE_METABOLISM',\n",
    " 'KEGG_PENTOSE_PHOSPHATE_PATHWAY',\n",
    " 'KEGG_GLYCOSAMINOGLYCAN_BIOSYNTHESIS_HEPARAN_SULFATE',\n",
    " 'KEGG_RNA_DEGRADATION',\n",
    " 'KEGG_REGULATION_OF_ACTIN_CYTOSKELETON',\n",
    " 'KEGG_PORPHYRIN_AND_CHLOROPHYLL_METABOLISM',\n",
    " 'KEGG_GLYCOSAMINOGLYCAN_BIOSYNTHESIS_CHONDROITIN_SULFATE',\n",
    " 'KEGG_PROPANOATE_METABOLISM',\n",
    " 'KEGG_CYSTEINE_AND_METHIONINE_METABOLISM',\n",
    " 'KEGG_PYRUVATE_METABOLISM',\n",
    " 'KEGG_PROTEIN_EXPORT',\n",
    " 'GOBP_RIBOSOME_BIOGENESIS',\n",
    " 'KEGG_LYSOSOME',\n",
    " 'KEGG_GLYCOSAMINOGLYCAN_DEGRADATION',\n",
    " 'KEGG_GLYOXYLATE_AND_DICARBOXYLATE_METABOLISM',\n",
    " 'KEGG_TIGHT_JUNCTION',\n",
    " 'KEGG_GLYCOSPHINGOLIPID_BIOSYNTHESIS_GANGLIO_SERIES',\n",
    " 'KEGG_GLYCOSPHINGOLIPID_BIOSYNTHESIS_GLOBO_SERIES',\n",
    " 'KEGG_OTHER_GLYCAN_DEGRADATION',\n",
    " 'KEGG_STEROID_HORMONE_BIOSYNTHESIS',\n",
    " 'KEGG_SULFUR_METABOLISM',\n",
    " 'KEGG_CITRATE_CYCLE_TCA_CYCLE',\n",
    " 'KEGG_PHENYLALANINE_METABOLISM',\n",
    " 'KEGG_TYROSINE_METABOLISM',\n",
    " 'KEGG_PENTOSE_AND_GLUCURONATE_INTERCONVERSIONS',\n",
    " 'KEGG_PHOSPHATIDYLINOSITOL_SIGNALING_SYSTEM',\n",
    " 'KEGG_INOSITOL_PHOSPHATE_METABOLISM',\n",
    " 'KEGG_METABOLISM_OF_XENOBIOTICS_BY_CYTOCHROME_P450',\n",
    " 'KEGG_DRUG_METABOLISM_CYTOCHROME_P450',\n",
    " 'KEGG_GLUTATHIONE_METABOLISM',\n",
    " 'KEGG_STEROID_BIOSYNTHESIS',\n",
    " 'KEGG_RETINOL_METABOLISM',\n",
    " 'KEGG_FATTY_ACID_METABOLISM',\n",
    " 'KEGG_TERPENOID_BACKBONE_BIOSYNTHESIS',\n",
    " 'GOBP_TRANSLATIONAL_ELONGATION',\n",
    " 'KEGG_BIOSYNTHESIS_OF_UNSATURATED_FATTY_ACIDS',\n",
    " 'KEGG_GLYCINE_SERINE_AND_THREONINE_METABOLISM',\n",
    " 'KEGG_SNARE_INTERACTIONS_IN_VESICULAR_TRANSPORT',\n",
    " 'KEGG_BUTANOATE_METABOLISM',\n",
    " 'KEGG_VALINE_LEUCINE_AND_ISOLEUCINE_DEGRADATION',\n",
    " 'KEGG_SELENOAMINO_ACID_METABOLISM',\n",
    " 'KEGG_ALPHA_LINOLENIC_ACID_METABOLISM',\n",
    " 'KEGG_LYSINE_DEGRADATION',\n",
    " 'KEGG_DRUG_METABOLISM_OTHER_ENZYMES',\n",
    " 'KEGG_REGULATION_OF_AUTOPHAGY',\n",
    " 'GOBP_MITOCHONDRIAL_TRANSLATION',\n",
    " 'KEGG_MISMATCH_REPAIR',\n",
    " 'KEGG_NUCLEOTIDE_EXCISION_REPAIR',\n",
    " 'KEGG_DNA_REPLICATION',\n",
    " 'KEGG_HOMOLOGOUS_RECOMBINATION',\n",
    " 'KEGG_LINOLEIC_ACID_METABOLISM',\n",
    " 'KEGG_NON_HOMOLOGOUS_END_JOINING',\n",
    " 'KEGG_OXIDATIVE_PHOSPHORYLATION',\n",
    " 'KEGG_BASAL_TRANSCRIPTION_FACTORS',\n",
    " 'KEGG_PYRIMIDINE_METABOLISM',\n",
    " 'KEGG_BASE_EXCISION_REPAIR',\n",
    " 'KEGG_RNA_POLYMERASE',\n",
    " 'KEGG_ONE_CARBON_POOL_BY_FOLATE',\n",
    " 'KEGG_SPLICEOSOME',\n",
    " 'GOCC_RIBOSOMAL_SUBUNIT',\n",
    " 'KEGG_PANTOTHENATE_AND_COA_BIOSYNTHESIS',\n",
    " 'KEGG_BETA_ALANINE_METABOLISM',\n",
    " 'KEGG_LIMONENE_AND_PINENE_DEGRADATION',\n",
    " 'KEGG_ASCORBATE_AND_ALDARATE_METABOLISM',\n",
    " 'KEGG_HISTIDINE_METABOLISM',\n",
    " 'GOBP_NADH_METABOLIC_PROCESS',\n",
    " 'KEGG_PRIMARY_BILE_ACID_BIOSYNTHESIS',\n",
    " 'GOBP_FATTY_ACID_ELONGATION',\n",
    " 'GOCC_CYTOSOLIC_RIBOSOME',\n",
    " 'KEGG_PROTEASOME',\n",
    " 'KEGG_AMINOACYL_TRNA_BIOSYNTHESIS',\n",
    " 'KEGG_VALINE_LEUCINE_AND_ISOLEUCINE_BIOSYNTHESIS',\n",
    " 'KEGG_RIBOSOME',\n",
    " 'KEGG_RIBOFLAVIN_METABOLISM',\n",
    " 'KEGG_TAURINE_AND_HYPOTAURINE_METABOLISM',\n",
    " 'KEGG_GLYCOSYLPHOSPHATIDYLINOSITOL_GPI_ANCHOR_BIOSYNTHESIS',\n",
    " 'FATTY ACID SYNTHESIS',\n",
    " 'GLUTAMINE CATABOLISM',\n",
    " 'POLYAMINE SYNTHESIS',\n",
    " 'MEVALONATE PATHWAY',\n",
    " 'PI3K-AKT-MTOR-MYC SIGNALING',\n",
    " 'METHIONINE CYCLE',\n",
    " 'HIF PATHWAY',\n",
    " 'ARGININE-PROLINE METABOLISM',\n",
    " 'apoptosis',\n",
    " 'quiescence', 'ANABOLISM', 'Type I and II IFN signaling genes', 'Cytotoxic signature genes']"
   ]
  },
  {
   "cell_type": "code",
   "execution_count": null,
   "id": "83b95aae",
   "metadata": {},
   "outputs": [],
   "source": [
    "#per interesting pathway, generate a column with +/- cells as only categories can be used\n",
    "for i in pw:\n",
    "    values = mdata['gex'].obsm['selected_pathways_mlm_estimate'][i]\n",
    "    mdata['gex'].obs[i] = np.where(values > values.mean(), i, np.where(values < values.mean(), 'no', 'no'))"
   ]
  },
  {
   "cell_type": "code",
   "execution_count": null,
   "id": "9a3ae9ba",
   "metadata": {},
   "outputs": [],
   "source": [
    "mdata['gex'].obsm['selected_pathways_mlm_estimate']['oxgly'] = mdata['gex'].obsm['selected_pathways_mlm_estimate']['KEGG_OXIDATIVE_PHOSPHORYLATION'] + mdata['gex'].obsm['selected_pathways_mlm_estimate']['KEGG_GLYCOLYSIS_GLUCONEOGENESIS']\n",
    "mdata['gex'].obsm['selected_pathways_mlm_estimate']['transl'] = mdata['gex'].obsm['selected_pathways_mlm_estimate']['GOBP_TRANSLATIONAL_INITIATION'] + mdata['gex'].obsm['selected_pathways_mlm_estimate']['GOBP_TRANSLATIONAL_ELONGATION'] + mdata['gex'].obsm['selected_pathways_mlm_estimate']['GOCC_RIBOSOMAL_SUBUNIT']"
   ]
  },
  {
   "cell_type": "code",
   "execution_count": null,
   "id": "6894d4d9",
   "metadata": {},
   "outputs": [],
   "source": [
    "for i in ['oxgly', 'transl']:\n",
    "    values = mdata['gex'].obsm['selected_pathways_mlm_estimate'][i]\n",
    "    mdata['gex'].obs[i] = np.where(values > values.mean(), i, np.where(values < values.mean(), 'no', 'no'))"
   ]
  },
  {
   "cell_type": "code",
   "execution_count": null,
   "id": "345007dd",
   "metadata": {
    "scrolled": true
   },
   "outputs": [],
   "source": [
    "for i in pw:\n",
    "    sc.tl.embedding_density(mdata['gex'], basis='umap', groupby=i)\n",
    "    sc.pl.embedding_density(mdata['gex'], basis='umap', key='umap_density_'+str(i), show=False, color_map=cust_katha, group=i)\n",
    "    plt.tight_layout()\n",
    "    plt.savefig(f'/Users/mimi/Sina/5_Visualisations/Figure2/{i}_density_plot.pdf', dpi=300)"
   ]
  },
  {
   "cell_type": "code",
   "execution_count": null,
   "id": "b4f34a7d",
   "metadata": {},
   "outputs": [],
   "source": [
    "for i in ['oxgly', 'transl']:\n",
    "    sc.tl.embedding_density(mdata['gex'], basis='umap', groupby=i)\n",
    "    sc.pl.embedding_density(mdata['gex'], basis='umap', key='umap_density_'+str(i), show=False, color_map=cust_katha, group=i)\n",
    "    plt.tight_layout()\n",
    "    plt.savefig(f'/Users/mimi/Sina/5_Visualisations/Figure2/{i}_density_plot.pdf', dpi=300)"
   ]
  },
  {
   "cell_type": "markdown",
   "id": "5b724203-b0fe-4f47-b4bc-9b64322ddf5e",
   "metadata": {},
   "source": [
    "## Transcription Factor Networks"
   ]
  },
  {
   "cell_type": "code",
   "execution_count": null,
   "id": "99105b79-1bbb-4aeb-8a79-d4558f2d702c",
   "metadata": {},
   "outputs": [],
   "source": [
    "net = dc.get_collectri(organism='human', split_complexes=False)"
   ]
  },
  {
   "cell_type": "code",
   "execution_count": null,
   "id": "a4120853-71d0-4325-83ee-02453347906e",
   "metadata": {},
   "outputs": [],
   "source": [
    "dc.run_ulm(\n",
    "    mat=mdata['gex'],\n",
    "    net=net,\n",
    "    source='source',\n",
    "    target='target',\n",
    "    weight='weight',\n",
    "    use_raw=False,\n",
    "    verbose=True\n",
    ")"
   ]
  },
  {
   "cell_type": "code",
   "execution_count": null,
   "id": "03835179-844c-4914-8d86-45cd4747505c",
   "metadata": {},
   "outputs": [],
   "source": []
  },
  {
   "cell_type": "code",
   "execution_count": null,
   "id": "59b0536f-6bab-4d34-a423-25767791b9d8",
   "metadata": {},
   "outputs": [],
   "source": [
    "mdata['gex'].obsm['collectri_ulm_estimate'] = mdata['gex'].obsm['ulm_estimate'].copy()\n",
    "mdata['gex'].obsm['collectri_ulm_pvals'] = mdata['gex'].obsm['ulm_pvals'].copy()"
   ]
  },
  {
   "cell_type": "code",
   "execution_count": null,
   "id": "0de0e448-83a7-4938-8433-a11d15fea0b7",
   "metadata": {},
   "outputs": [],
   "source": []
  },
  {
   "cell_type": "code",
   "execution_count": null,
   "id": "faff67c2-4e0c-48f1-bd74-01a1e7b6e6cd",
   "metadata": {},
   "outputs": [],
   "source": []
  },
  {
   "cell_type": "code",
   "execution_count": null,
   "id": "d89e2028-d9fa-42c8-8f6b-2ba49c26e86b",
   "metadata": {},
   "outputs": [],
   "source": [
    "acts = dc.get_acts(mdata['gex'], obsm_key='ulm_estimate')"
   ]
  },
  {
   "cell_type": "code",
   "execution_count": null,
   "id": "371b87d0-6526-4848-b7ba-0fc016eb55ca",
   "metadata": {},
   "outputs": [],
   "source": [
    "TFs = ['EOMES', 'MYC', 'TCF7', 'FOXO1', 'LEF1', 'KLF2' ]\n",
    "\n",
    "for t in TFs:\n",
    "    sc.pl.umap(acts, color=[t], cmap=cust_katha, show=False, size=30)\n",
    "    plt.tight_layout()\n",
    "    plt.savefig(f'/Users/mimi/Sina/5_Visualisations/Figure2/{t}_TF_network_UMAP.pdf', dpi=300)\n",
    "    plt.show()"
   ]
  },
  {
   "cell_type": "code",
   "execution_count": null,
   "id": "1cca291f-a130-42f6-99c3-dcb90d5abcbd",
   "metadata": {},
   "outputs": [],
   "source": []
  }
 ],
 "metadata": {
  "kernelspec": {
   "display_name": "metabolism",
   "language": "python",
   "name": "metabolism"
  },
  "language_info": {
   "codemirror_mode": {
    "name": "ipython",
    "version": 3
   },
   "file_extension": ".py",
   "mimetype": "text/x-python",
   "name": "python",
   "nbconvert_exporter": "python",
   "pygments_lexer": "ipython3",
   "version": "3.12.7"
  }
 },
 "nbformat": 4,
 "nbformat_minor": 5
}
