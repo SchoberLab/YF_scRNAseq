{
 "cells": [
  {
   "cell_type": "markdown",
   "id": "613a38ce",
   "metadata": {},
   "source": [
    "# Analysis Part II - Merging the data of all experiments at the same time"
   ]
  },
  {
   "cell_type": "code",
   "execution_count": null,
   "id": "c537fca8",
   "metadata": {},
   "outputs": [],
   "source": [
    "%load_ext autoreload\n",
    "%matplotlib inline\n",
    "\n",
    "import warnings\n",
    "warnings.simplefilter(action='ignore', category=FutureWarning)\n",
    "warnings.filterwarnings(action='ignore')\n",
    "import os\n",
    "import scanpy as sc\n",
    "import scirpy as ir\n",
    "import anndata as ann\n",
    "import numpy as np\n",
    "import pandas as pd\n",
    "import seaborn as sb\n",
    "import matplotlib.pyplot as plt\n",
    "from matplotlib import rcParams\n",
    "from mudata import MuData\n",
    "import mudata\n",
    "\n",
    "import tarfile\n",
    "import warnings\n",
    "from glob import glob\n",
    "\n",
    "import anndata\n",
    "import matplotlib.pyplot as plt\n",
    "import muon as mu\n",
    "import pandas as pd\n",
    "import scanpy as sc\n",
    "import scirpy as ir\n",
    "\n",
    "%autoreload 2\n",
    "import sys\n",
    "sys.path.append('..')\n",
    "import utility.annotation as utils_annotation\n",
    "import utility.representation as utils_representation\n",
    "import utility.visualisation as utils_vis"
   ]
  },
  {
   "cell_type": "code",
   "execution_count": null,
   "id": "6be9a45d",
   "metadata": {},
   "outputs": [],
   "source": [
    "sc.settings.set_figure_params(dpi=150)\n",
    "sc.settings.verbosity = 3\n",
    "sc.set_figure_params(vector_friendly=True, color_map='viridis', transparent=True)\n",
    "sb.set_style('whitegrid')\n",
    "\n",
    "colormap = 'flare'"
   ]
  },
  {
   "cell_type": "markdown",
   "id": "ce7ad23e",
   "metadata": {},
   "source": [
    "## Get input data from the different samples"
   ]
  },
  {
   "cell_type": "code",
   "execution_count": null,
   "id": "d279461a",
   "metadata": {},
   "outputs": [],
   "source": [
    "adatas = []\n",
    "\n",
    "for i in range(1, 10):\n",
    "    adata_tmp = mu.read(f'/media/agschober/HDD12/3_scRNA-Seq_Sina/1_Preprocessing/data{i}.h5mu')\n",
    "    adatas.append(adata_tmp)"
   ]
  },
  {
   "cell_type": "code",
   "execution_count": null,
   "id": "15213b87",
   "metadata": {},
   "outputs": [],
   "source": [
    "mdata = []\n",
    "airrdata = []\n",
    "\n",
    "#concatenate GEX\n",
    "mdata = adatas[0][\"gex\"].concatenate(adatas[1][\"gex\"], adatas[2][\"gex\"], adatas[3][\"gex\"],\n",
    "                                    adatas[4][\"gex\"], adatas[5][\"gex\"], adatas[6][\"gex\"], adatas[7][\"gex\"],\n",
    "                                    adatas[8][\"gex\"])\n",
    "\n",
    "#concatenate AIRR\n",
    "airrdata = adatas[0][\"airr\"].concatenate(adatas[1][\"airr\"], adatas[2][\"airr\"], adatas[3][\"airr\"],\n",
    "                                        adatas[4][\"airr\"], adatas[5][\"airr\"], adatas[6][\"airr\"],\n",
    "                                        adatas[7][\"airr\"], adatas[8][\"airr\"])\n",
    "\n",
    "#fuse AIRR and GEX\n",
    "mdata = mu.MuData({'gex': mdata, 'airr': airrdata})"
   ]
  },
  {
   "cell_type": "code",
   "execution_count": null,
   "id": "1f151dc6",
   "metadata": {},
   "outputs": [],
   "source": [
    "# Look at occurence of samples\n",
    "pd.DataFrame(mdata[\"gex\"].obs['pool'].value_counts())"
   ]
  },
  {
   "cell_type": "code",
   "execution_count": null,
   "id": "8624fdc6",
   "metadata": {},
   "outputs": [],
   "source": [
    "samples = list(pd.DataFrame(mdata[\"gex\"].obs['pool'].value_counts()).reset_index()['pool'])\n",
    "counts = list(pd.DataFrame(mdata[\"gex\"].obs['pool'].value_counts()).reset_index()['count'])\n",
    "\n",
    "plt.figure(figsize=(16,6))\n",
    "plt.bar(samples, counts, label=samples)\n",
    "plt.ylabel('cells')\n",
    "plt.xlabel('sample')\n",
    "plt.title('Cells per Sample')\n",
    "plt.tick_params(axis='x', labelrotation=90)\n",
    "plt.show()"
   ]
  },
  {
   "cell_type": "markdown",
   "id": "5421fc6e",
   "metadata": {},
   "source": [
    "## Pool level annotation"
   ]
  },
  {
   "cell_type": "code",
   "execution_count": null,
   "id": "f1a9d88c",
   "metadata": {},
   "outputs": [],
   "source": [
    "# Create list of epitopes\n",
    "epitopes = ['NS4B214', 'NS2B117', 'NS3293', 'NS3286', 'NS324', 'NS5672',\n",
    "               'NS2A97', 'NS4B165', 'COV', 'HHV', 'FLU', 'EBV1', 'EBV2']\n",
    "mdata[\"gex\"].uns['epitopes'] = epitopes\n",
    "mdata[\"gex\"].obsm['epitopes'] = mdata[\"gex\"].obs[epitopes]"
   ]
  },
  {
   "cell_type": "code",
   "execution_count": null,
   "id": "050d7f01",
   "metadata": {},
   "outputs": [],
   "source": [
    "pool_2_epitope = {\n",
    "    'sample1sample1': ['NS4B214', 'NS2B117', 'NS3293', 'NS3286', 'NS324', 'NS5672', 'NS2A97', 'NS4B165'],\n",
    "    'sample1sample2': ['NS4B214', 'NS2B117', 'NS3293', 'NS3286', 'NS324', 'NS5672', 'NS2A97', 'NS4B165'], \n",
    "    'sample1sample3': ['NS4B214', 'NS2B117', 'NS3293', 'NS3286', 'NS324', 'NS5672', 'NS2A97', 'NS4B165'], \n",
    "    'sample1sample4': ['NS4B214', 'NS2B117', 'NS3293', 'NS3286', 'NS324', 'NS5672', 'NS2A97', 'NS4B165'], \n",
    "    'sample1sample5': ['NS4B214', 'NS2B117', 'NS3293', 'NS3286', 'NS324', 'NS5672', 'NS2A97', 'NS4B165'], \n",
    "    'sample1sample6': ['NS4B214', 'NS2B117', 'NS3293', 'NS3286', 'NS324', 'NS5672', 'NS2A97', 'NS4B165'], \n",
    "    'sample1sample7': ['NS4B214', 'NS2B117', 'NS3293', 'NS3286', 'NS324', 'NS5672', 'NS2A97', 'NS4B165'], \n",
    "    'sample1sample8': ['NS4B214', 'NS2B117', 'NS3293', 'NS3286', 'NS324', 'NS5672', 'NS2A97', 'NS4B165'], \n",
    "    'sample2sample1': ['NS4B214', 'NS2B117', 'NS3293', 'NS3286', 'NS324', 'NS5672', 'NS2A97', 'NS4B165'],\n",
    "    'sample2sample2': ['NS4B214', 'NS2B117', 'NS3293', 'NS3286', 'NS324', 'NS5672', 'NS2A97', 'NS4B165'],\n",
    "    'sample2sample3': ['NS4B214', 'NS2B117', 'NS3293', 'NS3286', 'NS324', 'NS5672', 'NS2A97', 'NS4B165'],\n",
    "    'sample2sample4': ['NS4B214', 'NS2B117', 'NS3293', 'NS3286', 'NS324', 'NS5672', 'NS2A97', 'NS4B165'],\n",
    "    'sample2sample5': ['NS4B214', 'NS2B117', 'NS3293', 'NS3286', 'NS324', 'NS5672', 'NS2A97', 'NS4B165'],\n",
    "    'sample2sample6': ['NS4B214', 'NS2B117', 'NS3293', 'NS3286', 'NS324', 'NS5672', 'NS2A97', 'NS4B165'],\n",
    "    'sample2sample7': ['NS4B214', 'NS2B117', 'NS3293', 'NS3286', 'NS324', 'NS5672', 'NS2A97', 'NS4B165'],\n",
    "    'sample2sample8': ['NS4B214', 'NS2B117', 'NS3293', 'NS3286', 'NS324', 'NS5672', 'NS2A97', 'NS4B165'],\n",
    "    'sample3sample1': ['NS4B214', 'NS2B117', 'NS3293', 'NS3286', 'NS324', 'NS5672', 'NS2A97', 'NS4B165', 'COV', 'HHV', 'FLU', 'EBV1', 'EBV2'],\n",
    "    'sample3sample2': ['NS4B214', 'NS2B117', 'NS3293', 'NS3286', 'NS324', 'NS5672', 'NS2A97', 'NS4B165'],\n",
    "    'sample3sample3': ['NS4B214', 'NS2B117', 'NS3293', 'NS3286', 'NS324', 'NS5672', 'NS2A97', 'NS4B165', 'COV', 'HHV', 'FLU', 'EBV1', 'EBV2'],\n",
    "    'sample3sample4': ['NS4B214', 'NS2B117', 'NS3293', 'NS3286', 'NS324', 'NS5672', 'NS2A97', 'NS4B165'],\n",
    "    'sample3sample5': ['NS4B214', 'NS2B117', 'NS3293', 'NS3286', 'NS324', 'NS5672', 'NS2A97', 'NS4B165'],\n",
    "    'sample3sample6': ['NS4B214', 'NS2B117', 'NS3293', 'NS3286', 'NS324', 'NS5672', 'NS2A97', 'NS4B165', 'COV', 'HHV', 'FLU', 'EBV1', 'EBV2'],\n",
    "    'sample3sample7': ['NS4B214', 'NS2B117', 'NS3293', 'NS3286', 'NS324', 'NS5672', 'NS2A97', 'NS4B165', 'COV', 'HHV', 'FLU', 'EBV1', 'EBV2'],\n",
    "    'sample3sample8': ['NS4B214', 'NS2B117', 'NS3293', 'NS3286', 'NS324', 'NS5672', 'NS2A97', 'NS4B165'],\n",
    "    'sample4sample1': ['NS4B214', 'NS2B117', 'NS3293', 'NS3286', 'NS324', 'NS5672', 'NS2A97', 'NS4B165', 'COV', 'HHV', 'FLU', 'EBV1', 'EBV2'],\n",
    "    'sample4sample2': ['NS4B214', 'NS2B117', 'NS3293', 'NS3286', 'NS324', 'NS5672', 'NS2A97', 'NS4B165'],\n",
    "    'sample4sample3': ['NS4B214', 'NS2B117', 'NS3293', 'NS3286', 'NS324', 'NS5672', 'NS2A97', 'NS4B165', 'COV', 'HHV', 'FLU', 'EBV1', 'EBV2'],\n",
    "    'sample4sample4': ['NS4B214', 'NS2B117', 'NS3293', 'NS3286', 'NS324', 'NS5672', 'NS2A97', 'NS4B165'],\n",
    "    'sample4sample5': ['NS4B214', 'NS2B117', 'NS3293', 'NS3286', 'NS324', 'NS5672', 'NS2A97', 'NS4B165'],\n",
    "    'sample4sample6': ['NS4B214', 'NS2B117', 'NS3293', 'NS3286', 'NS324', 'NS5672', 'NS2A97', 'NS4B165'],\n",
    "    'sample4sample7': ['NS4B214', 'NS2B117', 'NS3293', 'NS3286', 'NS324', 'NS5672', 'NS2A97', 'NS4B165'],\n",
    "    'sample4sample8': ['NS4B214', 'NS2B117', 'NS3293', 'NS3286', 'NS324', 'NS5672', 'NS2A97', 'NS4B165'],\n",
    "    'sample5sample5sample1': ['NS4B214'],\n",
    "    'sample5sample5sample2': ['NS4B214'], \n",
    "    'sample5sample5sample3': ['NS4B214'], \n",
    "    'sample5sample5sample4': ['NS4B214'], \n",
    "    'sample5sample5sample5': ['NS4B214'], \n",
    "    'sample5sample5sample6': ['NS4B214'], \n",
    "    'sample5sample5sample7': ['NS4B214'], \n",
    "    'sample5sample5sample8': ['NS4B214'], \n",
    "    'sample6sample1': ['NS4B214'],\n",
    "    'sample6sample2': ['NS4B214'],\n",
    "    'sample6sample3': ['NS4B214'],\n",
    "    'sample6sample4': ['NS4B214'],\n",
    "    'sample6sample5': ['NS4B214'],\n",
    "    'sample6sample6': ['NS4B214'],\n",
    "    'sample6sample7': ['NS4B214'],\n",
    "    'sample6sample8': ['NS4B214'],\n",
    "    'sample7sample1': ['NS4B214'],\n",
    "    'sample7sample2': ['NS4B214'],\n",
    "    'sample7sample3': ['NS4B214'],\n",
    "    'sample7sample4': ['NS4B214'],\n",
    "    'sample7sample5': ['NS4B214'],\n",
    "    'sample7sample6': ['NS4B214'],\n",
    "    'sample7sample7': ['NS4B214'],\n",
    "    'sample7sample8': ['NS4B214'],\n",
    "    'sample8sample1': ['NS4B214'],\n",
    "    'sample8sample2': ['NS4B214'],\n",
    "    'sample8sample3': ['NS4B214'],\n",
    "    'sample8sample4': ['NS4B214'],\n",
    "    'sample8sample5': ['NS4B214'],\n",
    "    'sample8sample6': ['NS4B214'],\n",
    "    'sample8sample7': ['NS4B214'],\n",
    "    'sample8sample8': ['NS4B214'],\n",
    "    'sample9sample1': ['NS4B214'],\n",
    "    'sample9sample2': ['NS4B214'], \n",
    "    'sample9sample3': ['NS4B214'], \n",
    "    'sample9sample4': ['NS4B214'], \n",
    "    'sample9sample5': ['NS4B214'], \n",
    "    'sample9sample6': ['NS4B214'], \n",
    "    'sample9sample7': ['NS4B214'], \n",
    "    'sample9sample8': ['NS4B214']}"
   ]
  },
  {
   "cell_type": "code",
   "execution_count": null,
   "id": "b3aaba56",
   "metadata": {},
   "outputs": [],
   "source": [
    "pool_annotation = {\n",
    "    'sample1sample1': ['D1', 'd7'],\n",
    "    'sample1sample2': ['D1', 'd11'], \n",
    "    'sample1sample3': ['D1', 'd14'], \n",
    "    'sample1sample4': ['D1', 'd21'], \n",
    "    'sample1sample5': ['D1', 'd28'], \n",
    "    'sample1sample6': ['D2', 'd7'], \n",
    "    'sample1sample7': ['D2', 'd11'], \n",
    "    'sample1sample8': ['D2', 'd14'], \n",
    "    'sample2sample1': ['D5', 'd7'],\n",
    "    'sample2sample2': ['D5', 'd11'],\n",
    "    'sample2sample3': ['D5', 'd14'],\n",
    "    'sample2sample4': ['D5', 'd21'],\n",
    "    'sample2sample5': ['D5', 'd28'],\n",
    "    'sample2sample6': ['B46', 'd49'],\n",
    "    'sample2sample7': ['B46', 'd21'],\n",
    "    'sample2sample8': ['B46', 'd28'],\n",
    "    'sample3sample1': ['C12', 'dx'],\n",
    "    'sample3sample2': ['C5', 'dx'],\n",
    "    'sample3sample3': ['B11', 'd14'],\n",
    "    'sample3sample4': ['B11', 'd365'],\n",
    "    'sample3sample5': ['B19', 'd14'],\n",
    "    'sample3sample6': ['B19', 'd365'],\n",
    "    'sample3sample7': ['B34', 'd14'],\n",
    "    'sample3sample8': ['B34', 'd365'],\n",
    "    'sample4sample1': ['B15', 'd14'],\n",
    "    'sample4sample2': ['B15', 'd365'],\n",
    "    'sample4sample3': ['B20', 'd14'],\n",
    "    'sample4sample4': ['B20', 'd365'],\n",
    "    'sample4sample5': ['B7', 'd14'],\n",
    "    'sample4sample6': ['B7', 'd365'],\n",
    "    'sample4sample7': ['B46', 'd90'],\n",
    "    'sample4sample8': ['C11', 'dx'],\n",
    "    'sample5sample5sample1': ['D2', 'd21'],\n",
    "    'sample5sample5sample2': ['D2', 'd28'], \n",
    "    'sample5sample5sample3': ['D2', 'd49'], \n",
    "    'sample5sample5sample4': ['D2', 'd90'], \n",
    "    'sample5sample5sample5': ['B18', 'd14'], \n",
    "    'sample5sample5sample6': ['B18', 'd365'], \n",
    "    'sample5sample5sample7': ['B13', 'd14'], \n",
    "    'sample5sample5sample8': ['B13', 'd365'], \n",
    "    'sample6sample1': ['D5', 'd7'],\n",
    "    'sample6sample2': ['D5', 'd11'],\n",
    "    'sample6sample3': ['D5', 'd14'],\n",
    "    'sample6sample4': ['D5', 'd21'],\n",
    "    'sample6sample5': ['D5', 'd28'],\n",
    "    'sample6sample6': ['D5', 'd49'],\n",
    "    'sample6sample7': ['D5', 'd90'],\n",
    "    'sample6sample8': ['B42', 'd11'],\n",
    "    'sample7sample1': ['D1', 'd14'],\n",
    "    'sample7sample2': ['D1', 'd49'],\n",
    "    'sample7sample3': ['D1', 'd90'],\n",
    "    'sample7sample4': ['B21', 'd14'],\n",
    "    'sample7sample5': ['B21', 'd365'],\n",
    "    'sample7sample6': ['B7', 'd14'],\n",
    "    'sample7sample7': ['B7', 'd365'],\n",
    "    'sample7sample8': ['B35', 'd11'],\n",
    "    'sample8sample1': ['B19', 'd14'],\n",
    "    'sample8sample2': ['B19', 'd365'],\n",
    "    'sample8sample3': ['B40', 'd14'],\n",
    "    'sample8sample4': ['B40', 'd365'],\n",
    "    'sample8sample5': ['B46', 'd14'],\n",
    "    'sample8sample6': ['B46', 'd21'],\n",
    "    'sample8sample7': ['B27', 'd21'],\n",
    "    'sample8sample8': ['B41', 'd90'],\n",
    "    'sample9sample1': ['C5', 'dx'],\n",
    "    'sample9sample2': ['C7', 'dx'], \n",
    "    'sample9sample3': ['C11', 'dx'], \n",
    "    'sample9sample4': ['C12', 'dx'], \n",
    "    'sample9sample5': ['C15', 'dx'], \n",
    "    'sample9sample6': ['A21', 'd0'], \n",
    "    'sample9sample7': ['PH', 'd0'], \n",
    "    'sample9sample8': ['A7', 'd0']}\n",
    "pool_annotation = pd.DataFrame(pool_annotation, index=['donor', 'time']).transpose()\n",
    "pool_annotation"
   ]
  },
  {
   "cell_type": "code",
   "execution_count": null,
   "id": "83aa96a4",
   "metadata": {},
   "outputs": [],
   "source": [
    "for col in pool_annotation.columns:\n",
    "    mdata[\"gex\"].obs[col] = mdata[\"gex\"].obs['pool'].map(pool_annotation[col])"
   ]
  },
  {
   "cell_type": "code",
   "execution_count": null,
   "id": "667a5a2a",
   "metadata": {},
   "outputs": [],
   "source": [
    "samples = list(pd.DataFrame(mdata[\"gex\"].obs['donor'].value_counts()).reset_index()['donor'])\n",
    "counts = list(pd.DataFrame(mdata[\"gex\"].obs['donor'].value_counts()).reset_index()['count'])\n",
    "\n",
    "plt.figure(figsize=(16,6))\n",
    "plt.bar(samples, counts, label=samples)\n",
    "plt.ylabel('cells')\n",
    "plt.xlabel('donor')\n",
    "plt.title('Cells per Donor')\n",
    "plt.tick_params(axis='x', labelrotation=90)\n",
    "plt.show()"
   ]
  },
  {
   "cell_type": "markdown",
   "id": "db0b0cb9",
   "metadata": {},
   "source": [
    "## Cell Filtering based on Phenotypes"
   ]
  },
  {
   "cell_type": "markdown",
   "id": "713d786f",
   "metadata": {},
   "source": [
    "### Initial UMAP and leiden"
   ]
  },
  {
   "cell_type": "code",
   "execution_count": null,
   "id": "2b6e3347",
   "metadata": {},
   "outputs": [],
   "source": [
    "sc.pp.normalize_total(mdata.mod['gex'])\n",
    "sc.pp.log1p(mdata.mod['gex'])"
   ]
  },
  {
   "cell_type": "code",
   "execution_count": null,
   "id": "77114d56",
   "metadata": {},
   "outputs": [],
   "source": [
    "#need to correct for batch effect\n",
    "sc.pp.combat(mdata['gex'], key='sample')"
   ]
  },
  {
   "cell_type": "code",
   "execution_count": null,
   "id": "b7669756",
   "metadata": {},
   "outputs": [],
   "source": [
    "utils_representation.calculate_umap(mdata[\"gex\"], n_high_var=5000, remove_tcr_genes=True)"
   ]
  },
  {
   "cell_type": "code",
   "execution_count": null,
   "id": "c56572df",
   "metadata": {},
   "outputs": [],
   "source": [
    "utils_representation.calculate_leiden(mdata[\"gex\"], resolution=3.0, n_high_var=5000, remove_tcr_genes=True)"
   ]
  },
  {
   "cell_type": "code",
   "execution_count": null,
   "id": "178f3c82",
   "metadata": {},
   "outputs": [],
   "source": [
    "sc.pl.umap(mdata[\"gex\"], color='leiden')\n",
    "sc.pl.umap(mdata[\"gex\"], color=['donor', 'time'])\n",
    "sc.pl.umap(mdata[\"gex\"], color=['sample', 'pool'])"
   ]
  },
  {
   "cell_type": "code",
   "execution_count": null,
   "id": "feeefbe6",
   "metadata": {},
   "outputs": [],
   "source": [
    "utils_vis.separate_umaps_by_condition(mdata[\"gex\"], 'leiden', 7, 6, do_int_sort=True)"
   ]
  },
  {
   "cell_type": "code",
   "execution_count": null,
   "id": "2a067996",
   "metadata": {},
   "outputs": [],
   "source": [
    "utils_annotation.add_seumois_score(mdata[\"gex\"])"
   ]
  },
  {
   "cell_type": "code",
   "execution_count": null,
   "id": "8be8c75e",
   "metadata": {},
   "outputs": [],
   "source": [
    "utils_annotation.add_all_scores(mdata[\"gex\"])"
   ]
  },
  {
   "cell_type": "code",
   "execution_count": null,
   "id": "95b9da12",
   "metadata": {
    "scrolled": false
   },
   "outputs": [],
   "source": [
    "utils_vis.plot_marker_genes(mdata[\"gex\"])"
   ]
  },
  {
   "cell_type": "code",
   "execution_count": null,
   "id": "c34ea958",
   "metadata": {},
   "outputs": [],
   "source": [
    "sc.pl.umap(mdata[\"gex\"], color=['chain_pairing'])"
   ]
  },
  {
   "cell_type": "code",
   "execution_count": null,
   "id": "ecf045ea",
   "metadata": {},
   "outputs": [],
   "source": [
    "ir.pl.group_abundance(mdata[\"gex\"], groupby='leiden', target_col='chain_pairing', \n",
    "                      normalize=True, fig_kws={'figsize': (12, 5)})"
   ]
  },
  {
   "cell_type": "code",
   "execution_count": null,
   "id": "bea846b6",
   "metadata": {},
   "outputs": [],
   "source": [
    "ir.pl.group_abundance(mdata[\"gex\"], groupby='pool', target_col='chain_pairing', \n",
    "                      normalize=True, fig_kws={'figsize': (12, 5)})"
   ]
  },
  {
   "cell_type": "code",
   "execution_count": null,
   "id": "cc00d869",
   "metadata": {},
   "outputs": [],
   "source": [
    "print('Before Filtering Cluster: ', len(mdata))\n",
    "clusters_remove = ['33', '35']\n",
    "mdata = mdata[~mdata[\"gex\"].obs['leiden'].isin(clusters_remove)]\n",
    "print('After Filtering Cluster: ', len(mdata))"
   ]
  },
  {
   "cell_type": "markdown",
   "id": "2321d4dc",
   "metadata": {},
   "source": [
    "### Filter Cells without IR"
   ]
  },
  {
   "cell_type": "code",
   "execution_count": null,
   "id": "63d04899",
   "metadata": {},
   "outputs": [],
   "source": [
    "print(f'Amount of cells: {len(mdata)}')\n",
    "mdata = mdata[mdata[\"gex\"].obs['chain_pairing']!='no_IR'].copy()\n",
    "print(f'Amount of cells with IR: {len(mdata)}')"
   ]
  },
  {
   "cell_type": "markdown",
   "id": "b8a2fba9",
   "metadata": {},
   "source": [
    "## Clonotype definition over merged data"
   ]
  },
  {
   "cell_type": "code",
   "execution_count": null,
   "id": "2d3ab155",
   "metadata": {},
   "outputs": [],
   "source": [
    "ir.pp.index_chains(mdata)\n",
    "ir.tl.chain_qc(mdata)\n",
    "ir.pp.ir_dist(mdata, metric='identity', sequence='aa')\n",
    "ir.tl.define_clonotype_clusters(mdata, metric='identity', receptor_arms='all', dual_ir='any', sequence='aa', \n",
    "                                key_added='clone_id')"
   ]
  },
  {
   "cell_type": "code",
   "execution_count": null,
   "id": "b5bbfaf4",
   "metadata": {},
   "outputs": [],
   "source": [
    "mdata[\"airr\"].obs[\"IR_VJ_1_junction_aa\"] = ir.get.airr(mdata, \"junction_aa\", [\"VJ_1\"])\n",
    "mdata[\"airr\"].obs[\"IR_VJ_2_junction_aa\"] = ir.get.airr(mdata, \"junction_aa\", [\"VJ_2\"])\n",
    "mdata[\"airr\"].obs[\"IR_VDJ_1_junction_aa\"] = ir.get.airr(mdata, \"junction_aa\", [\"VDJ_1\"])\n",
    "mdata[\"airr\"].obs[\"IR_VDJ_2_junction_aa\"] = ir.get.airr(mdata, \"junction_aa\", [\"VDJ_2\"])\n",
    "\n",
    "mdata[\"airr\"].obs[\"IR_VJ_1_v_call\"] = ir.get.airr(mdata, \"v_call\", [\"VJ_1\"])\n",
    "mdata[\"airr\"].obs[\"IR_VJ_2_v_call\"] = ir.get.airr(mdata, \"v_call\", [\"VJ_2\"])\n",
    "mdata[\"airr\"].obs[\"IR_VDJ_1_v_call\"] = ir.get.airr(mdata, \"v_call\", [\"VDJ_1\"])\n",
    "mdata[\"airr\"].obs[\"IR_VDJ_2_v_call\"] = ir.get.airr(mdata, \"v_call\", [\"VDJ_2\"])\n",
    "\n",
    "mdata[\"airr\"].obs[\"IR_VJ_1_j_call\"] = ir.get.airr(mdata, \"j_call\", [\"VJ_1\"])\n",
    "mdata[\"airr\"].obs[\"IR_VJ_2_j_call\"] = ir.get.airr(mdata, \"j_call\", [\"VJ_2\"])\n",
    "mdata[\"airr\"].obs[\"IR_VDJ_1_j_call\"] = ir.get.airr(mdata, \"j_call\", [\"VDJ_1\"])\n",
    "mdata[\"airr\"].obs[\"IR_VDJ_2_j_call\"] = ir.get.airr(mdata, \"j_call\", [\"VDJ_2\"])\n",
    "\n",
    "mdata[\"airr\"].obs[\"IR_VDJ_1_d_call\"] = ir.get.airr(mdata, \"d_call\", [\"VDJ_1\"])\n",
    "mdata[\"airr\"].obs[\"IR_VDJ_2_d_call\"] = ir.get.airr(mdata, \"d_call\", [\"VDJ_2\"])"
   ]
  },
  {
   "cell_type": "code",
   "execution_count": null,
   "id": "1a26ef70",
   "metadata": {},
   "outputs": [],
   "source": [
    "mdata[\"airr\"].obs.loc[mdata[\"airr\"].obs['IR_VJ_1_junction_aa'].isna(), 'clone_id'] = np.nan\n",
    "mdata[\"airr\"].obs.loc[mdata[\"airr\"].obs['IR_VDJ_1_junction_aa'].isna(), 'clone_id'] = np.nan\n",
    "mdata[\"airr\"].obs['clone_id'] = mdata[\"airr\"].obs['clone_id'].astype(float)\n",
    "\n",
    "ir.tl.clonal_expansion(mdata[\"airr\"], target_col='clone_id', key_added='clone_size_clipped', clip_at=3)\n",
    "ir.tl.clonal_expansion(mdata[\"airr\"], target_col='clone_id', key_added='clone_size', clip_at=len(mdata))"
   ]
  },
  {
   "cell_type": "code",
   "execution_count": null,
   "id": "712f7269",
   "metadata": {},
   "outputs": [],
   "source": [
    "for i in range(29968):\n",
    "    n = '<= '+str(i)\n",
    "    mdata[\"airr\"].obs['clone_size'] = mdata[\"airr\"].obs['clone_size'].replace(n, i)\n",
    "mdata[\"airr\"].obs['clone_size'] = mdata[\"airr\"].obs['clone_size'].replace('> 29967', 29968)"
   ]
  },
  {
   "cell_type": "code",
   "execution_count": null,
   "id": "4712604e",
   "metadata": {},
   "outputs": [],
   "source": [
    "mdata[\"airr\"].obs['clone_size'] = (mdata[\"airr\"].obs['clone_size']).astype(float)\n",
    "mdata[\"gex\"].obs['clone_size_clipped'] = mdata[\"airr\"].obs['clone_size_clipped']\n",
    "mdata[\"gex\"].obs['clone_size'] = mdata[\"airr\"].obs['clone_size']"
   ]
  },
  {
   "cell_type": "code",
   "execution_count": null,
   "id": "59908354",
   "metadata": {},
   "outputs": [],
   "source": [
    "sc.pl.umap(mdata[\"gex\"], color=['clone_size_clipped', 'clone_size'])"
   ]
  },
  {
   "cell_type": "markdown",
   "id": "3bb4f622",
   "metadata": {},
   "source": [
    "## Extract Clonotype Information"
   ]
  },
  {
   "cell_type": "code",
   "execution_count": null,
   "id": "930834aa",
   "metadata": {},
   "outputs": [],
   "source": [
    "utils_annotation.extract_clonotype_information(mdata[\"airr\"], 'junction_aa', 'clonotype_sequence')\n",
    "utils_annotation.extract_clonotype_information(mdata[\"airr\"], 'v_call', 'v_genes')\n",
    "utils_annotation.extract_clonotype_information(mdata[\"airr\"], 'j_call', 'j_genes')"
   ]
  },
  {
   "cell_type": "markdown",
   "id": "8463e35c",
   "metadata": {},
   "source": [
    "## Assign MAIT"
   ]
  },
  {
   "cell_type": "code",
   "execution_count": null,
   "id": "56142f97",
   "metadata": {},
   "outputs": [],
   "source": [
    "def assign_mait(row, gene_combination=True, cdr3=True):\n",
    "    if gene_combination:\n",
    "        if 'TRAJ33' in str(row['j_genes']) and 'TRAV1-2' in str(row['v_genes']):\n",
    "            if 'TRBV20-1' in str(row['v_genes']) or 'TRBV6' in str(row['v_genes']):\n",
    "                return 'True'\n",
    "    if cdr3:\n",
    "        if 'CAVMDSSYKLIF' in str(row['clonotype_sequence']):\n",
    "            return 'True'\n",
    "    return 'False'"
   ]
  },
  {
   "cell_type": "code",
   "execution_count": null,
   "id": "2e73a42a",
   "metadata": {},
   "outputs": [],
   "source": [
    "mdata[\"gex\"].obs['has_mait'] = mdata[\"airr\"].obs.apply(assign_mait, axis=1)\n",
    "sc.pl.umap(mdata[\"gex\"], color='has_mait', groups='True')\n",
    "mdata[\"gex\"].obs['has_mait'].value_counts()"
   ]
  },
  {
   "cell_type": "markdown",
   "id": "726131ca",
   "metadata": {},
   "source": [
    "## New UMAP with final set of cells"
   ]
  },
  {
   "cell_type": "code",
   "execution_count": null,
   "id": "da9821d9",
   "metadata": {},
   "outputs": [],
   "source": [
    "utils_representation.calculate_umap(mdata[\"gex\"], n_high_var=5000, remove_tcr_genes=True)\n",
    "utils_representation.calculate_leiden(mdata[\"gex\"], resolution=1, n_high_var=5000, remove_tcr_genes=True)"
   ]
  },
  {
   "cell_type": "code",
   "execution_count": null,
   "id": "d52e6ad4",
   "metadata": {},
   "outputs": [],
   "source": [
    "sc.pl.umap(mdata[\"gex\"], color=['leiden', 'sample', 'donor', 'pool', 'time'], ncols=2, show=False)\n",
    "plt.tight_layout()\n",
    "plt.show()"
   ]
  },
  {
   "cell_type": "code",
   "execution_count": null,
   "id": "c3503dae",
   "metadata": {
    "scrolled": true
   },
   "outputs": [],
   "source": [
    "sb.set(rc={'figure.figsize':(5,5)})\n",
    "sb.set_style(\"whitegrid\")\n",
    "for time in (mdata['gex'].obs['time']).unique():\n",
    "    for ep in ['NS4B214']:\n",
    "        ax = sc.pl.umap(mdata[\"gex\"], show=False, size=30)\n",
    "        sc.pl.umap(mdata[\"gex\"][(mdata[\"gex\"].obs['time']==time)], \n",
    "                       color='donor', ax = ax, show=False, size=60, cmap='Spectral_r')\n",
    "        plt.title(str(time))\n",
    "        plt.tight_layout()\n",
    "        #plt.savefig(f'clone_{clone}_donor_ambiguous.png')\n",
    "        plt.figsize=(10,10)\n",
    "        plt.show()"
   ]
  },
  {
   "cell_type": "markdown",
   "id": "fd23a675",
   "metadata": {},
   "source": [
    "## Save merged data"
   ]
  },
  {
   "cell_type": "code",
   "execution_count": null,
   "id": "92c7b735",
   "metadata": {},
   "outputs": [],
   "source": [
    "mdata.write(\"/media/agschober/HDD12/3_scRNA-Seq_Sina/2_Merge_Data/data_ALL_normalised.h5mu\")"
   ]
  },
  {
   "cell_type": "code",
   "execution_count": null,
   "id": "0f53912a",
   "metadata": {},
   "outputs": [],
   "source": [
    "import session_info\n",
    "session_info.show()"
   ]
  },
  {
   "cell_type": "code",
   "execution_count": null,
   "id": "77a7168d",
   "metadata": {},
   "outputs": [],
   "source": []
  }
 ],
 "metadata": {
  "kernelspec": {
   "display_name": "single-cell-basic",
   "language": "python",
   "name": "single-cell_env"
  },
  "language_info": {
   "codemirror_mode": {
    "name": "ipython",
    "version": 3
   },
   "file_extension": ".py",
   "mimetype": "text/x-python",
   "name": "python",
   "nbconvert_exporter": "python",
   "pygments_lexer": "ipython3",
   "version": "3.12.4"
  }
 },
 "nbformat": 4,
 "nbformat_minor": 5
}
