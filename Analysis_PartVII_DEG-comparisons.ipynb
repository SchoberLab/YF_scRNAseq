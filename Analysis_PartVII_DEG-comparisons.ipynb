{
 "cells": [
  {
   "cell_type": "markdown",
   "id": "bbb0bcb0",
   "metadata": {},
   "source": [
    "# Analysis Part VII - Differentially Expressed Genes"
   ]
  },
  {
   "cell_type": "code",
   "execution_count": null,
   "id": "acd9f414",
   "metadata": {},
   "outputs": [],
   "source": [
    "%load_ext autoreload\n",
    "%matplotlib inline\n",
    "\n",
    "import warnings\n",
    "warnings.simplefilter(action='ignore', category=FutureWarning)\n",
    "warnings.filterwarnings(action='ignore')\n",
    "import os\n",
    "import scanpy as sc\n",
    "import scirpy as ir\n",
    "import anndata as ann\n",
    "import numpy as np\n",
    "import pandas as pd\n",
    "import seaborn as sb\n",
    "import matplotlib.pyplot as plt\n",
    "from matplotlib import rcParams\n",
    "from mudata import MuData\n",
    "import mudata\n",
    "\n",
    "import tarfile\n",
    "import warnings\n",
    "from glob import glob\n",
    "\n",
    "import anndata\n",
    "import matplotlib.pyplot as plt\n",
    "import muon as mu\n",
    "import pandas as pd\n",
    "import scanpy as sc\n",
    "import scirpy as ir\n",
    "\n",
    "%autoreload 2\n",
    "import sys\n",
    "sys.path.append('..')\n",
    "import utility.annotation as utils_annotation\n",
    "import utility.representation as utils_representation\n",
    "import utility.visualisation as utils_vis"
   ]
  },
  {
   "cell_type": "code",
   "execution_count": null,
   "id": "57d469f0",
   "metadata": {},
   "outputs": [],
   "source": [
    "sc.settings.set_figure_params(dpi=150)\n",
    "sc.settings.verbosity = 3\n",
    "sc.set_figure_params(vector_friendly=True, color_map='viridis', transparent=True)\n",
    "sb.set_style('whitegrid')\n",
    "\n",
    "from matplotlib.colors import LinearSegmentedColormap\n",
    "colors = ['darkblue', 'blue', 'lightblue', '#FFEA00', 'orange', 'red', 'darkred']\n",
    "cust = LinearSegmentedColormap.from_list('custom_cmap', colors)\n",
    "colormap = cust"
   ]
  },
  {
   "cell_type": "markdown",
   "id": "90f57f21",
   "metadata": {},
   "source": [
    "## Get input data"
   ]
  },
  {
   "cell_type": "code",
   "execution_count": null,
   "id": "a9000b09",
   "metadata": {},
   "outputs": [],
   "source": [
    "mdata = mu.read('/Users/mimi/Sina/data_specificity_annotated_final_pseudotime_cite.h5mu')"
   ]
  },
  {
   "cell_type": "markdown",
   "id": "2a242f14-200c-4b5f-b1e3-5e90e08ca808",
   "metadata": {},
   "source": [
    "## Differences between Day0 naive and Dayx naive cells"
   ]
  },
  {
   "cell_type": "code",
   "execution_count": null,
   "id": "0fa48c3e-1f38-48ba-a2b1-ae9a01ceb5a4",
   "metadata": {},
   "outputs": [],
   "source": [
    "adata_tmp = mdata[\"gex\"][(mdata[\"gex\"].obs['time'].isin(['d0', 'd365'])) & (mdata[\"gex\"].obs['specific_new'].isin(['NS4B214'])) & (mdata[\"gex\"].obs['FACS_Phenotype_v3'].isin(['N']))]\n",
    "adata_tmp"
   ]
  },
  {
   "cell_type": "code",
   "execution_count": null,
   "id": "72ed69c3-b5a2-4ced-aaf7-0342e7f4975c",
   "metadata": {},
   "outputs": [],
   "source": [
    "adata_tmp = mdata[\"gex\"][(mdata[\"gex\"].obs['time'].isin(['d0', 'd365'])) & (mdata[\"gex\"].obs['specific_new'].isin(['NS4B214'])) & (mdata[\"gex\"].obs['FACS_Phenotype_v3'].isin(['N']))]\n",
    "sc.tl.rank_genes_groups(adata_tmp, groupby='time', groups=['d0', 'd365'], reference='d365', key_added=f'DEG_d0_d365_NS4B214_naive_results')\n",
    "    \n",
    "names = pd.DataFrame(adata_tmp.uns[f'DEG_d0_d365_NS4B214_naive_results']['names'])\n",
    "scores = pd.DataFrame(adata_tmp.uns[f'DEG_d0_d365_NS4B214_naive_results']['scores'])\n",
    "pvals_adj = pd.DataFrame(adata_tmp.uns[f'DEG_d0_d365_NS4B214_naive_results']['pvals_adj'])\n",
    "logfoldchanges = pd.DataFrame(adata_tmp.uns[f'DEG_d0_d365_NS4B214_naive_results']['logfoldchanges'])\n",
    "\n",
    "names.columns = ['names']\n",
    "scores.columns = ['scores']\n",
    "pvals_adj.columns = ['padj']\n",
    "logfoldchanges.columns = ['logfc']\n",
    "\n",
    "DEG = pd.concat([names, scores, pvals_adj, logfoldchanges], axis=1)\n",
    "    \n",
    "up = DEG[(DEG['logfc']>1) & (DEG['padj']<0.05)]\n",
    "up.to_csv(f'/Users/mimi/Sina/7_DEG/DEG_d0_over_d365_specific_naive_cells_genes_up.csv')\n",
    "    \n",
    "down = DEG[(DEG['logfc']<-1) & (DEG['padj']<0.05)]\n",
    "down.to_csv(f'/Users/mimi/Sina/7_DEG/DEG_d0_over_d365_specific_naive_cells_genes_down.csv')"
   ]
  },
  {
   "cell_type": "code",
   "execution_count": null,
   "id": "571c4458-ef4c-4324-b368-d7a734aadf1a",
   "metadata": {},
   "outputs": [],
   "source": [
    "adata_tmp.obs"
   ]
  },
  {
   "cell_type": "code",
   "execution_count": null,
   "id": "96ae927d-5fd5-4803-8c3c-eb20ae6f3931",
   "metadata": {},
   "outputs": [],
   "source": [
    "adata_tmp = mdata[\"gex\"][(mdata[\"gex\"].obs['time'].isin(['d0', 'd365'])) & (mdata[\"gex\"].obs['specific_new'].isin(['NS4B214'])) & (mdata[\"gex\"].obs['leiden'].isin(['4', '10']))]\n",
    "sc.tl.rank_genes_groups(adata_tmp, groupby='time', groups=['d0', 'd365'], reference='d365', key_added=f'DEG_d0_d365_NS4B214_results')\n",
    "    \n",
    "names = pd.DataFrame(adata_tmp.uns[f'DEG_d0_d365_NS4B214_results']['names'])\n",
    "scores = pd.DataFrame(adata_tmp.uns[f'DEG_d0_d365_NS4B214_results']['scores'])\n",
    "pvals_adj = pd.DataFrame(adata_tmp.uns[f'DEG_d0_d365_NS4B214_results']['pvals_adj'])\n",
    "logfoldchanges = pd.DataFrame(adata_tmp.uns[f'DEG_d0_d365_NS4B214_results']['logfoldchanges'])\n",
    "\n",
    "names.columns = ['names']\n",
    "scores.columns = ['scores']\n",
    "pvals_adj.columns = ['padj']\n",
    "logfoldchanges.columns = ['logfc']\n",
    "\n",
    "DEG = pd.concat([names, scores, pvals_adj, logfoldchanges], axis=1)\n",
    "    \n",
    "up = DEG[(DEG['logfc']>1) & (DEG['padj']<0.05)]\n",
    "up.to_csv(f'/Users/mimi/Sina/7_DEG/DEG_d0_over_d365_specific_cells_genes_up.csv')\n",
    "    \n",
    "down = DEG[(DEG['logfc']<-1) & (DEG['padj']<0.05)]\n",
    "down.to_csv(f'/Users/mimi/Sina/7_DEG/DEG_d0_over_d365_specific_cells_genes_down.csv')"
   ]
  },
  {
   "cell_type": "markdown",
   "id": "3fb9674c",
   "metadata": {},
   "source": [
    "## Differences between NS4B214 specific and unspecific cells per time"
   ]
  },
  {
   "cell_type": "code",
   "execution_count": null,
   "id": "cf88d9ed",
   "metadata": {},
   "outputs": [],
   "source": [
    "time = ['d0', 'd7', 'd11', 'd14', 'd21', 'd28', 'd49', 'd90', 'd365', 'dx']\n",
    "\n",
    "for t in time:\n",
    "    adata_tmp = mdata[\"gex\"][mdata[\"gex\"].obs['time']==t]\n",
    "    sc.tl.rank_genes_groups(adata_tmp, groupby='specific_new', groups=['NS4B214', 'no_binding'], reference='no_binding', key_added=f'DEG_{t}_NS4B214_results')\n",
    "    \n",
    "    names = pd.DataFrame(adata_tmp.uns[f'DEG_{t}_NS4B214_results']['names'])\n",
    "    scores = pd.DataFrame(adata_tmp.uns[f'DEG_{t}_NS4B214_results']['scores'])\n",
    "    pvals_adj = pd.DataFrame(adata_tmp.uns[f'DEG_{t}_NS4B214_results']['pvals_adj'])\n",
    "    logfoldchanges = pd.DataFrame(adata_tmp.uns[f'DEG_{t}_NS4B214_results']['logfoldchanges'])\n",
    "\n",
    "    names.columns = ['names']\n",
    "    scores.columns = ['scores']\n",
    "    pvals_adj.columns = ['padj']\n",
    "    logfoldchanges.columns = ['logfc']\n",
    "\n",
    "    DEG = pd.concat([names, scores, pvals_adj, logfoldchanges], axis=1)\n",
    "    \n",
    "    up = DEG[(DEG['logfc']>1) & (DEG['padj']<0.05)]\n",
    "    up.to_csv(f'/media/agschober/HDD12/3_scRNA-Seq_Sina/7_DEG/DEG_{t}_NS4B214_over_nobinding_genes_up.csv')\n",
    "    \n",
    "    down = DEG[(DEG['logfc']<-1) & (DEG['padj']<0.05)]\n",
    "    down.to_csv(f'/media/agschober/HDD12/3_scRNA-Seq_Sina/7_DEG/DEG_{t}_NS4B214_over_nobinding_genes_down.csv')"
   ]
  },
  {
   "cell_type": "code",
   "execution_count": null,
   "id": "f4b1765e",
   "metadata": {},
   "outputs": [],
   "source": [
    "sc.pl.umap(mdata['gex'], color='leiden')"
   ]
  },
  {
   "cell_type": "markdown",
   "id": "02e3b147",
   "metadata": {},
   "source": [
    "## Difference Cluster 4 and 10"
   ]
  },
  {
   "cell_type": "code",
   "execution_count": null,
   "id": "6e90268d",
   "metadata": {},
   "outputs": [],
   "source": [
    "sc.tl.rank_genes_groups(mdata[\"gex\"], groupby='leiden', groups=['4', '10'], reference='4', key_added='DEG_4_10_results')"
   ]
  },
  {
   "cell_type": "code",
   "execution_count": null,
   "id": "f4df1fdc",
   "metadata": {},
   "outputs": [],
   "source": [
    "names = pd.DataFrame(mdata[\"gex\"].uns['DEG_4_10_results']['names'])\n",
    "scores = pd.DataFrame(mdata[\"gex\"].uns['DEG_4_10_results']['scores'])\n",
    "pvals_adj = pd.DataFrame(mdata[\"gex\"].uns['DEG_4_10_results']['pvals_adj'])\n",
    "logfoldchanges = pd.DataFrame(mdata[\"gex\"].uns['DEG_4_10_results']['logfoldchanges'])\n",
    "\n",
    "names.columns = ['names']\n",
    "scores.columns = ['scores']\n",
    "pvals_adj.columns = ['padj']\n",
    "logfoldchanges.columns = ['logfc']\n",
    "\n",
    "DEG4_10 = pd.concat([names, scores, pvals_adj, logfoldchanges], axis=1)"
   ]
  },
  {
   "cell_type": "code",
   "execution_count": null,
   "id": "2b61d07f",
   "metadata": {},
   "outputs": [],
   "source": [
    "up = DEG4_10[(DEG4_10['logfc']>1) & (DEG4_10['padj']<0.05)]\n",
    "up.to_csv(f'/media/agschober/HDD12/3_scRNA-Seq_Sina/7_DEG/DEG_cluster_10_over_4_genes_up.csv')"
   ]
  },
  {
   "cell_type": "code",
   "execution_count": null,
   "id": "e5770c08",
   "metadata": {},
   "outputs": [],
   "source": [
    "down = DEG4_10[(DEG4_10['logfc']<-1) & (DEG4_10['padj']<0.05)]\n",
    "down.to_csv(f'/media/agschober/HDD12/3_scRNA-Seq_Sina/7_DEG/DEG_cluster_10_over_4_genes_down.csv')"
   ]
  },
  {
   "cell_type": "markdown",
   "id": "661598b5",
   "metadata": {},
   "source": [
    "## Difference Cluster 4 and 10 only specific cells"
   ]
  },
  {
   "cell_type": "code",
   "execution_count": null,
   "id": "b1bfcbc6",
   "metadata": {},
   "outputs": [],
   "source": [
    "mdata_tmp = mdata[\"gex\"][mdata['gex'].obs['specific_new']=='NS4B214']"
   ]
  },
  {
   "cell_type": "code",
   "execution_count": null,
   "id": "842c59dc",
   "metadata": {},
   "outputs": [],
   "source": [
    "sc.tl.rank_genes_groups(mdata_tmp, groupby='leiden', groups=['4', '10'], reference='4', key_added='DEG_4_10_specific_results')"
   ]
  },
  {
   "cell_type": "code",
   "execution_count": null,
   "id": "9e5491be",
   "metadata": {},
   "outputs": [],
   "source": [
    "names = pd.DataFrame(mdata_tmp.uns['DEG_4_10_specific_results']['names'])\n",
    "scores = pd.DataFrame(mdata_tmp.uns['DEG_4_10_specific_results']['scores'])\n",
    "pvals_adj = pd.DataFrame(mdata_tmp.uns['DEG_4_10_specific_results']['pvals_adj'])\n",
    "logfoldchanges = pd.DataFrame(mdata_tmp.uns['DEG_4_10_specific_results']['logfoldchanges'])\n",
    "\n",
    "names.columns = ['names']\n",
    "scores.columns = ['scores']\n",
    "pvals_adj.columns = ['padj']\n",
    "logfoldchanges.columns = ['logfc']\n",
    "\n",
    "DEG4_10 = pd.concat([names, scores, pvals_adj, logfoldchanges], axis=1)"
   ]
  },
  {
   "cell_type": "code",
   "execution_count": null,
   "id": "5580e49c",
   "metadata": {},
   "outputs": [],
   "source": [
    "up = DEG4_10[(DEG4_10['logfc']>1) & (DEG4_10['padj']<0.05)]\n",
    "up.to_csv(f'/media/agschober/HDD12/3_scRNA-Seq_Sina/7_DEG/DEG_cluster_10_over_4_genes_up_specific_cells.csv')"
   ]
  },
  {
   "cell_type": "code",
   "execution_count": null,
   "id": "ff04327b",
   "metadata": {},
   "outputs": [],
   "source": [
    "down = DEG4_10[(DEG4_10['logfc']<-1) & (DEG4_10['padj']<0.05)]\n",
    "down.to_csv(f'/media/agschober/HDD12/3_scRNA-Seq_Sina/7_DEG/DEG_cluster_10_over_4_genes_down_specific_cells.csv')"
   ]
  },
  {
   "cell_type": "markdown",
   "id": "76282610",
   "metadata": {},
   "source": [
    "## Difference specific cells, FACS naive cells from Day 0 versus other time points"
   ]
  },
  {
   "cell_type": "code",
   "execution_count": null,
   "id": "c8d94cb9",
   "metadata": {},
   "outputs": [],
   "source": [
    "mdata_tmp = mdata[\"gex\"][(mdata['gex'].obs['specific_new']=='NS4B214')&(mdata['gex'].obs['FACS_Phenotype']=='N')]\n",
    "mdata_tmp.obs['help_time'] = 'd0'\n",
    "mdata_tmp.obs['help_time'][mdata_tmp.obs['time'] != 'd0'] = 'dx'"
   ]
  },
  {
   "cell_type": "code",
   "execution_count": null,
   "id": "490af83e",
   "metadata": {},
   "outputs": [],
   "source": [
    "sc.tl.rank_genes_groups(mdata_tmp, groupby='help_time', groups=['d0', 'dx'], reference='d0', key_added='DEG_d0_other_specific_results')"
   ]
  },
  {
   "cell_type": "code",
   "execution_count": null,
   "id": "ea85aec9",
   "metadata": {},
   "outputs": [],
   "source": [
    "names = pd.DataFrame(mdata_tmp.uns['DEG_d0_other_specific_results']['names'])\n",
    "scores = pd.DataFrame(mdata_tmp.uns['DEG_d0_other_specific_results']['scores'])\n",
    "pvals_adj = pd.DataFrame(mdata_tmp.uns['DEG_d0_other_specific_results']['pvals_adj'])\n",
    "logfoldchanges = pd.DataFrame(mdata_tmp.uns['DEG_d0_other_specific_results']['logfoldchanges'])\n",
    "\n",
    "names.columns = ['names']\n",
    "scores.columns = ['scores']\n",
    "pvals_adj.columns = ['padj']\n",
    "logfoldchanges.columns = ['logfc']\n",
    "\n",
    "DEG4_10 = pd.concat([names, scores, pvals_adj, logfoldchanges], axis=1)"
   ]
  },
  {
   "cell_type": "code",
   "execution_count": null,
   "id": "36652691",
   "metadata": {},
   "outputs": [],
   "source": [
    "up = DEG4_10[(DEG4_10['logfc']>1) & (DEG4_10['padj']<0.05)]\n",
    "up.to_csv(f'/media/agschober/HDD12/3_scRNA-Seq_Sina/7_DEG/DEG_other_over_d0_genes_up_specific_cells.csv')"
   ]
  },
  {
   "cell_type": "code",
   "execution_count": null,
   "id": "67053d48",
   "metadata": {},
   "outputs": [],
   "source": [
    "down = DEG4_10[(DEG4_10['logfc']<-1) & (DEG4_10['padj']<0.05)]\n",
    "down.to_csv(f'/media/agschober/HDD12/3_scRNA-Seq_Sina/7_DEG/DEG_other_over_d0_genes_down_specific_cells.csv')"
   ]
  },
  {
   "cell_type": "markdown",
   "id": "e52eff0c",
   "metadata": {},
   "source": [
    "## Difference of specific cells of Day 0 and Day x"
   ]
  },
  {
   "cell_type": "code",
   "execution_count": null,
   "id": "48c427d9",
   "metadata": {},
   "outputs": [],
   "source": [
    "mdata_tmp = mdata[\"gex\"][(mdata['gex'].obs['specific_new']=='NS4B214')]"
   ]
  },
  {
   "cell_type": "code",
   "execution_count": null,
   "id": "1a021a49",
   "metadata": {},
   "outputs": [],
   "source": [
    "sc.tl.rank_genes_groups(mdata_tmp, groupby='time', groups=['d0', 'dx'], reference='d0', key_added='DEG_d0_dx_specific_results')"
   ]
  },
  {
   "cell_type": "code",
   "execution_count": null,
   "id": "f7f4f12a",
   "metadata": {},
   "outputs": [],
   "source": [
    "names = pd.DataFrame(mdata_tmp.uns['DEG_d0_dx_specific_results']['names'])\n",
    "scores = pd.DataFrame(mdata_tmp.uns['DEG_d0_dx_specific_results']['scores'])\n",
    "pvals_adj = pd.DataFrame(mdata_tmp.uns['DEG_d0_dx_specific_results']['pvals_adj'])\n",
    "logfoldchanges = pd.DataFrame(mdata_tmp.uns['DEG_d0_dx_specific_results']['logfoldchanges'])\n",
    "\n",
    "names.columns = ['names']\n",
    "scores.columns = ['scores']\n",
    "pvals_adj.columns = ['padj']\n",
    "logfoldchanges.columns = ['logfc']\n",
    "\n",
    "DEG4_10 = pd.concat([names, scores, pvals_adj, logfoldchanges], axis=1)"
   ]
  },
  {
   "cell_type": "code",
   "execution_count": null,
   "id": "660740ab",
   "metadata": {},
   "outputs": [],
   "source": [
    "up = DEG4_10[(DEG4_10['logfc']>1) & (DEG4_10['padj']<0.05)]\n",
    "up.to_csv(f'/media/agschober/HDD12/3_scRNA-Seq_Sina/7_DEG/DEG_dx_over_d0_genes_up_specific_cells.csv')"
   ]
  },
  {
   "cell_type": "code",
   "execution_count": null,
   "id": "68746a1c",
   "metadata": {},
   "outputs": [],
   "source": [
    "down = DEG4_10[(DEG4_10['logfc']<-1) & (DEG4_10['padj']<0.05)]\n",
    "down.to_csv(f'/media/agschober/HDD12/3_scRNA-Seq_Sina/7_DEG/DEG_dx_over_d0_genes_down_specific_cells.csv')"
   ]
  },
  {
   "cell_type": "markdown",
   "id": "78693e36",
   "metadata": {},
   "source": [
    "## Dotplots of Markergenes per Cluster"
   ]
  },
  {
   "cell_type": "code",
   "execution_count": null,
   "id": "64a8277a",
   "metadata": {},
   "outputs": [],
   "source": [
    "marker = pd.DataFrame(mdata[\"gex\"].uns['rank_genes_groups_leiden']['names'])\n",
    "genes = list(set(marker.values.flatten().tolist()))"
   ]
  },
  {
   "cell_type": "code",
   "execution_count": null,
   "id": "a3351197",
   "metadata": {},
   "outputs": [],
   "source": [
    "sc.pl.dotplot(mdata[\"gex\"], genes, show=True, groupby='leiden', title='Cluster marker genes by Leiden',\n",
    "                     swap_axes=True, dendrogram=True, standard_scale='var')"
   ]
  },
  {
   "cell_type": "code",
   "execution_count": null,
   "id": "60eafca3",
   "metadata": {},
   "outputs": [],
   "source": [
    "sc.tl.rank_genes_groups(mdata[\"gex\"], 'leiden', n_genes=10)"
   ]
  },
  {
   "cell_type": "code",
   "execution_count": null,
   "id": "51cc1d6c",
   "metadata": {},
   "outputs": [],
   "source": [
    "#top 5 variable\n",
    "sc.pl.rank_genes_groups_dotplot(mdata[\"gex\"], n_genes=5, standard_scale='var', cmap=cust)"
   ]
  },
  {
   "cell_type": "code",
   "execution_count": null,
   "id": "a4593e13",
   "metadata": {},
   "outputs": [],
   "source": [
    "var_names = {'Naive': ['CCR7', 'RPL32', 'RPS13', 'RPL13', 'SELL'],\n",
    "              'CM': ['IL7R', 'PABPC1', 'RPLP1', 'RPS12', 'FTH1', 'S100A11', 'RPL13', 'RPL8'],\n",
    "              'EM': ['GZMK', 'CXCR3', 'GAPDH', 'CCL5', 'CST7', 'HLA-A', 'CLIC3', 'TRAV12-2'],\n",
    "              'EF': ['CCL5', 'CST7', 'NKG7', 'APOBEC3G', 'CXCR3', 'GZMH', 'GNLY', 'GZMB'],\n",
    "              'IFN EF': ['IFITM1', 'LY6E', 'ISG20', 'IFI6', 'MX1', 'NKG7', 'CCL5'],\n",
    "              'Cycling': ['CD74', 'ACTG1', 'ACTB', 'GAPDH', 'PFN1'],\n",
    "              'Resting memory': ['LTB', 'CCR7', 'EIF1', 'NFKB2', 'ZFAS1', 'BTG1', 'RELB', 'CREM'] }\n",
    "\n",
    "markers_short = {'Naive': ['RPL32', 'RPS13', 'SELL'],\n",
    "              'CM': ['IL7R', 'PABPC1', 'RPLP1', 'RPS12', 'FTH1', 'S100A11', 'RPL8'],\n",
    "              'EM': ['GZMK', 'HLA-A', 'CLIC3', 'TRAV12-2'],\n",
    "              'EF': ['APOBEC3G', 'GZMH', 'GNLY', 'GZMB'],\n",
    "              'IFN EF': ['IFITM1', 'LY6E', 'ISG20', 'IFI6', 'MX1'],\n",
    "              'Cycling': ['CD74', 'ACTG1', 'ACTB', 'PFN1'],\n",
    "              'Resting memory': ['LTB', 'EIF1', 'NFKB2', 'ZFAS1', 'BTG1', 'RELB', 'CREM'] }\n",
    "\n",
    "sc.pl.dotplot(mdata[\"gex\"], markers_short, groupby='leiden', dendrogram=True,\n",
    "             standard_scale='var', var_group_positions=[(0,3)], cmap=cust)\n",
    "plt.savefig(\"/media/agschober/HDD12/3_scRNA-Seq_Sina/7_DEG/Dotplot_marker_genes_labelled.png\")\n",
    "\n"
   ]
  },
  {
   "cell_type": "markdown",
   "id": "85b51cc4",
   "metadata": {},
   "source": [
    "## Interesting gene sets"
   ]
  },
  {
   "cell_type": "markdown",
   "id": "339d2355",
   "metadata": {},
   "source": [
    "#### Glycolysis genes regulated on RNA level according to Wu et al 2023"
   ]
  },
  {
   "cell_type": "code",
   "execution_count": null,
   "id": "18a8df3d",
   "metadata": {},
   "outputs": [],
   "source": [
    "var_names = {'Glycolysis': ['PFKL', 'ALDOA', 'GAPDH', 'ENO1', 'PKM', 'SLC2A3']}\n",
    "\n",
    "sc.pl.dotplot(mdata[\"gex\"], var_names, groupby='leiden', dendrogram=True,\n",
    "             standard_scale='var', swap_axes=True, cmap=cust)\n",
    "plt.savefig(\"/media/agschober/HDD12/3_scRNA-Seq_Sina/7_DEG/Dotplot_gylcolysis_genes.png\")"
   ]
  },
  {
   "cell_type": "markdown",
   "id": "c60efaff",
   "metadata": {},
   "source": [
    "#### MTOR genes"
   ]
  },
  {
   "cell_type": "code",
   "execution_count": null,
   "id": "1f6e1a01",
   "metadata": {},
   "outputs": [],
   "source": [
    "var_names = {'MTORC1': ['MTOR', 'RPTOR', 'MLST8', 'DEPTOR'],\n",
    "             'MTORC2': ['MTOR', 'RICTOR', 'MLST8', 'DEPTOR'],\n",
    "             'TSC': ['TSC1', 'TSC2'],\n",
    "             'AMPK': ['PRKAA1', 'PRKAA2', 'PRKAB1', 'PRKAB2', 'PRKAG1', 'PRKAG2', 'PRKAG3']}\n",
    "\n",
    "sc.pl.dotplot(mdata[\"gex\"], var_names, groupby='leiden', dendrogram=True,\n",
    "             standard_scale='var', swap_axes=True, cmap=cust)\n",
    "plt.savefig(\"/media/agschober/HDD12/3_scRNA-Seq_Sina/7_DEG/Dotplot_mtor_genes.png\")"
   ]
  },
  {
   "cell_type": "markdown",
   "id": "463ef15b",
   "metadata": {},
   "source": [
    "#### Interesting genes from Zehn et al 2022, Wu et al 2023"
   ]
  },
  {
   "cell_type": "code",
   "execution_count": null,
   "id": "e5bffa04",
   "metadata": {},
   "outputs": [],
   "source": [
    "var_names = {'Glycolysis': ['PFKL', 'ALDOA', 'GAPDH', 'ENO1', 'PKM', 'SLC2A3'],\n",
    "             'Lipid synthesis': ['SREBF1', 'SREBF2', 'FASN', 'ACACA'],\n",
    "             'AA Transporter': ['SLC1A5', 'SLC7A1', 'SLC38A1', 'SLC38A2', 'SLC7A5'],\n",
    "             'Lactate Transporter': ['SLC16A1', 'SLC16A3'],\n",
    "             'Regulator': ['MYC', 'NFATC1', 'NFATC2', 'NFKB1', 'NFKB2','JAK1', 'JAK2', 'JAK3'],\n",
    "             'Survival': ['ID3', 'BCL2', 'TOX', 'EGR2'],\n",
    "             'Differentiation': ['NR4A1', 'NR4A2', 'NR4A3', 'EOMES', 'MYB', 'BCL6', 'PRDM1', 'TCF7', 'IL7R']}\n",
    "\n",
    "sc.pl.dotplot(mdata[\"gex\"], var_names, groupby='leiden', dendrogram=True,\n",
    "             standard_scale='var', swap_axes=False, cmap=cust)\n",
    "plt.savefig(\"/media/agschober/HDD12/3_scRNA-Seq_Sina/7_DEG/Dotplot_Zehn2022_Wu2023_genes.png\")"
   ]
  },
  {
   "cell_type": "markdown",
   "id": "3926a246",
   "metadata": {},
   "source": [
    "#### Other genes"
   ]
  },
  {
   "cell_type": "code",
   "execution_count": null,
   "id": "024831be",
   "metadata": {},
   "outputs": [],
   "source": [
    "genes = ['FOXO1', 'FOXO3', 'RICTOR', 'RPTOR', 'FOXP1', 'PIK3CD', 'AKT1', 'PTEN', 'IL7R', 'KLF2', 'S1PR1',\n",
    "        'EIF4G1', 'ACACA', 'ACACB', 'TSC1', 'TSC2', 'IRF4', 'MYC', 'SCAP', 'NR1H3', 'SREBF1', 'SREBF2',\n",
    "        'SLC1A5', 'SLC7A5', 'SLC2A1', 'NFKB1', 'NFKB2', 'RHEB', 'GLS', 'MPC1', 'MPC2', 'PDK1', 'HIF1A',\n",
    "        'VHL', 'LDHA', 'HK2', 'TFRC', 'CTLA4', 'TIGIT', 'PDCD1', 'CD69']\n",
    "\n",
    "genes2 = ['FOXO1', 'RICTOR', 'RPTOR', 'FOXP1', 'PIK3CD', 'AKT1', 'PTEN', 'IL7R', 'KLF2', 'S1PR1',\n",
    "        'IRF4', 'MYC', 'SREBF1', 'SLC1A5', 'SLC7A5', 'SLC2A1', 'NFKB1', 'NFKB2', 'RHEB', 'GLS', 'MPC1', \n",
    "          'MPC2', 'PDK1', 'HIF1A', 'LDHA', 'TFRC', 'TIGIT', 'PDCD1', 'CD69', 'JUNB', 'GAPDH']\n",
    "\n",
    "genes3 = ['FOXO1', 'RICTOR', 'RPTOR', 'FOXP1', 'PIK3CD', 'AKT1', 'PTEN', 'IL7R', 'KLF2', 'S1PR1',\n",
    "        'IRF4', 'MYC', 'SREBF1', 'SLC1A5', 'SLC7A5', 'SLC2A1', 'NFKB1', 'NFKB2', 'RHEB', 'GLS', 'MPC1', \n",
    "          'MPC2', 'PDK1', 'HIF1A', 'LDHA', 'TFRC', 'TIGIT', 'PDCD1', 'CD69', 'JUNB', 'GAPDH', 'B2M', 'ETS1',\n",
    "         'LEF1', 'PBXIP1', 'JAK1', 'LBH', 'TLE5', 'MAGED2', 'ELF1', 'STK17B', 'SORL1', 'SQSTM1', 'TXNIP',\n",
    "         'RIPOR2', 'CD247', 'ALDOA', 'PGK1', 'EEF1A1', 'CD40LG', 'RPS27A', 'LCP2', 'CD69', 'NR4A1', 'NR4A2', \n",
    "          'CREB1', 'ATXN2L', 'RPL19', 'DDX5', 'TOP1', 'RBM39', 'SRSF2',\n",
    "         'RBMX', 'RBM3', 'CLINT1', 'SLC2A3', 'MKI67']\n",
    "\n",
    "genes4 = ['LCP2', 'CD69', 'NR4A1', 'NR4A2', 'CREB1', 'ATXN2L', 'RPL19', 'DDX5', 'TOP1', 'RBM39', 'SRSF2',\n",
    "         'RBMX', 'RBM3', 'CLINT1', 'SLC2A3']\n",
    "\n",
    "genes5 = ['BTG1', 'BTG2', 'PHLPP1', 'KLF3', 'KLF4', 'TCF7', 'BACH2', 'FOXO1', 'KLF2', 'SATB1', 'LEF1', 'RUNX1',\n",
    "         'RUNX2', 'BATF', 'TBX21', 'IRF4', 'IFNG', 'H2AFX']\n",
    "\n",
    "#AES is TLE5, FAM65B is  RIPOR2 \n",
    "\n",
    "plot = sc.pl.dotplot(mdata[\"gex\"], genes5, show=True, groupby='leiden', dendrogram=True, title='Genes By Leiden', cmap=cust)\n",
    "plt.savefig(\"/media/agschober/HDD12/3_scRNA-Seq_Sina/7_DEG/Dotplot_geneset5.png\")"
   ]
  },
  {
   "cell_type": "markdown",
   "id": "cceecbb7",
   "metadata": {},
   "source": [
    "#### Mitochondria structure proteins"
   ]
  },
  {
   "cell_type": "code",
   "execution_count": null,
   "id": "55b3f4d8",
   "metadata": {},
   "outputs": [],
   "source": [
    "mito = ['AFG1L', 'PTCD2', 'TMEM135', 'PRKN', 'ADCK1', 'RAB32', 'VPS13C', 'DNM1L', 'SUPV3L1', 'HSD17B10',\n",
    "         'WASF1', 'ATAD3B', 'CAV2', 'FEZ1', 'MTFR1', 'RHOT1', 'PLEC', 'LETMD1', 'OPA1',\n",
    "         'MFF', 'FANCG', 'SLIRP', 'MARCKS', 'ATAD3A', 'ATAD3C', 'PINK1', 'PARP1', 'SELENON', 'SIRT5',\n",
    "         'MSTO1', 'STOML2', 'FXN', 'MAN2A1', 'COL6A1', 'GSK3B', 'SHARPIN', 'FIS1', 'NUBPL',\n",
    "         'HTRA2', 'CEBPA', 'MTX3', 'CERT1', 'TMEM11', 'DNAJA3', 'MTX2', 'ARMCX3', 'ATP7A', 'POLDIP2', 'RAB3A', \n",
    "         'BCS1L', 'CLUH', 'MIEF2', 'SIRT4', 'CHCHD2', 'NIPSNAP2', 'MTFR2', 'MTM1', 'AGTPBP1', 'PANK2',\n",
    "         'MTX1', 'CAMKMT', 'PPARGC1A', 'WDR81', 'TERT', 'CXADR', 'VPS54', 'YME1L1', 'PUM2', 'MYH14',\n",
    "         'PRDX3', 'CHCHD10', 'P2RX7', 'LIPA', 'LONP1', 'PID1', 'PYROXD2', 'PHB2', 'PNPT1',\n",
    "         'LRRK2', 'RHOT2', 'PARK7', 'CEP89', 'SLC25A36', 'SLC25A33', 'EPAS1', 'RAB29',\n",
    "         'RAB38', 'NOA1', 'EDN1', 'GABPB1', 'NOS3', 'HMGCL']\n",
    "\n",
    "#exclude: CHCHD2P9, KIF28P, TAFAZZIN, MT-RNR2, PHB1 (not found)"
   ]
  },
  {
   "cell_type": "code",
   "execution_count": null,
   "id": "2c9d3a1e",
   "metadata": {},
   "outputs": [],
   "source": [
    "plot = sc.pl.dotplot(mdata[\"gex\"], mito, show=True, groupby='leiden', dendrogram=True, title='Genes By Leiden', cmap=cust)\n",
    "plt.savefig(\"/media/agschober/HDD12/3_scRNA-Seq_Sina/7_DEG/Dotplot_mitochondrial_structure_genes.png\")"
   ]
  },
  {
   "cell_type": "markdown",
   "id": "da95e096",
   "metadata": {},
   "source": [
    "#### TSCM genes"
   ]
  },
  {
   "cell_type": "code",
   "execution_count": null,
   "id": "189983cd",
   "metadata": {},
   "outputs": [],
   "source": [
    "tscm = ['CD27', 'CD28', 'IL7R', 'SELL', 'CCR7', 'CXCR3', 'ITGAL', 'MKI67', 'ATXN1', 'IL2RB', 'WNT3A', 'CD58']\n",
    "\n",
    "#genes that decrease from naive to effector (Wang et al 2022)\n",
    "dec = ['TCF7', 'LEF1', 'EOMES', 'FOXP1', 'CERS6', 'BCL2']\n",
    "\n",
    "#genes that increase from naive to effector (Wang et al 2022)\n",
    "inc = ['TBX21', 'PRDM1', 'GZMA', 'PRF1', 'IL2', 'IFNG', 'KLRG1']"
   ]
  },
  {
   "cell_type": "code",
   "execution_count": null,
   "id": "afa347df",
   "metadata": {},
   "outputs": [],
   "source": [
    "plot = sc.pl.dotplot(mdata[\"gex\"], tscm, show=True, groupby='leiden', dendrogram=True, title='Genes By Leiden', cmap=cust)\n",
    "plt.savefig(\"/media/agschober/HDD12/3_scRNA-Seq_Sina/7_DEG/Dotplot_tscm_genes.png\")"
   ]
  },
  {
   "cell_type": "code",
   "execution_count": null,
   "id": "eaff748b",
   "metadata": {},
   "outputs": [],
   "source": [
    "plot = sc.pl.dotplot(mdata[\"gex\"], dec, show=True, groupby='leiden', dendrogram=True, title='Genes By Leiden', cmap=cust)\n",
    "plt.savefig(\"/media/agschober/HDD12/3_scRNA-Seq_Sina/7_DEG/Dotplot_decreasing_N_to_EF_genes.png\")"
   ]
  },
  {
   "cell_type": "code",
   "execution_count": null,
   "id": "ffcc9e87",
   "metadata": {},
   "outputs": [],
   "source": [
    "plot = sc.pl.dotplot(mdata[\"gex\"], inc, show=True, groupby='leiden', dendrogram=True, title='Genes By Leiden', cmap=cust)\n",
    "plt.savefig(\"/media/agschober/HDD12/3_scRNA-Seq_Sina/7_DEG/Dotplot_increasing_N_to_EF_genes.png\")"
   ]
  },
  {
   "cell_type": "code",
   "execution_count": null,
   "id": "8755b6e0",
   "metadata": {},
   "outputs": [],
   "source": [
    "plot = sc.pl.dotplot(mdata[\"gex\"][(mdata[\"gex\"].obs['leiden'].isin(['4'])) & \n",
    "                                  mdata[\"gex\"].obs['specific_new'].isin(['NS4B214', 'no_binding'])], \n",
    "                     genes3, show=True, groupby='specific_new', title='Cluster 4', cmap=cust)\n",
    "plt.savefig(\"/media/agschober/HDD12/3_scRNA-Seq_Sina/7_DEG/Dotplot_cluster4_specific_geneset3.png\")"
   ]
  },
  {
   "cell_type": "code",
   "execution_count": null,
   "id": "b5a7b37a",
   "metadata": {},
   "outputs": [],
   "source": [
    "plot = sc.pl.dotplot(mdata[\"gex\"][(mdata[\"gex\"].obs['leiden'].isin(['10'])) & \n",
    "                                  mdata[\"gex\"].obs['specific_new'].isin(['NS4B214', 'no_binding'])], \n",
    "                     genes3, show=True, groupby='specific_new', title='Cluster 10', cmap=cust)\n",
    "plt.savefig(\"/media/agschober/HDD12/3_scRNA-Seq_Sina/7_DEG/Dotplot_cluster10_specific_geneset3.png\")"
   ]
  },
  {
   "cell_type": "code",
   "execution_count": null,
   "id": "0c9c2a65",
   "metadata": {},
   "outputs": [],
   "source": []
  }
 ],
 "metadata": {
  "kernelspec": {
   "display_name": "single-cell_env",
   "language": "python",
   "name": "single-cell_env"
  },
  "language_info": {
   "codemirror_mode": {
    "name": "ipython",
    "version": 3
   },
   "file_extension": ".py",
   "mimetype": "text/x-python",
   "name": "python",
   "nbconvert_exporter": "python",
   "pygments_lexer": "ipython3",
   "version": "3.12.7"
  }
 },
 "nbformat": 4,
 "nbformat_minor": 5
}
